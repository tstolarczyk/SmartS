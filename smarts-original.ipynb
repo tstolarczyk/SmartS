{
 "cells": [
  {
   "cell_type": "markdown",
   "metadata": {
    "deletable": true,
    "editable": true
   },
   "source": [
    "# Sparse Method Algorithm for Research of Transcients Signal\n",
    "\n",
    "Find transient source in data cubes\n",
    "\n",
    "F. Acero, T. Stolarczyk, A. Chalumeau, Juin 2018\n",
    "\n",
    "This notebook will:\n",
    "1. Simulation (generate_cube_simu)\n",
    "    - generate the fake data cubes (X,Y,T)\n",
    "    - Filter the noise in the cubes with different methods\n",
    "    - Find the peak (burst) in the data\n",
    "    - Measure how well the methods performed\n",
    "2. Produce diagnostic and result plots (plot_slice)\n",
    "\n",
    "3. Produce performance plots based on Monte-Carlo\n",
    "\n",
    "Some scenarios are considered: \n",
    "1. Transcient source position known:\n",
    "    - Appearing in the FoV : known background\n",
    "    - Generalist case : background evaluated online\n",
    "2. Unknown position:\n",
    "    - Wavelet cleaning\n",
    "\n",
    "All the code is pure Python with the exception of the denoising step which requires the binary file msvst_2d1d."
   ]
  },
  {
   "cell_type": "code",
   "execution_count": 9,
   "metadata": {
    "collapsed": true,
    "deletable": true,
    "editable": true
   },
   "outputs": [],
   "source": [
    "%matplotlib inline\n",
    "import numpy as np\n",
    "import matplotlib.pyplot as plt\n",
    "from matplotlib.colors import PowerNorm\n",
    "import matplotlib.gridspec as gridspec\n",
    "#from matplotlib.colors import Normalize\n",
    "\n",
    "from gammapy.stats import significance\n",
    "\n",
    "from astropy.convolution import convolve,convolve_fft,Gaussian1DKernel,Gaussian2DKernel,Tophat2DKernel\n",
    "from astropy.visualization import simple_norm\n",
    "from astropy.io import fits\n",
    "from astropy.wcs import WCS\n",
    "from astropy.coordinates import SkyCoord,Angle\n",
    "from astropy.wcs import WCS\n",
    "import astropy.units as u\n",
    "from astropy.table import Table\n",
    "\n",
    "from scipy.stats import norm\n",
    "from scipy import interpolate\n",
    "from scipy.ndimage import zoom\n",
    "\n",
    "from mpl_toolkits.mplot3d import Axes3D\n",
    "from ipywidgets import interact, fixed\n",
    "import os,subprocess,sys,getpass,copy\n",
    "import time as systime\n",
    "import multiprocessing as mp\n",
    "from functools import partial\n",
    "from collections import defaultdict\n",
    "\n",
    "#import line_profiler\n",
    "#%load_ext line_profiler\n",
    "#from scipy.stats import chisqprob\n",
    "#from scipy.special import erfinv,erf,erfcx\n",
    "\n",
    "import smartcube as smart"
   ]
  },
  {
   "cell_type": "code",
   "execution_count": 10,
   "metadata": {
    "collapsed": true,
    "deletable": true,
    "editable": true
   },
   "outputs": [],
   "source": [
    "### Styles\n",
    "# Define some plotting parameters and styles\n",
    "#print(plt.style.available)\n",
    "#plt.style.use('seaborn-talk')\n",
    "plt.style.use('ggplot')\n",
    "\n",
    "plt.rcParams['image.cmap'] = 'jet'\n",
    "plt.rcParams['image.origin'] = 'lower'\n",
    "plt.rcParams['image.interpolation'] = 'nearest'"
   ]
  },
  {
   "cell_type": "code",
   "execution_count": 3,
   "metadata": {
    "collapsed": false,
    "deletable": true,
    "editable": true,
    "scrolled": false
   },
   "outputs": [
    {
     "name": "stdout",
     "output_type": "stream",
     "text": [
      "Defining variables for user Stolar\n"
     ]
    },
    {
     "ename": "NameError",
     "evalue": "name 'root_dir' is not defined",
     "output_type": "error",
     "traceback": [
      "\u001b[1;31m---------------------------------------------------------------------------\u001b[0m",
      "\u001b[1;31mNameError\u001b[0m                                 Traceback (most recent call last)",
      "\u001b[1;32m<ipython-input-3-93dd64caea5d>\u001b[0m in \u001b[0;36m<module>\u001b[1;34m()\u001b[0m\n\u001b[0;32m     13\u001b[0m     \u001b[0mbin_dir\u001b[0m    \u001b[1;33m=\u001b[0m \u001b[0mroot_dir\u001b[0m \u001b[1;33m+\u001b[0m \u001b[1;34m\"bin/\"\u001b[0m\u001b[1;33m\u001b[0m\u001b[0m\n\u001b[0;32m     14\u001b[0m \u001b[1;33m\u001b[0m\u001b[0m\n\u001b[1;32m---> 15\u001b[1;33m \u001b[0minput_dir\u001b[0m  \u001b[1;33m=\u001b[0m \u001b[0mroot_dir\u001b[0m \u001b[1;33m+\u001b[0m \u001b[1;34m\"GRB-Fermi/FAWT3D/FermiData/\"\u001b[0m\u001b[1;33m\u001b[0m\u001b[0m\n\u001b[0m\u001b[0;32m     16\u001b[0m \u001b[0moutput_dir\u001b[0m \u001b[1;33m=\u001b[0m \u001b[0mroot_dir\u001b[0m \u001b[1;33m+\u001b[0m \u001b[1;34m\"GRB-Fermi/FAWT3D/output/\"\u001b[0m\u001b[1;33m\u001b[0m\u001b[0m\n\u001b[0;32m     17\u001b[0m \u001b[0mmsvst\u001b[0m      \u001b[1;33m=\u001b[0m \u001b[0mbin_dir\u001b[0m  \u001b[1;33m+\u001b[0m \u001b[1;34m\"msvst_2d1d\"\u001b[0m\u001b[1;33m\u001b[0m\u001b[0m\n",
      "\u001b[1;31mNameError\u001b[0m: name 'root_dir' is not defined"
     ]
    }
   ],
   "source": [
    "#### Global variables and initialisations\n",
    "# Path to the binary file - This is lame and adding the binary file to somewhere accesible by $PATH shoud be enough.\n",
    "#prog='/Users/facero/Documents/Work/CTA/CTA-AIM/code/image-cleaning/msvst/build/msvst_2d1d'\n",
    "\n",
    "user = getpass.getuser()\n",
    "print(\"Defining variables for user\",user)\n",
    "exit\n",
    "if (user==\"achalume\"):\n",
    "    root_dir   = \"/Users/achalume/Documents/Stage/Codes/\" \n",
    "    bin_dir    = \"/Users/achalume/Documents/Lib_files/Sparse2D/build/\"\n",
    "elif (user==\"stolar\"):\n",
    "    root_dir   = \"/home/stolar/Code/\" \n",
    "    bin_dir    = root_dir + \"bin/\"\n",
    "\n",
    "input_dir  = root_dir + \"GRB-Fermi/FAWT3D/FermiData/\"\n",
    "output_dir = root_dir + \"GRB-Fermi/FAWT3D/output/\"\n",
    "msvst      = bin_dir  + \"msvst_2d1d\"\n",
    "score_dir  = root_dir + \"GRB-Fermi/FAWT3D/scores/\"\n",
    "fig_dir    = root_dir + \"GRB-Fermi/FAWT3D/Figures/\"\n",
    "\n",
    "#### Check existences\n",
    "if not os.path.exists(output_dir) :\n",
    "    os.makedirs(output_dir)\n",
    "if not os.path.exists(fig_dir) :\n",
    "    os.makedirs(fig_dir)\n",
    "if not os.path.exists(score_dir) :\n",
    "    os.makedirs(score_dir)\n",
    "    \n",
    "print(\"Directories :\")\n",
    "print(\"    - Root              :\",root_dir)\n",
    "print(\"    - MSVST_2d1d binary :\",bin_dir)\n",
    "print(\"    - Input             :\",input_dir)\n",
    "print(\"    - Output            :\",output_dir)\n",
    "print(\"    - Scores            :\",score_dir)\n",
    "print(\"    - Figures           :\",fig_dir)"
   ]
  },
  {
   "cell_type": "markdown",
   "metadata": {
    "deletable": true,
    "editable": true
   },
   "source": [
    "# LC function"
   ]
  },
  {
   "cell_type": "code",
   "execution_count": null,
   "metadata": {
    "collapsed": true,
    "deletable": true,
    "editable": true
   },
   "outputs": [],
   "source": [
    "def LCBinChange(pre_t,pre_LC,fact_T_bin):\n",
    "    \"\"\"\n",
    "    Re-bin a light curve multiplying the initial bin size with fact_T_bin. Returns : new_t,new_LC\n",
    "    \"\"\"\n",
    "    \n",
    "    alpha = fact_T_bin\n",
    "    new_t = np.zeros(int(len(pre_t)/alpha)) ; new_LC = np.zeros(len(new_t))\n",
    "    for i in range(0,len(new_t)):\n",
    "        new_t[i] = pre_t[int(i*alpha)]\n",
    "        new_LC[i] = np.sum(pre_LC[int((alpha*i)):int((alpha*i)+alpha)])\n",
    "   \n",
    "    return new_t,new_LC\n",
    "\n",
    "############################################\n",
    "def NormLC(LC,value,time,tmin,tmax):\n",
    "    \"\"\"\n",
    "    Norm a range in a light curve (SUM(LC) = value from tmin to tmax). Returns : Normed_LC\n",
    "    \"\"\"\n",
    "    \n",
    "    LC_range = LC[np.where((time>=tmin) & (time<=tmax))]\n",
    "    Norm_range_LC = value * (LC_range/np.sum(LC_range))\n",
    "\n",
    "    for i in range(0,len(LC_range)) : \n",
    "        if LC_range[i]!=0 : LC_val = LC_range[i] ; step = i ; break # choose the first non null arg\n",
    "\n",
    "    Totalfactor = Norm_range_LC[step]/LC_val\n",
    "\n",
    "    Normed_LC = Totalfactor * LC\n",
    "    \n",
    "    return Normed_LC\n",
    "\n",
    "############################################\n",
    "def InterpFunction(x_val,y_val,x_val_new):\n",
    "    \"\"\"\n",
    "    Interpolate y(x) to get an approached function (y_new) with a given xtable (x_val_new). Returns : y_new\n",
    "    \"\"\"\n",
    "    \n",
    "    f = interpolate.interp1d(x_val,y_val)\n",
    "    y_new = f(x_val_new)\n",
    "    \n",
    "    return y_new\n",
    "\n",
    "############################################\n",
    "def MakeLCTh(timebin,Xi,Tmintot,Tmaxtot,Ntotrange,Tminrange,Tmaxrange):\n",
    "    \"\"\"\n",
    "    Make the theoretical LC normalizing at Ntotrange from Tminrange to Tmaxrange. Returns : Time, LC\n",
    "    \"\"\"\n",
    "    \n",
    "    T_0 = Tmintot\n",
    "    Time = np.arange(Tmintot,Tmaxtot+timebin,timebin)\n",
    "    K = (T_0**Xi) * (1+Xi) / (Tmaxtot**(1+Xi) - Tmintot**(1+Xi))\n",
    "    LC = K * (Time/T_0)**Xi\n",
    "    \n",
    "    LC_norm = NormLC(LC,Ntotrange,Time,Tminrange,Tmaxrange)\n",
    "    \n",
    "    return Time,LC_norm\n",
    "\n",
    "############################################\n",
    "def MakeLCFa(datafile,Timebin,Bin_Factor,Ntotrange,Tminrange,Tmaxrange):\n",
    "    \"\"\"\n",
    "    From Fabio's file, make LC normalizing at Ntotrange from Tminrange to Tmaxrange\\\n",
    "    choosing an initial bin size (Timebin). Returns : Time,LC\n",
    "    \"\"\"\n",
    "    \n",
    "    TimeData,LCData = np.loadtxt(datafile,unpack=True)\n",
    "    Time = TimeData - TimeData[0] ; Time_size = TimeData[-1] - TimeData[0]   \n",
    "    \n",
    "    # Decrease time bin using an interpolation\n",
    "    TimeInterp  = [x*Timebin for x in range(0,int(Time_size/Timebin),1)]\n",
    "    TimeInterp = np.array(TimeInterp)\n",
    "    LC = InterpFunction(Time,LCData,TimeInterp)\n",
    "    \n",
    "    LC_norm = NormLC(LC,Ntotrange,TimeInterp,Tminrange,Tmaxrange)\n",
    "    T_input,LC_input = LCBinChange(TimeInterp,LC_norm,Bin_Factor) \n",
    "    \n",
    "    return T_input,LC_input\n",
    "\n",
    "############################################\n",
    "def MakeLCIn(datafile,Timebin,Bin_Factor,Ntotrange,Tminrange,Tmaxrange):\n",
    "    \"\"\"\n",
    "    From Inoue's extrapolated LC, make LC normalizing at Ntotrange from Tminrange to Tmaxrange.\\\n",
    "    Initial time bin (0.5) taken from the article. Returns : Time, LC\n",
    "    \"\"\"\n",
    "    \n",
    "    TData,LCData = np.genfromtxt(datafile,unpack=True,skip_header=6)\n",
    "\n",
    "    # Set time values\n",
    "    TData_0 = round(TData[0]) ; TData_end = np.round(TData[-1]/Timebin)*(Timebin)\n",
    "    Time = np.linspace(TData_0,TData_end,len(TData))\n",
    "    # Set LC values\n",
    "    LC = LCData * Timebin # Put light curve in counts (it was in Cts/Bin before)\n",
    "    LC = np.rint(LC).astype(int) # Set counts values\n",
    "\n",
    "    LC_norm = NormLC(LC,Ntotrange,Time,Tminrange,Tmaxrange)\n",
    "    T_input,LC_input = LCBinChange(Time,LC_norm,Bin_Factor)\n",
    "\n",
    "    return T_input,LC_input"
   ]
  },
  {
   "cell_type": "markdown",
   "metadata": {
    "deletable": true,
    "editable": true
   },
   "source": [
    "# Cube fonctions"
   ]
  },
  {
   "cell_type": "code",
   "execution_count": null,
   "metadata": {
    "collapsed": true,
    "deletable": true,
    "editable": true
   },
   "outputs": [],
   "source": [
    "def BkgCube(time,SteadSrcPeak,bkg):\n",
    "    \"\"\"\n",
    "    Creates the background model cube from a background value and a steady source peak.\\\n",
    "    Returns : BkgCube\n",
    "    \"\"\"\n",
    "    BkgToycube = smart.CreateBkgModelCube(time,sigmaX,sigmaY,SteadSrcPeak,bkg,n2Dsize,sigma_vignetting,pixelsize)\n",
    "    BkgCube = smart.NoiseCube(BkgToycube)\n",
    "    \n",
    "    return BkgCube\n",
    "\n",
    "############################################\n",
    "def ImageCube(LC,time,SrcPeak,xcent,ycent,SteadSrcPeak,bkg):\n",
    "    \"\"\"\n",
    "    Creates a cube containing bkg + transcient source. Returns : Cube \n",
    "    \"\"\"\n",
    "    \n",
    "    BkgToycube = smart.CreateBkgModelCube(time,sigmaX,sigmaY,SteadSrcPeak,bkg,n2Dsize,sigma_vignetting,pixelsize)    \n",
    "    \n",
    "    #Create cubes' lists\n",
    "    SrcCube = smart.CreateSignalModelCube(LC,SrcPeak,xcent,ycent,sigmaX,sigmaY,n2Dsize,sigma_vignetting,pixelsize)\n",
    "    NoisyCube = smart.NoiseCube(SrcCube+BkgToycube)\n",
    "    \n",
    "    return NoisyCube\n",
    "\n",
    "############################################\n",
    "def BkgModelCube(time,tmin,tmax,tbin,SteadSrcPeak,bkg):\n",
    "    \"\"\"\n",
    "    Create a bkg model cube (size = time) containing at each timebin the same image corresponding\\\n",
    "    to an evaluated bkg estimated from tmin to tmax (with tbin).Returns : BkgModelCube\n",
    "    \"\"\"\n",
    "    \n",
    "    TimeAccum = np.arange(tmin,tmax+1,tbin)\n",
    "\n",
    "    BkgToycube = smart.CreateBkgModelCube(TimeAccum,sigmaX,sigmaY,SteadSrcPeak,bkg,n2Dsize,sigma_vignetting,pixelsize)\n",
    "    BkgNoisyCube = smart.NoiseCube(BkgToycube)\n",
    "    BkgMeanImage = smart.CumulCube(BkgNoisyCube)[:,:,-1]/(len(TimeAccum))\n",
    "    \n",
    "    BkgModelCube = np.zeros((len(BkgToycube[:,0,0]),len(BkgToycube[0,:,0]),len(time)))\n",
    "    for t in range(0,len(time)):\n",
    "        BkgModelCube[:,:,t] = BkgMeanImage\n",
    "    \n",
    "    return BkgModelCube\n",
    "\n",
    "############################################\n",
    "def DerivCleaning(cube_noise):\n",
    "    \"\"\"\n",
    "    Cube cleaning where each timebin image is subtracted with its precedent (Gives a cube with a N-1 size !).\\\n",
    "    The cube is then smoothed with convolve_fft. Returns : Smoothed cleaned Cube \n",
    "    \"\"\"\n",
    "    \n",
    "    gauss = Gaussian2DKernel(1.5)\n",
    "    cube_noise_temp=copy.deepcopy(cube_noise)\n",
    "    \n",
    "    #### \"Derivates\" noisy cube\n",
    "    cube_deriv = cube_noise_temp[...,1:] - cube_noise[...,:-1]\n",
    "\n",
    "    #### Smoothing slices using fft convolution fft between derivated slices and gaussian 2D kernel\n",
    "    cube_smoo_deriv = np.zeros_like(cube_deriv,dtype=float)\n",
    "    for k in range(0,np.shape(cube_deriv)[2]): #Smooth each slice of the cube of image derivative\n",
    "        cube_smoo_deriv[:,:,k]=convolve_fft(cube_deriv[:,:,k], gauss)\n",
    "    \n",
    "    #### Shift slices in time (from t to t-1) to get the good max slice \n",
    "    cube_smoo_deriv[...,1:] = cube_smoo_deriv[...,:-1]\n",
    "    \n",
    "    return cube_smoo_deriv\n",
    "\n",
    "############################################\n",
    "def BkgSubCleaning(cube_noise,cube_background):\n",
    "    \"\"\"\n",
    "    Cube cleaning from a same sized bkg cube subtraction. The cube is then smoothed with convolve_fft.\\\n",
    "    Returns : Smoothed cleaned Cube\n",
    "    \"\"\"\n",
    "    \n",
    "    gauss = Gaussian2DKernel(1.5)\n",
    "    \n",
    "    #(-cube_bkg) if other brighter source in FoV (Cf. Fabio's presentation)\n",
    "    cube_bkg_sub = cube_noise - cube_background \n",
    "    \n",
    "    cube_smoo_sub = np.zeros_like(cube_bkg_sub,dtype=float)\n",
    "    for k in range(0,np.shape(cube_bkg_sub)[2]): #Smooth each slice of the cube of image derivative\n",
    "        cube_smoo_sub[:,:,k]=convolve_fft(cube_bkg_sub[:,:,k], gauss)\n",
    "    \n",
    "    return cube_smoo_sub\n",
    "\n",
    "############################################\n",
    "def WavCleaning(cube_noisy_file,wc_file,cube_bkg_file,command):\n",
    "    \"\"\"\n",
    "    Cube cleaning using wavelet transforms with msvst_2d1d (a shift is made to fix some argues,\\\n",
    "    maybe it should be seen better). Returns : Cube cleaned\n",
    "    \"\"\"\n",
    "    \n",
    "    cmd='%s  %s %s %s %s '%(msvst,command,cube_noisy_file,wc_file,cube_bkg_file)\n",
    "    subprocess.call(cmd,shell=True) # USE msvst_2d1d FILE\n",
    "\n",
    "    #### Read wavelets cleaned cube file\n",
    "    cube_wc,header_wc = smart.ReadCubeFromFile(wc_file,'fits')\n",
    "    \n",
    "    #### Cube shifting to fix msvst_2d1d's shift \n",
    "    cube_wc_shift = copy.deepcopy(cube_wc)\n",
    "    cube_wc_shift[...,:-1] = cube_wc[...,1:] # Shift (time) to (time-1) (to see if its from msvst_2d1d)\n",
    "    \n",
    "    return cube_wc_shift"
   ]
  },
  {
   "cell_type": "markdown",
   "metadata": {
    "deletable": true,
    "editable": true
   },
   "source": [
    "# Ring & Reflected function"
   ]
  },
  {
   "cell_type": "code",
   "execution_count": 4,
   "metadata": {
    "collapsed": true,
    "deletable": true,
    "editable": true
   },
   "outputs": [],
   "source": [
    "def CubeRingSignif(Cube,meth,Sigma_On,Sigma_OffIn,Sigma_OffOut,Xcen,Ycen,Xsig,Ysig):\n",
    "    \"\"\"\n",
    "    Evaluates cube significance using ring-background model method. Returns : Signif_curve \n",
    "    \"\"\"\n",
    "    \n",
    "    Signif = []\n",
    "    for t in range(0,len(Cube[0,0,:])):\n",
    "        Signif.append(ImageRingSignif(Cube[:,:,t],meth,Sigma_On,Sigma_OffIn,Sigma_OffOut,Xcen,Ycen,Xsig,Ysig))\n",
    "    SignifRingCube = np.array(Signif)\n",
    "    \n",
    "    return SignifRingCube\n",
    "\n",
    "############################################\n",
    "def ImageRingSignif(Image,meth,SigmaOn,SigmaOffIn,SigmaOffOut,Xcenter,Ycenter,Xsigma,Ysigma):\n",
    "    \"\"\"\n",
    "    Returns the significance functions of a \"cube image\" knowing where is the source ; meth = 'lima', 'simple'\n",
    "    \"\"\"\n",
    "    \n",
    "    x = np.linspace(0,n2Dsize-1,n2Dsize)\n",
    "    y = np.linspace(0,n2Dsize-1,n2Dsize)\n",
    "    x,y = np.meshgrid(x, y)\n",
    "    CorrFunc = smart.twoD_Gaussian(x,y,1,n2Dsize/2,n2Dsize/2,\\\n",
    "                                           sigma_vignetting/pixelsize,sigma_vignetting/pixelsize,0,0)\n",
    "    ImageCorr = Image/CorrFunc\n",
    "    \n",
    "    ImageOut,ImageOn = smart.SepSourceBkgImage(ImageCorr,Xcenter,Ycenter,Xsigma,Ysigma,SigmaOn)\n",
    "    ImageOff = smart.MakeRingImage(ImageCorr,Xcenter,Ycenter,SigmaOffIn,SigmaOffOut,Xsigma,Ysigma)\n",
    "    \n",
    "    ton  = np.size(ImageOn[np.where(~np.isnan(ImageOn))])\n",
    "    toff = np.size(ImageOff[np.where(~np.isnan(ImageOff))])\n",
    "    alpha = ton / toff\n",
    "                                   \n",
    "    Non  = np.nansum(ImageOn)\n",
    "    Noff = np.nansum(ImageOff)\n",
    "    \n",
    "    mu_bkg = Noff * alpha\n",
    "        \n",
    "    Signif = significance(Non, mu_bkg, method=meth)[0]\n",
    "    \n",
    "    return Signif\n",
    "\n",
    "############################################\n",
    "def CubeReflectedSignif(Cube,meth,Sigma_On,Xcen,Ycen,Xsig,Ysig):\n",
    "    \n",
    "    Signif = []\n",
    "    for t in range(0,len(Cube[0,0,:])):\n",
    "        Signif.append(ImageReflectedSignif(Cube[:,:,t],meth,Sigma_On,Xcen,Ycen,Xsig,Ysig))\n",
    "    SignifRingCube = np.array(Signif)\n",
    "    \n",
    "    return SignifRingCube\n",
    "\n",
    "############################################\n",
    "def ImageReflectedSignif(Image,meth,Sigmafact,XOn,YOn,Xsigma,Ysigma):\n",
    "    \"\"\"\n",
    "    Returns the significance functions of a \"cube image\" knowing where is the source ; meth = 'lima', 'simple'\n",
    "    \"\"\"\n",
    "    \n",
    "    ImageOut,ImageOn = smart.SepSourceBkgImage(Image,XOn,YOn,Xsigma,Ysigma,Sigmafact)\n",
    "    ton = len(ImageOn[np.where(~np.isnan(ImageOn))])\n",
    "    Non = np.nansum(ImageOn)\n",
    "    \n",
    "    Xcen = n2Dsize/2 ; Ycen = n2Dsize/2\n",
    "    DistOn = smart.ImageDistance(XOn,YOn,Xcen,Ycen)\n",
    "    ThetaOn = np.arccos((XOn-Xcen)/DistOn)\n",
    "    \n",
    "    d = 5 # distance between 2 circles' centers are 3xradius\n",
    "    radius = Sigmafact*np.sqrt(sigmaX**2+sigmaY**2)\n",
    "    Circ = 2*np.pi*DistOn\n",
    "    NOffRegions = int(Circ/(d*radius))\n",
    "    \n",
    "    ImageOff = {}\n",
    "    NormNoff = []\n",
    "    for i in range(1,NOffRegions+1):\n",
    "        Xnew = Xcen + DistOn*np.cos(ThetaOn+((i*d*radius)/DistOn))\n",
    "        Ynew = Xcen - DistOn*np.sin(ThetaOn+((i*d*radius)/DistOn))\n",
    "        ImageOut2,ImageOff[i] = smart.SepSourceBkgImage(Image,Xnew,Ynew,Xsigma,Ysigma,Sigmafact)\n",
    "        \n",
    "        toff = len(ImageOff[i][np.where(~np.isnan(ImageOff[i]))])\n",
    "        Noff = np.nansum(ImageOff[i])\n",
    "        NormNoff.append((ton/toff)*Noff)\n",
    "        \n",
    "    mu_bkg = np.mean(NormNoff)\n",
    "    \n",
    "    Signif = significance(Non,mu_bkg,method=meth)[0]\n",
    "    return Signif\n",
    "\n"
   ]
  },
  {
   "cell_type": "markdown",
   "metadata": {
    "deletable": true,
    "editable": true
   },
   "source": [
    "# For performances"
   ]
  },
  {
   "cell_type": "code",
   "execution_count": 5,
   "metadata": {
    "collapsed": true,
    "deletable": true,
    "editable": true
   },
   "outputs": [],
   "source": [
    "def ArrValPercent(Arr_val,percent):\n",
    "    \"\"\"\n",
    "    Take an array or list, and gives the maximum value corresponding to the lowest (percent)% in all values.\\\n",
    "    Returns : Value\n",
    "    \"\"\"\n",
    "    \n",
    "    Arr_val = np.array(Arr_val)\n",
    "    Arr_valsort = np.sort(Arr_val)\n",
    "    Nth_val = int(percent*len(Arr_valsort))\n",
    "    \n",
    "    Value = Arr_valsort[Nth_val-1]\n",
    "    \n",
    "    return Value"
   ]
  },
  {
   "cell_type": "code",
   "execution_count": 6,
   "metadata": {
    "collapsed": true,
    "deletable": true,
    "editable": true
   },
   "outputs": [],
   "source": [
    "def DetectorEff(xp,yp):\n",
    "    \"\"\"\n",
    "    Detector efficiency calculator at (xp,yp). Returns : Eff value \n",
    "    \"\"\"\n",
    "    \n",
    "    x = np.linspace(0, n2Dsize-1, n2Dsize)\n",
    "    y = np.linspace(0, n2Dsize-1, n2Dsize)\n",
    "    x,y = np.meshgrid(x, y)\n",
    "    \n",
    "    # Create vignetting to be applied to image and transcient signal\n",
    "    vign = smart.twoD_Gaussian(x, y, 1, n2Dsize/2,n2Dsize/2,\\\n",
    "                           sigma_vignetting/pixelsize, sigma_vignetting/pixelsize, 0, 0)\n",
    "    Eff = vign[xp,yp]\n",
    "    \n",
    "    return Eff"
   ]
  },
  {
   "cell_type": "markdown",
   "metadata": {
    "deletable": true,
    "editable": true
   },
   "source": [
    "# Instrument response function"
   ]
  },
  {
   "cell_type": "code",
   "execution_count": 7,
   "metadata": {
    "collapsed": false,
    "deletable": true,
    "editable": true,
    "scrolled": false
   },
   "outputs": [
    {
     "name": "stdout",
     "output_type": "stream",
     "text": [
      "Instrument response function\n",
      "----------------------------\n",
      "  Field of view       :  4.5\n",
      "  Pixel size          :  0.05\n",
      "  N. of pixels        :  90 x 90\n",
      "  Mean CTA background :  0.01  (cts/s/pix, 50<E<500 GeV)\n"
     ]
    }
   ],
   "source": [
    "FOV               = 4.5    #width in degrees\n",
    "pixelsize         = 0.05   #in degrees\n",
    "n2Dsize           = int(FOV/pixelsize)\n",
    "sigma_vignetting  = 1.8    # (deg) from ctobssim\n",
    "sigma_PSF         = 0.07   # (deg) 21 March  2018 : This value is a bit optimistic (PSF at 500 GeV)\n",
    "background        = 0.01    # cts/s/pixel in E=50-500 GeV at center of FoV. Tbin=10s bkg=0.1\n",
    "sigmaX, sigmaY   = float(sigma_PSF/pixelsize),  float(sigma_PSF/pixelsize) # Point like source\n",
    "\n",
    "print(\"Instrument response function\")\n",
    "print(\"----------------------------\")\n",
    "print(\"  Field of view       : \",FOV)\n",
    "print(\"  Pixel size          : \",pixelsize)\n",
    "print(\"  N. of pixels        : \",n2Dsize,\"x\",n2Dsize)\n",
    "print(\"  Mean CTA background : \",background,\" (cts/s/pix, 50<E<500 GeV)\")\n",
    "\n"
   ]
  },
  {
   "cell_type": "markdown",
   "metadata": {
    "deletable": true,
    "editable": true
   },
   "source": [
    "# My Main"
   ]
  },
  {
   "cell_type": "markdown",
   "metadata": {
    "deletable": true,
    "editable": true
   },
   "source": [
    "# Position known : known background"
   ]
  },
  {
   "cell_type": "markdown",
   "metadata": {
    "deletable": true,
    "editable": true
   },
   "source": [
    "# Make LC and cubes"
   ]
  },
  {
   "cell_type": "code",
   "execution_count": 8,
   "metadata": {
    "collapsed": false,
    "deletable": true,
    "editable": true,
    "scrolled": true
   },
   "outputs": [
    {
     "ename": "NameError",
     "evalue": "name 'MakeLCTh' is not defined",
     "output_type": "error",
     "traceback": [
      "\u001b[1;31m---------------------------------------------------------------------------\u001b[0m",
      "\u001b[1;31mNameError\u001b[0m                                 Traceback (most recent call last)",
      "\u001b[1;32m<ipython-input-8-0296d8e3e7d0>\u001b[0m in \u001b[0;36m<module>\u001b[1;34m()\u001b[0m\n\u001b[0;32m     17\u001b[0m \u001b[0mt_min_norm_Th\u001b[0m \u001b[1;33m=\u001b[0m \u001b[1;36m35\u001b[0m\u001b[1;33m\u001b[0m\u001b[0m\n\u001b[0;32m     18\u001b[0m \u001b[0mt_max_norm_Th\u001b[0m \u001b[1;33m=\u001b[0m \u001b[1;36m55\u001b[0m\u001b[1;33m\u001b[0m\u001b[0m\n\u001b[1;32m---> 19\u001b[1;33m \u001b[0mT_input\u001b[0m\u001b[1;33m[\u001b[0m\u001b[0mTh_name\u001b[0m\u001b[1;33m]\u001b[0m\u001b[1;33m,\u001b[0m\u001b[0mLC_input\u001b[0m\u001b[1;33m[\u001b[0m\u001b[0mTh_name\u001b[0m\u001b[1;33m]\u001b[0m \u001b[1;33m=\u001b[0m    \u001b[0mMakeLCTh\u001b[0m\u001b[1;33m(\u001b[0m\u001b[0mTbin_input\u001b[0m\u001b[1;33m[\u001b[0m\u001b[0mTh_name\u001b[0m\u001b[1;33m]\u001b[0m\u001b[1;33m,\u001b[0m\u001b[0mxi\u001b[0m\u001b[1;33m,\u001b[0m\u001b[0mt_min_Th\u001b[0m\u001b[1;33m,\u001b[0m\u001b[0mt_max_Th\u001b[0m\u001b[1;33m,\u001b[0m\u001b[0mNtot_norm_Th\u001b[0m\u001b[1;33m,\u001b[0m\u001b[0mt_min_norm_Th\u001b[0m\u001b[1;33m,\u001b[0m\u001b[0mt_max_norm_Th\u001b[0m\u001b[1;33m)\u001b[0m\u001b[1;33m\u001b[0m\u001b[0m\n\u001b[0m\u001b[0;32m     20\u001b[0m \u001b[1;33m\u001b[0m\u001b[0m\n\u001b[0;32m     21\u001b[0m \u001b[1;31m#### Make LC from Fabio\u001b[0m\u001b[1;33m\u001b[0m\u001b[1;33m\u001b[0m\u001b[0m\n",
      "\u001b[1;31mNameError\u001b[0m: name 'MakeLCTh' is not defined"
     ]
    }
   ],
   "source": [
    "##################################\n",
    "# Create 3 LC choosing normalisation range (t_min_norm,t_max_norm) and value (Ntot_norm)\n",
    "# Each LC and timecorrespond to a name.\n",
    "# Timebin[name] = Tbin_input[name]\n",
    "# Time,LC_Values = T_input[name],LC_input[name]\n",
    "##################################\n",
    "\n",
    "LC_input,T_input,t_min_norm,t_max_norm = {},{},{},{} ; Tbin_input = {}\n",
    "\n",
    "#### Make theoretical LC\n",
    "Th_name = 'Theoretical'\n",
    "Tbin_input[Th_name] = 4 # sec\n",
    "xi   = -1.4\n",
    "t_min_Th = 10 ; t_0_Th = t_min_Th\n",
    "t_max_Th = 100\n",
    "Ntot_norm_Th = 953 # From Inoue (Bkg = 5)\n",
    "t_min_norm_Th = 35\n",
    "t_max_norm_Th = 55\n",
    "T_input[Th_name],LC_input[Th_name] =\\\n",
    "    MakeLCTh(Tbin_input[Th_name],xi,t_min_Th,t_max_Th,Ntot_norm_Th,t_min_norm_Th,t_max_norm_Th)\n",
    "\n",
    "#### Make LC from Fabio\n",
    "Fa_name = 'Fabio LC'\n",
    "TBin_Fa = 1\n",
    "Bin_Factor_Fa = 6\n",
    "Tbin_input[Fa_name] = TBin_Fa*Bin_Factor_Fa\n",
    "Ntot_norm_Fa = 200\n",
    "t_min_norm_Fa = 90\n",
    "t_max_norm_Fa = 110\n",
    "data_file_Fabio = input_dir+\"LAT-GRB130427.dat\"\n",
    "T_input[Fa_name],LC_input[Fa_name] = \\\n",
    "    MakeLCFa(data_file_Fabio,TBin_Fa,Bin_Factor_Fa,Ntot_norm_Fa,t_min_norm_Fa,t_max_norm_Fa)\n",
    "\n",
    "#### Make LC from Inoue\n",
    "In_name = 'Inoue LC'\n",
    "TBin_data_In = 0.5\n",
    "Bin_Factor_In = 8\n",
    "Tbin_input[In_name] = TBin_data_In*Bin_Factor_In\n",
    "Ntot_norm_In = 907\n",
    "t_min_norm_In = 35\n",
    "t_max_norm_In = 55\n",
    "data_file_Inoue = input_dir+\"Inoue_LC_080916C.dat\"\n",
    "T_input[In_name],LC_input[In_name] =\\\n",
    "    MakeLCIn(data_file_Inoue,TBin_data_In,Bin_Factor_In,Ntot_norm_In,t_min_norm_In,t_max_norm_In)"
   ]
  },
  {
   "cell_type": "code",
   "execution_count": null,
   "metadata": {
    "collapsed": true,
    "deletable": true,
    "editable": true,
    "scrolled": false
   },
   "outputs": [],
   "source": [
    "##################################\n",
    "# Choose main parameters : Source position and values (list), steady source value, which LC from the 3.\n",
    "# Then select the differents timeranges from tnew_min until Tnew_max (array)\n",
    "# Get a dict containing a LC with different sizes\n",
    "##################################\n",
    "\n",
    "xcenter, ycenter = 15,25 # Position Center of GRB on Image (px,px)\n",
    "SteadySourcePeak = 0. # Quiescent source - intensity\n",
    "SrcPvalues = [0.01,0.05,0.1,1]; print('Src factors = %s'%(SrcPvalues))\n",
    "#SrcPvalues      = [0.1,1]    # SrcPvalues has to be a list or a tuple # Source intensity factor\n",
    "\n",
    "name = In_name # Th_name ; Fa_name ; In_name\n",
    "TimeInput = T_input[name]\n",
    "LCInput = LC_input[name]\n",
    "Bkg_input = Tbin_input[name]*background\n",
    "\n",
    "Tnew_min = 20 \n",
    "Tmaxfirst = 94\n",
    "Tstep = 100\n",
    "Tnew_max = np.arange(Tmaxfirst,TimeInput[-1]+1,Tstep)\n",
    "\n",
    "T_new,LC_new = {},{}\n",
    "for tmax in Tnew_max:\n",
    "    T_new[tmax] = TimeInput[np.where((TimeInput>=(TimeInput[0]+Tnew_min)) & (TimeInput<=tmax))]\n",
    "    LC_new[tmax] = LCInput[np.where((TimeInput>=(TimeInput[0]+Tnew_min)) & (TimeInput<=tmax))]\n",
    "\n",
    "print('tmin = %ss, tmax values (s) = %s\\nTimebin = %s s'%(np.min(T_new[tmax]),Tnew_max,Tbin_input[name]))"
   ]
  },
  {
   "cell_type": "code",
   "execution_count": null,
   "metadata": {
    "collapsed": true,
    "deletable": true,
    "editable": true
   },
   "outputs": [],
   "source": [
    "#### Create Cube bkg model and Cube source\n",
    "TminBkg, TmaxBkg,TbinBkg = 0,100,1\n",
    "Cube,CubeC = {},{}\n",
    "BkgModel,BkgModelC = {},{}\n",
    "for tmax in Tnew_max:\n",
    "    BkgModel[tmax] = BkgModelCube(T_new[tmax],TminBkg,TmaxBkg,TbinBkg,SteadySourcePeak,Bkg_input)\n",
    "    BkgModelC[tmax] = smart.CumulCube(BkgModel[tmax])\n",
    "    for Speakval in SrcPvalues:\n",
    "        Cube[tmax,Speakval] = ImageCube(LC_new[tmax],T_new[tmax],Speakval,xcenter,ycenter,SteadySourcePeak,Bkg_input)\n",
    "        CubeC[tmax,Speakval] = smart.CumulCube(Cube[tmax,Speakval])"
   ]
  },
  {
   "cell_type": "markdown",
   "metadata": {
    "deletable": true,
    "editable": true
   },
   "source": [
    "# Counting events in all the images"
   ]
  },
  {
   "cell_type": "code",
   "execution_count": null,
   "metadata": {
    "collapsed": true,
    "deletable": true,
    "editable": true
   },
   "outputs": [],
   "source": [
    "idbg = 0\n",
    "smart.PlotCubeImage(idbg,'',CubeC[tmax,0.1],T_new[tmax],30,Tbin_input[name])"
   ]
  },
  {
   "cell_type": "code",
   "execution_count": null,
   "metadata": {
    "collapsed": true,
    "deletable": true,
    "editable": true
   },
   "outputs": [],
   "source": [
    "#### Count events\n",
    "LCBkgC,LCSrcC,SignifBkgModelLC = {},{},{}\n",
    "LCBkgCtest = {}\n",
    "for tmax in Tnew_max:    \n",
    "    LCBkgC[tmax] = smart.CubeLC(BkgModelC[tmax])\n",
    "    \n",
    "    for Speakval in SrcPvalues:\n",
    "        LCSrcC[tmax,Speakval] = smart.CubeLC(CubeC[tmax,Speakval])\n",
    "        SignifBkgModelLC[tmax,Speakval] = significance(LCSrcC[tmax,Speakval],LCBkgC[tmax],'lima')"
   ]
  },
  {
   "cell_type": "code",
   "execution_count": null,
   "metadata": {
    "collapsed": true,
    "deletable": true,
    "editable": true
   },
   "outputs": [],
   "source": [
    "# Plot of Src ; Bkg \n",
    "idbg = 0\n",
    "tmax = 94 ; FluxFact = 0.1\n",
    "if idbg == 1:\n",
    "    fig, ax = plt.subplots(figsize=(10,6))\n",
    "    ax.plot(T_new[tmax],LCSrcC[tmax,FluxFact],label='Simulated light curve')\n",
    "    ax.plot(T_new[tmax],LCBkgC[tmax],label='Background model light curve',alpha=0.4)\n",
    "    #ax.set_yscale('log')\n",
    "    #ax.set_xscale('log')\n",
    "    ax.tick_params(axis='x', labelsize=15)\n",
    "    ax.tick_params(axis='y', labelsize=15)\n",
    "    ax.legend()\n",
    "    ax.set_ylabel('Counts',fontsize=15) ; ax.set_xlabel('Cumulative time [s]',fontsize=15) ; plt.show()"
   ]
  },
  {
   "cell_type": "code",
   "execution_count": null,
   "metadata": {
    "collapsed": true,
    "deletable": true,
    "editable": true
   },
   "outputs": [],
   "source": [
    "# Plot of Signif\n",
    "idbg = 0\n",
    "tmax = 94 ; FluxFact = 0.1\n",
    "if idbg == 1:\n",
    "    fig, ax = plt.subplots(figsize=(10,6))\n",
    "    ax.plot(T_new[tmax],SignifBkgModelLC[tmax,FluxFact],label='Significance')\n",
    "    ax.plot(T_new[tmax],SignifBkgModelLC[tmax,FluxFact],'.',label='Significance')\n",
    "    text = 'Bkg time range [s] : [%s-%s]\\nObservation time range [s]: [%s-%s]\\nFlux factor : %s'\\\n",
    "                                      %(TminBkg,TmaxBkg,T_new[tmax][0],T_new[tmax][-1],FluxFact)\n",
    "    ax.tick_params(axis='x', labelsize=15)\n",
    "    ax.tick_params(axis='y', labelsize=15)\n",
    "    ax.text(0.55,0.8,text, dict(size=12), transform = ax.transAxes,bbox=dict(facecolor='white', alpha=0.4))\n",
    "    ax.set_ylabel('$\\sigma$',fontsize=15) ; ax.set_xlabel('Cumulative time [s]',fontsize=15) ; plt.show()"
   ]
  },
  {
   "cell_type": "markdown",
   "metadata": {
    "deletable": true,
    "editable": true
   },
   "source": [
    "#  Selecting the zone containing the transcient source"
   ]
  },
  {
   "cell_type": "code",
   "execution_count": null,
   "metadata": {
    "collapsed": true,
    "deletable": true,
    "editable": true,
    "scrolled": true
   },
   "outputs": [],
   "source": [
    "#### Count events selecting a zone with a radius = Sigfact x SigmaPSF\n",
    "Sigfact = 2\n",
    "\n",
    "LCBkgCIn,LCSrcCIn,SignifBkgModel = {},{},{}\n",
    "for tmax in Tnew_max:    \n",
    "    BkgCOut,BkgCIn = smart.SepSourceBkgCube(BkgModelC[tmax],xcenter,ycenter,sigmaX,sigmaY,Sigfact)\n",
    "    LCBkgCIn[tmax] = smart.CubeLC(BkgCIn)\n",
    "    for Speakval in SrcPvalues:\n",
    "        SrcCOut,SrcCIn = smart.SepSourceBkgCube(CubeC[tmax,Speakval],xcenter,ycenter,sigmaX,sigmaY,Sigfact)\n",
    "        LCSrcCIn[tmax,Speakval] = smart.CubeLC(SrcCIn)\n",
    "        SignifBkgModel[tmax,Speakval] = significance(LCSrcCIn[tmax,Speakval],LCBkgCIn[tmax],'lima')"
   ]
  },
  {
   "cell_type": "code",
   "execution_count": null,
   "metadata": {
    "collapsed": true,
    "deletable": true,
    "editable": true
   },
   "outputs": [],
   "source": [
    "# Plot of Src ; Bkg \n",
    "idbg = 0\n",
    "tmax = 94 ; FluxFact = 0.1\n",
    "if idbg == 1:\n",
    "    fig, ax = plt.subplots(figsize=(10,6))\n",
    "    ax.plot(T_new[tmax],LCSrcCIn[tmax,FluxFact],label='Light curve from Inoue')\n",
    "    ax.plot(T_new[tmax],LCBkgCIn[tmax],label='Background model light curve')\n",
    "    ax.plot(T_new[tmax],LCSrcCIn[tmax,FluxFact],'.',color='r')\n",
    "    ax.plot(T_new[tmax],LCBkgCIn[tmax],'.',color='b')\n",
    "\n",
    "    ax.tick_params(axis='x', labelsize=15)\n",
    "    ax.tick_params(axis='y', labelsize=15)\n",
    "    ax.legend(fontsize=12)\n",
    "    text = 'Intensity factor =  : %s'%(FluxFact)\n",
    "    ax.text(0.02,0.72,text, dict(size=12), transform = ax.transAxes,bbox=dict(facecolor='white', alpha=0.6))\n",
    "    ax.set_ylabel('Counts',fontsize=15) ; ax.set_xlabel('Cumulative time (s)',fontsize=15) ; plt.show()"
   ]
  },
  {
   "cell_type": "code",
   "execution_count": null,
   "metadata": {
    "collapsed": true,
    "deletable": true,
    "editable": true,
    "scrolled": false
   },
   "outputs": [],
   "source": [
    "# Plot of Signif\n",
    "idbg = 0\n",
    "tmax = 94 ; FluxFact = 0.1\n",
    "if idbg == 1:\n",
    "    fig, ax = plt.subplots(figsize=(20,10))\n",
    "    ax.plot(T_new[tmax],SignifBkgModel[tmax,FluxFact])\n",
    "    ax.plot(T_new[tmax],SignifBkgModel[tmax,FluxFact],'.',color='r')\n",
    "    text = 'Bkg time range [s] : [%s-%s]\\nObservation time range [s] : [%s-%s]\\nFlux factor : %s'\\\n",
    "                                        %(TminBkg,TmaxBkg,T_new[tmax][0],T_new[tmax][-1],FluxFact)\n",
    "    ax.tick_params(axis='x', labelsize=20)\n",
    "    ax.tick_params(axis='y', labelsize=20)\n",
    "    ax.text(0.02,0.9,text, dict(size=14), transform = ax.transAxes,bbox=dict(facecolor='white', alpha=0.6))\n",
    "    ax.set_ylabel('$\\sigma$',fontsize=20) ; ax.set_xlabel('Cumulative time [s]',fontsize=20) ; plt.show()"
   ]
  },
  {
   "cell_type": "markdown",
   "metadata": {
    "deletable": true,
    "editable": true
   },
   "source": [
    "# Performances"
   ]
  },
  {
   "cell_type": "code",
   "execution_count": null,
   "metadata": {
    "collapsed": true,
    "deletable": true,
    "editable": true
   },
   "outputs": [],
   "source": [
    "SrcPvalues = []\n",
    "SrcPvalues = list(np.linspace(0.001,0.01,10))\n",
    "SrcPvalues = SrcPvalues +list(np.linspace(0.01,0.1,10))\n",
    "SrcPvalues = SrcPvalues + list(np.linspace(0.1,1,10))\n",
    "print(SrcPvalues)"
   ]
  },
  {
   "cell_type": "code",
   "execution_count": null,
   "metadata": {
    "collapsed": true,
    "deletable": true,
    "editable": true
   },
   "outputs": [],
   "source": [
    "Niterate = 100\n",
    "SignifMin = 3 ; Sigfact = 2\n",
    "TminBkg, TmaxBkg,TbinBkg = 0,60,Tbin_input[name]\n",
    "t_min = defaultdict(list)\n",
    "tmin_values = {}\n",
    "for i in range(0,Niterate):\n",
    "    \n",
    "    CubeC,BkgModel,BkgModelC = {},{},{}\n",
    "    LCBkgCIn,LCSrcCIn,SignifBkgModel = {},{},{}\n",
    "    for tmax in Tnew_max:\n",
    "        BkgModelC[tmax] = smart.CumulCube(\\\n",
    "                        BkgModelCube(T_new[tmax],TminBkg,TmaxBkg,TbinBkg,SteadySourcePeak,Bkg_input))\n",
    "        BkgCOut,BkgCIn = smart.SepSourceBkgCube(BkgModelC[tmax],xcenter,ycenter,sigmaX,sigmaY,Sigfact)\n",
    "        LCBkgCIn[tmax] = smart.CubeLC(BkgCIn)\n",
    "        \n",
    "        for Speakval in SrcPvalues:\n",
    "            CubeC[tmax,Speakval] = smart.CumulCube(\\\n",
    "                        ImageCube(LC_new[tmax],T_new[tmax],Speakval,xcenter,ycenter,SteadySourcePeak,Bkg_input))\n",
    "            SrcCOut,SrcCIn = smart.SepSourceBkgCube(CubeC[tmax,Speakval],xcenter,ycenter,sigmaX,sigmaY,Sigfact)\n",
    "            LCSrcCIn[tmax,Speakval] = smart.CubeLC(SrcCIn)\n",
    "            \n",
    "            SignifBkgModel[tmax,Speakval] = significance(LCSrcCIn[tmax,Speakval],LCBkgCIn[tmax],'lima')\n",
    "        \n",
    "            # t_min is the first time value to get the minimum significance value (SignifMin)\n",
    "            T_good = T_new[tmax][np.where(SignifBkgModel[tmax,Speakval][~np.isnan(SignifBkgModel[tmax,Speakval])] >= SignifMin)]\n",
    "            if T_good.size > 0 : t_min[tmax,Speakval].append(np.min(T_good))\n",
    "            else : t_min[tmax,Speakval].append(np.float('nan'))\n",
    "    \n",
    "            tmin_values[tmax,Speakval] = np.array(t_min[tmax,Speakval])\n",
    "    print(i+1,'done in',Niterate,end='\\r')\n"
   ]
  },
  {
   "cell_type": "code",
   "execution_count": null,
   "metadata": {
    "collapsed": true,
    "deletable": true,
    "editable": true
   },
   "outputs": [],
   "source": [
    "Valtmin = defaultdict(list)\n",
    "\n",
    "# Valtmin will be the (perc)% best value to get SignifMin as early as possible\n",
    "perc = 1\n",
    "\n",
    "Timemin = np.min(T_new[tmax]) #To begin time values at 0 (y-axe) (Not counting the time from the alert and slewing)\n",
    "for tmax in Tnew_max: \n",
    "    for Speakval in SrcPvalues:\n",
    "        Valtmin[tmax].append(ArrValPercent(tmin_values[tmax,Speakval],perc)-Timemin)"
   ]
  },
  {
   "cell_type": "code",
   "execution_count": null,
   "metadata": {
    "collapsed": true,
    "deletable": true,
    "editable": true
   },
   "outputs": [],
   "source": [
    "idbg = 1\n",
    "tmax = 94\n",
    "if idbg == 1:\n",
    "    fig, (ax) = plt.subplots(figsize=(10,6))\n",
    "    ax.plot(SrcPvalues,Valtmin[tmax],label=name)\n",
    "    ax.plot(SrcPvalues,Valtmin[tmax],'.',color='r')\n",
    "    ax.set_xlabel('Multiplicative factor of intensity',fontsize=15)\n",
    "    ax.set_ylabel('T$_{min}$ to get $\\sigma$ $\\geqslant$3 [s]',fontsize=15)\n",
    "    ax.set_xscale('log')\n",
    "    #ax.set_xlim(0.002,0.31)\n",
    "    text =  '$\\sigma_{min}$               = %s\\n'\\\n",
    "        'T$_{bin}$                = %s s\\n'\\\n",
    "        'I$_{Steady Src}$ max = %s\\n'\\\n",
    "        'x$_{cen}$, y$_{cen}$       = %s px, %s px\\n'\\\n",
    "        '\\nSignificance methods parameters :\\n'\\\n",
    "        '        N $\\sigma_{PSF}$        = %s\\n'\\\n",
    "        %(SignifMin,Tbin_input[name],SteadySourcePeak,xcenter,ycenter,Sigfact)\n",
    "    ax.text(1.05,0.3,text, dict(size=12), transform = ax.transAxes,\\\n",
    "                                        bbox=dict(facecolor='white', alpha=0.5))\n",
    "    #ax.set_title('Max[ t($\\sigma_{min}$) ] for %s %% of cases (%s iterations)'%\\\n",
    "    #                                    (int(perc*100),Niterate), dict(size=15))\n",
    "    ax.tick_params(axis='x', labelsize=15)\n",
    "    ax.tick_params(axis='y', labelsize=15)\n",
    "    plt.legend()\n",
    "    plt.show()"
   ]
  },
  {
   "cell_type": "code",
   "execution_count": null,
   "metadata": {
    "collapsed": true,
    "deletable": true,
    "editable": true
   },
   "outputs": [],
   "source": []
  },
  {
   "cell_type": "markdown",
   "metadata": {
    "deletable": true,
    "editable": true
   },
   "source": [
    "# Position known, unknown background"
   ]
  },
  {
   "cell_type": "markdown",
   "metadata": {
    "deletable": true,
    "editable": true
   },
   "source": [
    "# Make LC and cubes"
   ]
  },
  {
   "cell_type": "code",
   "execution_count": 14,
   "metadata": {
    "collapsed": true,
    "deletable": true,
    "editable": true
   },
   "outputs": [],
   "source": [
    "##################################\n",
    "# Create 3 LC choosing normalisation range (t_min_norm,t_max_norm) and value (Ntot_norm)\n",
    "# Each LC and timecorrespond to a name.\n",
    "# Timebin[name] = Tbin_input[name]\n",
    "# Time,LC_Values = T_input[name],LC_input[name]\n",
    "##################################\n",
    "\n",
    "LC_input,T_input,t_min_norm,t_max_norm = {},{},{},{} ; Tbin_input = {}\n",
    "\n",
    "#### Make theoretical LC\n",
    "Th_name = 'Theoretical'\n",
    "Tbin_input[Th_name] = 4 # sec\n",
    "xi   = -1.4\n",
    "t_min_Th = 10 ; t_0_Th = t_min_Th\n",
    "t_max_Th = 100\n",
    "Ntot_norm_Th = 953 # From Inoue (Bkg = 5)\n",
    "t_min_norm_Th = 35\n",
    "t_max_norm_Th = 55\n",
    "T_input[Th_name],LC_input[Th_name] =\\\n",
    "    MakeLCTh(Tbin_input[Th_name],xi,t_min_Th,t_max_Th,Ntot_norm_Th,t_min_norm_Th,t_max_norm_Th)\n",
    "\n",
    "#### Make LC from Fabio\n",
    "Fa_name = 'Fabio LC'\n",
    "TBin_Fa = 1\n",
    "Bin_Factor_Fa = 6\n",
    "Tbin_input[Fa_name] = TBin_Fa*Bin_Factor_Fa\n",
    "Ntot_norm_Fa = 200\n",
    "t_min_norm_Fa = 90\n",
    "t_max_norm_Fa = 110\n",
    "data_file_Fabio = input_dir+\"LAT-GRB130427.dat\"\n",
    "T_input[Fa_name],LC_input[Fa_name] = \\\n",
    "    MakeLCFa(data_file_Fabio,TBin_Fa,Bin_Factor_Fa,Ntot_norm_Fa,t_min_norm_Fa,t_max_norm_Fa)\n",
    "\n",
    "#### Make LC from Inoue\n",
    "In_name = 'Inoue LC'\n",
    "TBin_data_In = 0.5\n",
    "Bin_Factor_In = 8\n",
    "Tbin_input[In_name] = TBin_data_In*Bin_Factor_In\n",
    "Ntot_norm_In = 907\n",
    "t_min_norm_In = 35\n",
    "t_max_norm_In = 55\n",
    "data_file_Inoue = input_dir+\"Inoue_LC_080916C.dat\"\n",
    "T_input[In_name],LC_input[In_name] =\\\n",
    "    MakeLCIn(data_file_Inoue,TBin_data_In,Bin_Factor_In,Ntot_norm_In,t_min_norm_In,t_max_norm_In)"
   ]
  },
  {
   "cell_type": "code",
   "execution_count": 15,
   "metadata": {
    "collapsed": false,
    "deletable": true,
    "editable": true
   },
   "outputs": [
    {
     "name": "stdout",
     "output_type": "stream",
     "text": [
      "Src factors = [0.01, 0.05, 0.1, 1]\n",
      "tmin = 50.0s, tmax values (s) = [94.]\n",
      "Timebin = 4.0 s\n"
     ]
    }
   ],
   "source": [
    "##################################\n",
    "# Choose main parameters : Source position and values (list), steady source value, which LC from the 3.\n",
    "# Then select the differents timeranges from tnew_min until Tnew_max (array)\n",
    "# Get a dict containing a LC with different sizes\n",
    "##################################\n",
    "\n",
    "xcenter, ycenter = 15,25 # Position Center of GRB on Image (px,px)\n",
    "SteadySourcePeak = 0. # Quiescent source - intensity\n",
    "SrcPvalues = [0.01,0.05,0.1,1]; print('Src factors = %s'%(SrcPvalues))\n",
    "#SrcPvalues      = [0.1,1]    # SrcPvalues has to be a list or a tuple # Source intensity factor\n",
    "\n",
    "name = In_name # Th_name ; Fa_name ; In_name\n",
    "TimeInput = T_input[name]\n",
    "LCInput = LC_input[name]\n",
    "Bkg_input = Tbin_input[name]*background\n",
    "\n",
    "Tnew_min = 20 \n",
    "Tmaxfirst = 94\n",
    "Tstep = 100\n",
    "Tnew_max = np.arange(Tmaxfirst,TimeInput[-1]+1,Tstep)\n",
    "\n",
    "T_new,LC_new = {},{}\n",
    "for tmax in Tnew_max:\n",
    "    T_new[tmax] = TimeInput[np.where((TimeInput>=(TimeInput[0]+Tnew_min)) & (TimeInput<=tmax))]\n",
    "    LC_new[tmax] = LCInput[np.where((TimeInput>=(TimeInput[0]+Tnew_min)) & (TimeInput<=tmax))]\n",
    "\n",
    "print('tmin = %ss, tmax values (s) = %s\\nTimebin = %s s'%(np.min(T_new[tmax]),Tnew_max,Tbin_input[name]))"
   ]
  },
  {
   "cell_type": "code",
   "execution_count": 16,
   "metadata": {
    "collapsed": true,
    "deletable": true,
    "editable": true
   },
   "outputs": [],
   "source": [
    "#### Create Cube source\n",
    "Cube,CubeC = {},{}\n",
    "SignifRing = defaultdict(list)\n",
    "SignifReflected = defaultdict(list)\n",
    "\n",
    "# Ring method\n",
    "FactIn = 2 # Circle radius : FactIn x sigmaPSF\n",
    "FactRingIn,FactRingOut = 10,14 # Ring borders distances from circle center\n",
    "\n",
    "# Reflected method\n",
    "Sigfact = 2 # Circle radius : SigFact x sigmaPSF\n",
    "\n",
    "for tmax in Tnew_max:\n",
    "    for Speakval in SrcPvalues:\n",
    "        Cube[tmax,Speakval] = ImageCube(LC_new[tmax],T_new[tmax],Speakval,xcenter,ycenter,SteadySourcePeak,Bkg_input)\n",
    "        CubeC[tmax,Speakval] = smart.CumulCube(Cube[tmax,Speakval])\n",
    "        \n",
    "        # Ring-background model\n",
    "        SignifRing[tmax,Speakval] =\\\n",
    "            CubeRingSignif(CubeC[tmax,Speakval],'lima',FactIn,FactRingIn,FactRingOut,xcenter,ycenter,sigmaX,sigmaY)\n",
    "        \n",
    "        # Reflected-region-background model\n",
    "        SignifReflected[tmax,Speakval] =\\\n",
    "            CubeReflectedSignif(CubeC[tmax,Speakval],'lima',Sigfact,xcenter,ycenter,sigmaX,sigmaY)"
   ]
  },
  {
   "cell_type": "code",
   "execution_count": 19,
   "metadata": {
    "collapsed": true,
    "deletable": true,
    "editable": true
   },
   "outputs": [],
   "source": [
    "# Plots\n",
    "idbg = 0 ; tmax = 94 ; FluxFact = 1\n",
    "if idbg == 1:\n",
    "    fig, ax = plt.subplots(figsize=(10,6))\n",
    "    ax.plot(T_new[tmax],SignifReflected[tmax,FluxFact],label='Reflected-region-backgound model')\n",
    "    ax.plot(T_new[tmax],SignifRing[tmax,FluxFact],label='Ring-background model')\n",
    "    ax.plot(T_new[tmax],SignifReflected[tmax,FluxFact],'.',color='r')\n",
    "    ax.plot(T_new[tmax],SignifRing[tmax,FluxFact],'.',color='b')\n",
    "    plt.legend()\n",
    "    text = 'Flux factor : %s'\\\n",
    "                                        %(FluxFact)\n",
    "    ax.tick_params(axis='x', labelsize=15)\n",
    "    ax.tick_params(axis='y', labelsize=15)\n",
    "    ax.text(0.05,0.8,text, dict(size=12), transform = ax.transAxes,bbox=dict(facecolor='white', alpha=0.6))\n",
    "    ax.set_ylabel('$\\sigma$',fontsize=15) ; ax.set_xlabel('Cumulative time (s)',fontsize=15) ; plt.show()"
   ]
  },
  {
   "cell_type": "markdown",
   "metadata": {
    "deletable": true,
    "editable": true
   },
   "source": [
    "# Performances"
   ]
  },
  {
   "cell_type": "code",
   "execution_count": 20,
   "metadata": {
    "collapsed": false,
    "deletable": true,
    "editable": true
   },
   "outputs": [
    {
     "name": "stdout",
     "output_type": "stream",
     "text": [
      "[0.001, 0.002, 0.003, 0.004, 0.005, 0.006, 0.007, 0.008, 0.009000000000000001, 0.01, 0.01, 0.020000000000000004, 0.030000000000000006, 0.04000000000000001, 0.05000000000000001, 0.06000000000000001, 0.07, 0.08, 0.09000000000000001, 0.1, 0.1, 0.2, 0.30000000000000004, 0.4, 0.5, 0.6, 0.7000000000000001, 0.8, 0.9, 1.0]\n"
     ]
    }
   ],
   "source": [
    "SrcPvalues = []\n",
    "SrcPvalues = list(np.linspace(0.001,0.01,10))\n",
    "SrcPvalues = SrcPvalues +list(np.linspace(0.01,0.1,10))\n",
    "SrcPvalues = SrcPvalues + list(np.linspace(0.1,1,10))\n",
    "print(SrcPvalues)"
   ]
  },
  {
   "cell_type": "code",
   "execution_count": 22,
   "metadata": {
    "collapsed": false,
    "deletable": true,
    "editable": true
   },
   "outputs": [
    {
     "name": "stdout",
     "output_type": "stream",
     "text": [
      "10 done in 10\r"
     ]
    }
   ],
   "source": [
    "t_minRefl = defaultdict(list)\n",
    "tminRefl_values = {}\n",
    "t_minRing = defaultdict(list)\n",
    "tminRing_values = {}\n",
    "\n",
    "Niterate = 100\n",
    "\n",
    "# Ring method\n",
    "FactIn = 2 # Circle radius : FactIn x sigmaPSF\n",
    "FactRingIn,FactRingOut = 10,14 # Ring borders distances from circle center\n",
    "\n",
    "# Reflected method\n",
    "Sigfact = 2 # Circle radius : SigFact x sigmaPSF\n",
    "\n",
    "# Minimum significance\n",
    "SignifMin = 3\n",
    "\n",
    "for i in range(0,Niterate):\n",
    "    \n",
    "    Cube,CubeC = {},{}\n",
    "    SignifRefl,SignifRing = defaultdict(list),defaultdict(list)\n",
    "    \n",
    "    for tmax in Tnew_max:\n",
    "        for Speakval in SrcPvalues:\n",
    "            Cube[tmax,Speakval] =\\\n",
    "                        ImageCube(LC_new[tmax],T_new[tmax],Speakval,xcenter,ycenter,SteadySourcePeak,Bkg_input)\n",
    "            CubeC[tmax,Speakval] = smart.CumulCube(Cube[tmax,Speakval])\n",
    "            \n",
    "            SignifRing[tmax,Speakval] =\\\n",
    "            CubeRingSignif(CubeC[tmax,Speakval],'lima',FactIn,FactRingIn,FactRingOut,xcenter,ycenter,sigmaX,sigmaY)\n",
    "    \n",
    "        \n",
    "            T_good = T_new[tmax][np.where(SignifRing[tmax,Speakval][~np.isnan(SignifRing[tmax,Speakval])] >= SignifMin)]\n",
    "            if T_good.size > 0 : t_minRing[tmax,Speakval].append(np.min(T_good))\n",
    "            else : t_minRing[tmax,Speakval].append(np.float('nan'))\n",
    "    \n",
    "            tminRing_values[tmax,Speakval] = np.array(t_minRing[tmax,Speakval])\n",
    "        \n",
    "       \n",
    "            SignifRefl[tmax,Speakval] =\\\n",
    "            CubeReflectedSignif(CubeC[tmax,Speakval],'lima',Sigfact,xcenter,ycenter,sigmaX,sigmaY)\n",
    "    \n",
    "        \n",
    "            T_good = T_new[tmax][np.where(SignifRefl[tmax,Speakval][~np.isnan(SignifRefl[tmax,Speakval])] >= SignifMin)]\n",
    "            if T_good.size > 0 : t_minRefl[tmax,Speakval].append(np.min(T_good))\n",
    "            else : t_minRefl[tmax,Speakval].append(np.float('nan'))\n",
    "    \n",
    "            tminRefl_values[tmax,Speakval] = np.array(t_minRefl[tmax,Speakval])\n",
    "    print(i+1,'done in',Niterate,end='\\r')"
   ]
  },
  {
   "cell_type": "code",
   "execution_count": 23,
   "metadata": {
    "collapsed": true,
    "deletable": true,
    "editable": true
   },
   "outputs": [],
   "source": [
    "ValtminRefl,ValtminRing = defaultdict(list),defaultdict(list)\n",
    "\n",
    "# Valtmin will be the (perc)% best value to get SignifMin as early as possible\n",
    "perc = 0.9\n",
    "\n",
    "Timemin = np.min(T_new[tmax]) #To begin time values at 0 (y-axe) (Not counting the time from the alert and slewing)\n",
    "for tmax in Tnew_max: \n",
    "    for Speakval in SrcPvalues:\n",
    "        ValtminRefl[tmax].append(ArrValPercent(tminRefl_values[tmax,Speakval],perc)-Timemin)\n",
    "        ValtminRing[tmax].append(ArrValPercent(tminRing_values[tmax,Speakval],perc)-Timemin)"
   ]
  },
  {
   "cell_type": "code",
   "execution_count": 26,
   "metadata": {
    "collapsed": true,
    "deletable": true,
    "editable": true
   },
   "outputs": [],
   "source": [
    "idbg = 0\n",
    "tmax = 94\n",
    "if idbg == 1:\n",
    "    fig, (ax) = plt.subplots(figsize=(10,6))\n",
    "    ax.plot(SrcPvalues,ValtminRefl[tmax],label='Reflected-region-background model')\n",
    "    ax.plot(SrcPvalues,ValtminRing[tmax],label='Ring-background model')\n",
    "    ax.plot(SrcPvalues,ValtminRefl[tmax],'.',color='r')\n",
    "    ax.plot(SrcPvalues,ValtminRing[tmax],'.',color='b')\n",
    "    ax.set_xlabel('Multiplicative factor of intensity',fontsize=15)\n",
    "    ax.set_ylabel('T$_{min}$ to get $\\sigma$ $\\geqslant$3 [s]',fontsize=15)\n",
    "    ax.set_xscale('log')\n",
    "    #ax.set_xlim(0.002,0.31)\n",
    "    ax.legend()\n",
    "    text =  '$\\sigma_{min}$               = %s\\n'\\\n",
    "        'T$_{bin}$                = %s s\\n'\\\n",
    "        'I$_{Steady Src}$ max = %s\\n'\\\n",
    "        'x$_{cen}$, y$_{cen}$       = %s px, %s px\\n'\\\n",
    "        '\\nSignificance methods parameters :\\n'\\\n",
    "        '        N $\\sigma_{PSF}$        = %s\\n'\\\n",
    "        %(SignifMin,Tbin_input[name],SteadySourcePeak,xcenter,ycenter,Sigfact)\n",
    "    ax.text(1.05,0.3,text, dict(size=12), transform = ax.transAxes,\\\n",
    "                                        bbox=dict(facecolor='white', alpha=0.5))\n",
    "    #ax.set_title('Max[ t($\\sigma_{min}$) ] for %s %% of cases (%s iterations)'%\\\n",
    "    #                                    (int(perc*100),Niterate), dict(size=15))\n",
    "    ax.tick_params(axis='x', labelsize=15)\n",
    "    ax.tick_params(axis='y', labelsize=15)\n",
    "    plt.show()"
   ]
  },
  {
   "cell_type": "code",
   "execution_count": null,
   "metadata": {
    "collapsed": true,
    "deletable": true,
    "editable": true
   },
   "outputs": [],
   "source": []
  },
  {
   "cell_type": "markdown",
   "metadata": {
    "deletable": true,
    "editable": true
   },
   "source": [
    "# Transcient source position unknown "
   ]
  },
  {
   "cell_type": "markdown",
   "metadata": {
    "deletable": true,
    "editable": true
   },
   "source": [
    "# Make LC and cubes"
   ]
  },
  {
   "cell_type": "code",
   "execution_count": 27,
   "metadata": {
    "collapsed": true,
    "deletable": true,
    "editable": true
   },
   "outputs": [],
   "source": [
    "##################################\n",
    "# Create 3 LC choosing normalisation range (t_min_norm,t_max_norm) and value (Ntot_norm)\n",
    "# Each LC and timecorrespond to a name.\n",
    "# Timebin[name] = Tbin_input[name]\n",
    "# Time,LC_Values = T_input[name],LC_input[name]\n",
    "##################################\n",
    "\n",
    "LC_input,T_input,t_min_norm,t_max_norm = {},{},{},{} ; Tbin_input = {}\n",
    "\n",
    "#### Make theoretical LC\n",
    "Th_name = 'Theoretical'\n",
    "Tbin_input[Th_name] = 4 # sec\n",
    "xi   = -1.4\n",
    "t_min_Th = 10 ; t_0_Th = t_min_Th\n",
    "t_max_Th = 100\n",
    "Ntot_norm_Th = 953 # From Inoue (Bkg = 5)\n",
    "t_min_norm_Th = 35\n",
    "t_max_norm_Th = 55\n",
    "T_input[Th_name],LC_input[Th_name] =\\\n",
    "    MakeLCTh(Tbin_input[Th_name],xi,t_min_Th,t_max_Th,Ntot_norm_Th,t_min_norm_Th,t_max_norm_Th)\n",
    "\n",
    "#### Make LC from Fabio\n",
    "Fa_name = 'Fabio LC'\n",
    "TBin_Fa = 1\n",
    "Bin_Factor_Fa = 6\n",
    "Tbin_input[Fa_name] = TBin_Fa*Bin_Factor_Fa\n",
    "Ntot_norm_Fa = 200\n",
    "t_min_norm_Fa = 90\n",
    "t_max_norm_Fa = 110\n",
    "data_file_Fabio = input_dir+\"LAT-GRB130427.dat\"\n",
    "T_input[Fa_name],LC_input[Fa_name] = \\\n",
    "    MakeLCFa(data_file_Fabio,TBin_Fa,Bin_Factor_Fa,Ntot_norm_Fa,t_min_norm_Fa,t_max_norm_Fa)\n",
    "\n",
    "#### Make LC from Inoue\n",
    "In_name = 'Inoue LC'\n",
    "TBin_data_In = 0.5\n",
    "Bin_Factor_In = 8\n",
    "Tbin_input[In_name] = TBin_data_In*Bin_Factor_In\n",
    "Ntot_norm_In = 907\n",
    "t_min_norm_In = 35\n",
    "t_max_norm_In = 55\n",
    "data_file_Inoue = input_dir+\"Inoue_LC_080916C.dat\"\n",
    "T_input[In_name],LC_input[In_name] =\\\n",
    "    MakeLCIn(data_file_Inoue,TBin_data_In,Bin_Factor_In,Ntot_norm_In,t_min_norm_In,t_max_norm_In)"
   ]
  },
  {
   "cell_type": "code",
   "execution_count": 104,
   "metadata": {
    "collapsed": false,
    "deletable": true,
    "editable": true
   },
   "outputs": [
    {
     "name": "stdout",
     "output_type": "stream",
     "text": [
      "Src factors = [0.01, 0.05, 0.1, 1]\n",
      "tmin = 50.0s, tmax values (s) = [62. 66. 70. 74. 78. 82. 86. 90. 94.]\n",
      "Timebin = 4.0 s\n"
     ]
    }
   ],
   "source": [
    "##################################\n",
    "# Choose main parameters : Source position and values (list), steady source value, which LC from the 3.\n",
    "# Then select the differents timeranges from tnew_min until Tnew_max (array)\n",
    "# Get a dict containing a LC with different sizes\n",
    "##################################\n",
    "\n",
    "xcenter, ycenter = 15,25 # Position Center of GRB on Image (px,px)\n",
    "SteadySourcePeak = 0. # Quiescent source - intensity\n",
    "SrcPvalues = [0.01,0.05,0.1,1]; print('Src factors = %s'%(SrcPvalues))\n",
    "#SrcPvalues      = [0.1,1]    # SrcPvalues has to be a list or a tuple # Source intensity factor\n",
    "\n",
    "name = In_name # Th_name ; Fa_name ; In_name\n",
    "TimeInput = T_input[name]\n",
    "LCInput = LC_input[name]\n",
    "Bkg_input = Tbin_input[name]*background\n",
    "\n",
    "Tnew_min = 20 \n",
    "Tmaxfirst = 62\n",
    "Tstep = 4\n",
    "Tnew_max = np.arange(Tmaxfirst,TimeInput[-1]+1,Tstep)\n",
    "\n",
    "T_new,LC_new = {},{}\n",
    "for tmax in Tnew_max:\n",
    "    T_new[tmax] = TimeInput[np.where((TimeInput>=(TimeInput[0]+Tnew_min)) & (TimeInput<=tmax))]\n",
    "    LC_new[tmax] = LCInput[np.where((TimeInput>=(TimeInput[0]+Tnew_min)) & (TimeInput<=tmax))]\n",
    "\n",
    "print('tmin = %ss, tmax values (s) = %s\\nTimebin = %s s'%(np.min(T_new[tmax]),Tnew_max,Tbin_input[name]))"
   ]
  },
  {
   "cell_type": "code",
   "execution_count": 68,
   "metadata": {
    "collapsed": true,
    "deletable": true,
    "editable": true
   },
   "outputs": [],
   "source": [
    "cmd = '-N4 -f2 -n4 -F2 -T'\n",
    "Cube,CubeW = {},{}\n",
    "   \n",
    "for Speakval in SrcPvalues:\n",
    "    Cubefile = output_dir + 'CubeSrc_P%s.fits'%(Speakval)\n",
    "    WCubefile = Cubefile.replace('CubeSrc','WavCube')\n",
    "    Cube[Speakval] = ImageCube(LC_new[tmax],T_new[tmax],Speakval,xcenter,ycenter,SteadySourcePeak,Bkg_input)\n",
    "    smart.WriteCubeToFile(Cube[Speakval],Cubefile,'')\n",
    "        \n",
    "    CubeW[Speakval] = WavCleaning(Cubefile,WCubefile,'',cmd)"
   ]
  },
  {
   "cell_type": "code",
   "execution_count": 80,
   "metadata": {
    "collapsed": true,
    "deletable": true,
    "editable": true
   },
   "outputs": [],
   "source": [
    "idbg = 0\n",
    "smart.PlotCubeImage(idbg,'',CubeW[1],T_new[tmax],30,Tbin_input[name])"
   ]
  },
  {
   "cell_type": "code",
   "execution_count": 109,
   "metadata": {
    "collapsed": false,
    "deletable": true,
    "editable": true
   },
   "outputs": [
    {
     "name": "stdout",
     "output_type": "stream",
     "text": [
      "94.0 done on [62. 66. 70. 74. 78. 82. 86. 90. 94.]\r"
     ]
    }
   ],
   "source": [
    "##################################\n",
    "# Simulate online wavelets application for one intensity value (Speakval)\n",
    "# And compare with a subtracted background cleaning\n",
    "##################################\n",
    "\n",
    "cmd = '-N4 -f2 -n4 -F2 -T'\n",
    "#cmd = '-f2 -F2 -s2  -T'\n",
    "CubeC = {}\n",
    "Gauss_Sig = 0.35\n",
    "WDistT,DistT = defaultdict(list),defaultdict(list)\n",
    "WCubefile = output_dir + 'WavCube.fits'\n",
    "\n",
    "Speakval = 0.05\n",
    "\n",
    "Wout,Win,Cout,Cin,CubeClean,CubeW = {},{},{},{},{},{}\n",
    "WSignif,CSignif = [],[]\n",
    "\n",
    "\n",
    "for tmax in Tnew_max:\n",
    "    Bkgfile = output_dir + 'Bkgmodel_%s.fits'%(Speakval)\n",
    "    BkgModel = BkgCube(T_new[tmax],SteadySourcePeak,Bkg_input)\n",
    "    smart.WriteCubeToFile(BkgModel,Bkgfile,'')\n",
    "\n",
    "    Cubefile = output_dir + 'CubeSrc_P%s.fits'%(Speakval)\n",
    "    Cube[Speakval] = ImageCube(LC_new[tmax],T_new[tmax],Speakval,xcenter,ycenter,SteadySourcePeak,Bkg_input)\n",
    "    smart.WriteCubeToFile(Cube[Speakval],Cubefile,'')\n",
    "        \n",
    "    CubeC[Speakval] = smart.CumulCube(Cube[Speakval])\n",
    "    CubeClean[Speakval] = BkgSubCleaning(Cube[Speakval],BkgModel)\n",
    "    \n",
    "    # This is to avoid negative values but has to be changed\n",
    "    CubeClean[Speakval][np.where(CubeClean[Speakval]<0)] = 0\n",
    "    \n",
    "    CubeW[Speakval] = WavCleaning(Cubefile,WCubefile,Bkgfile,cmd)\n",
    "            \n",
    "    Wxmax,Wymax,Wtmax,WAmax,WLCtmax,WLCAmax = smart.get_peaks(CubeW[Speakval])\n",
    "    Cxmax,Cymax,Tmax,Amax,LCtmax,LCAmax = smart.get_peaks(CubeClean[Speakval])\n",
    "            \n",
    "    Wout[Speakval],Win[Speakval] = smart.SepSourceBkgCube(CubeW[Speakval],Wxmax,Wymax,sigmaX,sigmaY,2)\n",
    "    Cout[Speakval],Cin[Speakval] = smart.SepSourceBkgCube(CubeClean[Speakval],Cxmax,Cymax,sigmaX,sigmaY,2)\n",
    "        \n",
    "    Wtoff = len(Wout[Speakval][np.where(~np.isnan(Wout[Speakval]))])\n",
    "    Wton = len(Win[Speakval][np.where(~np.isnan(Win[Speakval]))])\n",
    "    Walpha = Wton/Wtoff\n",
    "    WmuBkg = Walpha*np.nansum(Wout[Speakval])\n",
    "    WNon = np.nansum(Win[Speakval])\n",
    "    WSignif.append(significance(WNon,WmuBkg,'lima'))\n",
    "    \n",
    "    Ctoff = len(Cout[Speakval][np.where(~np.isnan(Cout[Speakval]))])\n",
    "    Cton = len(Cin[Speakval][np.where(~np.isnan(Cin[Speakval]))])\n",
    "    Calpha = Cton/Ctoff\n",
    "    \n",
    "    CmuBkg = Calpha*np.nansum(Cout[Speakval])\n",
    "    #print(CmuBkg)\n",
    "    CNon = np.nansum(Cin[Speakval])\n",
    "    CSignif.append(significance(CNon,CmuBkg,'lima'))\n",
    "    print(tmax,'done on',Tnew_max,end='\\r')\n"
   ]
  },
  {
   "cell_type": "code",
   "execution_count": 111,
   "metadata": {
    "collapsed": false,
    "deletable": true,
    "editable": true
   },
   "outputs": [
    {
     "data": {
      "image/png": "[encoded data removed]",
      "text/plain": [
       "<Figure size 1440x720 with 1 Axes>"
      ]
     },
     "metadata": {},
     "output_type": "display_data"
    }
   ],
   "source": [
    "fig, ax = plt.subplots(figsize=(20,10))\n",
    "ax.plot(Tnew_max,WSignif,label='Wavelet cleaning')\n",
    "ax.plot(Tnew_max,CSignif,label='Background subtraction')\n",
    "ax.plot(Tnew_max,WSignif,'.',color='r')\n",
    "ax.plot(Tnew_max,CSignif,'.',color='b')\n",
    "ax.tick_params(axis='x', labelsize=22)\n",
    "ax.tick_params(axis='y', labelsize=22)\n",
    "ax.set_xlabel('Time [s]',fontsize=22)\n",
    "ax.set_ylabel('$\\sigma$',fontsize=22)\n",
    "#text = '%s\\nIntensity factor =  : %s\\n$(X_{Src},Y_{Src})$ = (%s,%s)'\\\n",
    "#                %(name,Speakval,xcenter,ycenter)\n",
    "#ax.text(0.02,0.63,text, dict(size=12), transform = ax.transAxes,bbox=dict(facecolor='white', alpha=0.6))\n",
    "ax.legend(fontsize=22)\n",
    "plt.show()"
   ]
  },
  {
   "cell_type": "code",
   "execution_count": null,
   "metadata": {
    "collapsed": true,
    "deletable": true,
    "editable": true
   },
   "outputs": [],
   "source": []
  },
  {
   "cell_type": "markdown",
   "metadata": {
    "deletable": true,
    "editable": true
   },
   "source": [
    "# Performances"
   ]
  },
  {
   "cell_type": "code",
   "execution_count": null,
   "metadata": {
    "collapsed": true,
    "deletable": true,
    "editable": true
   },
   "outputs": [],
   "source": [
    "# Fixing time range\n",
    "\n",
    "cmd = '-N4 -f2 -F2 -n4  -T'\n",
    "Niter = 20\n",
    "Gauss_Sig = 0.35\n",
    "WDistT,DistT = defaultdict(list),defaultdict(list)\n",
    "WCubefile = output_dir + 'WavCube.fits'\n",
    "\n",
    "for i in range(0,Niter):\n",
    "    Cube,Cube_smoo,CubeW = {},{},{}\n",
    "    Wxmax,Wymax,xmax,ymax = {},{},{},{}\n",
    "    \n",
    "    for Speakval in SrcPvalues:\n",
    "        Bkgfile = output_dir + 'Bkgmodel_%s.fits'%(Speakval)\n",
    "        BkgModel = Old_BkgModelCube(T_new[tmax],SteadySourcePeak,Bkg_input)\n",
    "        smart.WriteCubeToFile(BkgModel,Bkgfile,'')\n",
    "\n",
    "        Cubefile = output_dir + 'CubeSrc_P%s.fits'%(Speakval)\n",
    "        Cube[Speakval] = ImageCube(LC_new[tmax],T_new[tmax],Speakval,xcenter,ycenter,SteadySourcePeak,Bkg_input)\n",
    "        smart.WriteCubeToFile(Cube[Speakval],Cubefile,'')\n",
    "        \n",
    "        #CubeC = smart.CumulCube(Cube[Speakval])\n",
    "        CubeClean = BkgSubCleaning(Cube[Speakval],BkgModel)\n",
    "        #Cube_smoo[Speakval] = SmoothCleaning(CubeC,Gauss_Sig)\n",
    "        \n",
    "        CubeW[Speakval] = WavCleaning(Cubefile,WCubefile,Bkgfile,cmd)\n",
    "            \n",
    "        Wxmax[Speakval],Wymax[Speakval],Wtmax,WAmax,WLCtmax,WLCAmax = smart.get_peaks(CubeW[Speakval])\n",
    "        xmax[Speakval],ymax[Speakval],Tmax,Amax,LCtmax,LCAmax = smart.get_peaks(CubeClean)\n",
    "            \n",
    "        WDistT[Speakval].append(ImageDistance(Wxmax[Speakval],Wymax[Speakval],xcenter,ycenter))\n",
    "        DistT[Speakval].append(ImageDistance(xmax[Speakval],ymax[Speakval],xcenter,ycenter))\n",
    "        #print(DistT)\n",
    "    print(i+1,' done on ',Niter,end='\\r')"
   ]
  },
  {
   "cell_type": "code",
   "execution_count": null,
   "metadata": {
    "collapsed": true,
    "deletable": true,
    "editable": true
   },
   "outputs": [],
   "source": [
    "Valmin = 1\n",
    "PerfT,PerfWT = [],[]\n",
    "for Speakval in SrcPvalues:\n",
    "    DistT[Speakval] = np.array(DistT[Speakval])\n",
    "    WDistT[Speakval] = np.array(WDistT[Speakval])\n",
    "    PerfT.append(\\\n",
    "        len(DistT[Speakval][np.where(DistT[Speakval]<=Valmin)])/len(DistT[Speakval]))\n",
    "    PerfWT.append(\\\n",
    "        len(WDistT[Speakval][np.where(WDistT[Speakval]<=Valmin)])/len(WDistT[Speakval]))"
   ]
  },
  {
   "cell_type": "code",
   "execution_count": null,
   "metadata": {
    "collapsed": true,
    "deletable": true,
    "editable": true
   },
   "outputs": [],
   "source": [
    "fig, ax = plt.subplots(figsize=(13,6))\n",
    "ax.plot(SrcPvalues[:-1],PerfWT[:-1],ms=12,label='Wavelet method')\n",
    "ax.plot(SrcPvalues[:-1],PerfT[:-1],ms=12,label='Bkg Cleaning')\n",
    "ax.plot(SrcPvalues[:-1],PerfWT[:-1],'.',ms=12,color='r')\n",
    "ax.plot(SrcPvalues[:-1],PerfT[:-1],'.',ms=12,color='b')\n",
    "ax.set_ylabel('Position finding efficiency',fontsize=15)\n",
    "ax.set_xlabel('Multiplicative factor of intensity',fontsize=15)\n",
    "ax.set_xscale('log')\n",
    "text = 'Theoretical light curve'\n",
    "ax.text(0.02,0.8,text, dict(size=12), transform = ax.transAxes,bbox=dict(facecolor='white', alpha=0.6))\n",
    "ax.tick_params(axis='x', labelsize=15)\n",
    "ax.tick_params(axis='y', labelsize=15)\n",
    "ax.legend(fontsize=12)\n",
    "plt.show()"
   ]
  },
  {
   "cell_type": "markdown",
   "metadata": {
    "deletable": true,
    "editable": true
   },
   "source": []
  },
  {
   "cell_type": "code",
   "execution_count": null,
   "metadata": {
    "collapsed": true,
    "deletable": true,
    "editable": true
   },
   "outputs": [],
   "source": [
    "# Fixing Src peak value\n",
    "\n",
    "cmd = '-N4 -f2 -F2 -n4 -T'\n",
    "Niter = 10\n",
    "Gauss_Sig = 0.35\n",
    "WDistP,DistP = defaultdict(list),defaultdict(list)\n",
    "WCubefile = output_dir + 'WavCube.fits'\n",
    "\n",
    "for i in range(0,Niter):\n",
    "    Cube,Cube_smoo,CubeW = {},{},{}\n",
    "    Wxmax,Wymax,xmax,ymax = {},{},{},{}\n",
    "    \n",
    "    for T_max in Tnew_max:\n",
    "        Cubefile = output_dir + 'CubeSrc_P%s.fits'%(Speak)\n",
    "        Cube[T_max] = ImageCube(LC_new[tmax],T_new[tmax],Speak,xcenter,ycenter,SteadySourcePeak,Bkg_input)\n",
    "        smart.WriteCubeToFile(Cube[T_max],Cubefile,'')\n",
    "        \n",
    "        CubeC = smart.CumulCube(Cube[T_max])\n",
    "        Cube_smoo[T_max] = SmoothCleaning(CubeC,Gauss_Sig)\n",
    "        \n",
    "        CubeW[T_max] = WavCleaning(Cubefile,WCubefile,'',cmd)\n",
    "            \n",
    "        Wxmax[T_max],Wymax[T_max],Wtmax,WAmax,WLCtmax,WLCAmax = smart.get_peaks(CubeW[T_max])\n",
    "        xmax[T_max],ymax[T_max],Tmax,Amax,LCtmax,LCAmax = smart.get_peaks(Cube_smoo[T_max])\n",
    "            \n",
    "        WDistP[T_max].append(ImageDistance(Wxmax[T_max],Wymax[T_max],xcenter,ycenter))\n",
    "        DistP[T_max].append(ImageDistance(xmax[T_max],ymax[T_max],xcenter,ycenter))\n",
    "    print(i+1,' done on ',Niter,end='\\r')"
   ]
  },
  {
   "cell_type": "code",
   "execution_count": null,
   "metadata": {
    "collapsed": true,
    "deletable": true,
    "editable": true
   },
   "outputs": [],
   "source": [
    "Valmin = 2\n",
    "ScoreP,ScoreWP = [],[]\n",
    "for T_max in Tnew_max:\n",
    "    DistP[T_max] = np.array(DistP[T_max])\n",
    "    WDistP[T_max] = np.array(WDistP[T_max])\n",
    "    ScoreP.append(\\\n",
    "        len(DistP[T_max][np.where(DistP[T_max]<=Valmin)])/len(DistP[T_max]))\n",
    "    ScoreWP.append(\\\n",
    "        len(WDistP[T_max][np.where(WDistP[T_max]<=Valmin)])/len(WDistP[T_max]))"
   ]
  },
  {
   "cell_type": "code",
   "execution_count": null,
   "metadata": {
    "collapsed": true,
    "deletable": true,
    "editable": true
   },
   "outputs": [],
   "source": [
    "fig, ax = plt.subplots(figsize=(12,5))\n",
    "ax.plot(Tnew_max,ScoreWP,ms=12,label='Wavelet cleaning')\n",
    "ax.plot(Tnew_max,ScoreP,ms=12,label='Convolve cleaning')\n",
    "ax.set_ylabel('Position finding efficiency')\n",
    "ax.set_xlabel('Time max')\n",
    "#ax.set_xscale('log')\n",
    "ax.legend()\n",
    "plt.show()"
   ]
  },
  {
   "cell_type": "code",
   "execution_count": null,
   "metadata": {
    "collapsed": true,
    "deletable": true,
    "editable": true
   },
   "outputs": [],
   "source": []
  }
 ],
 "metadata": {
  "anaconda-cloud": {},
  "kernelspec": {
   "display_name": "Python 3",
   "language": "python",
   "name": "python3"
  },
  "language_info": {
   "codemirror_mode": {
    "name": "ipython",
    "version": 3
   },
   "file_extension": ".py",
   "mimetype": "text/x-python",
   "name": "python",
   "nbconvert_exporter": "python",
   "pygments_lexer": "ipython3",
   "version": "3.6.6"
  }
 },
 "nbformat": 4,
 "nbformat_minor": 1
}
