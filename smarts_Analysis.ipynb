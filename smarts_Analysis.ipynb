{
 "cells": [
  {
   "cell_type": "markdown",
   "metadata": {
    "deletable": true,
    "editable": true
   },
   "source": [
    "# Sparse Method Algorithm for Research of Transcients Signal\n",
    "\n",
    "Find transient source in data cubes\n",
    "\n",
    "F. Acero, T. Stolarczyk, A. Chalumeau, Juin 2018\n",
    "\n",
    "This notebook will:\n",
    "1. Simulation (generate_cube_simu)\n",
    "    - generate the fake data cubes (X,Y,T)\n",
    "    - Filter the noise in the cubes with different methods\n",
    "    - Find the peak (burst) in the data\n",
    "    - Measure how well the methods performed\n",
    "2. Produce diagnostic and result plots (plot_slice)\n",
    "\n",
    "3. Produce performance plots based on Monte-Carlo\n",
    "\n",
    "Some scenarios are considered: \n",
    "1. Transcient source position known:\n",
    "    - Appearing in the FoV : known background\n",
    "    - Generalist case : background evaluated online\n",
    "2. Unknown position:\n",
    "    - Wavelet cleaning\n",
    "\n",
    "All the code is pure Python with the exception of the denoising step which requires the binary file msvst_2d1d."
   ]
  },
  {
   "cell_type": "code",
   "execution_count": 1,
   "metadata": {
    "collapsed": true,
    "deletable": true,
    "editable": true
   },
   "outputs": [],
   "source": [
    "%matplotlib inline\n",
    "import itertools\n",
    "import scipy\n",
    "import numpy as np\n",
    "import matplotlib.pyplot as plt\n",
    "from matplotlib.colors import PowerNorm\n",
    "import matplotlib.gridspec as gridspec\n",
    "#from matplotlib.colors import Normalize\n",
    "\n",
    "from gammapy.stats import significance\n",
    "from gammapy.stats import significance_on_off\n",
    "\n",
    "from astropy.convolution import convolve,convolve_fft,Gaussian1DKernel,Gaussian2DKernel,Tophat2DKernel\n",
    "from astropy.visualization import simple_norm\n",
    "from astropy.io import fits\n",
    "from astropy.wcs import WCS\n",
    "from astropy.coordinates import SkyCoord,Angle\n",
    "from astropy.wcs import WCS\n",
    "import astropy.units as u\n",
    "from astropy.table import Table\n",
    "\n",
    "from scipy.stats import norm\n",
    "from scipy import interpolate\n",
    "from scipy.ndimage import zoom\n",
    "\n",
    "from mpl_toolkits.mplot3d import Axes3D\n",
    "from ipywidgets import interact, fixed\n",
    "import os,subprocess,sys,getpass,copy\n",
    "import time as systime\n",
    "import multiprocessing as mp\n",
    "from functools import partial\n",
    "from collections import defaultdict\n",
    "\n",
    "#import line_profiler\n",
    "#%load_ext line_profiler\n",
    "#from scipy.stats import chisqprob\n",
    "#from scipy.special import erfinv,erf,erfcx\n",
    "\n",
    "import smartcube as smart\n",
    "import scipy.integrate as sc"
   ]
  },
  {
   "cell_type": "code",
   "execution_count": 2,
   "metadata": {
    "collapsed": false,
    "deletable": true,
    "editable": true
   },
   "outputs": [
    {
     "name": "stdout",
     "output_type": "stream",
     "text": [
      "Color used :  ['#1f77b4', '#ff7f0e', '#2ca02c', '#d62728', '#9467bd', '#8c564b', '#e377c2', '#7f7f7f', '#bcbd22', '#17becf']\n"
     ]
    }
   ],
   "source": [
    "### Styles\n",
    "# Define some plotting parameters and styles\n",
    "#print(plt.style.available)\n",
    "#plt.style.use('seaborn-talk')\n",
    "plt.style.use('fast')\n",
    "\n",
    "plt.rcParams['image.cmap'] = 'jet'\n",
    "plt.rcParams['font.weight'] = 'bold'\n",
    "plt.rcParams['font.weight'] = 'bold'\n",
    "plt.rcParams['axes.labelweight']= 'bold'  # weight of the x and y labels\n",
    "plt.rcParams['figure.titleweight']= 'bold'   # weight of the figure title\n",
    "plt.rcParams['axes.labelsize']= 15\n",
    "plt.rcParams['axes.titleweight']='bold'\n",
    "plt.rcParams['figure.titlesize']= 20\n",
    "plt.rcParams['xtick.labelsize']= 12\n",
    "plt.rcParams['ytick.labelsize']= 12\n",
    "plt.rcParams['image.origin'] = 'lower'\n",
    "plt.rcParams['image.interpolation'] = 'nearest'\n",
    "plt.rcParams['axes.grid'] = True\n",
    "print('Color used : ',plt.rcParams['axes.prop_cycle'].by_key()['color'])"
   ]
  },
  {
   "cell_type": "code",
   "execution_count": 4,
   "metadata": {
    "collapsed": false,
    "deletable": true,
    "editable": true,
    "scrolled": false
   },
   "outputs": [
    {
     "name": "stdout",
     "output_type": "stream",
     "text": [
      "Defining variables for user vheyraud\n",
      "Directories :\n",
      "    - Root              : ./\n",
      "    - MSVST_2d1d binary : \n",
      "    - Input             : ./bin/Monte_Carlo/\n",
      "    - Output            : ./bin/Monte_Carlo/\n",
      "    - Scores            : ./\n",
      "    - Figures           : ./\n"
     ]
    }
   ],
   "source": [
    "#### Global variables and initialisations\n",
    "# Path to the binary file - This is lame and adding the binary file to somewhere accesible by $PATH shoud be enough.\n",
    "#prog='/Users/facero/Documents/Work/CTA/CTA-AIM/code/image-cleaning/msvst/build/msvst_2d1d'\n",
    "\n",
    "user = getpass.getuser()\n",
    "print(\"Defining variables for user\",user)\n",
    "exit\n",
    "if (user==\"achalume\"):\n",
    "    root_dir   = \"/Users/achalume/Documents/Stage/Codes/\" \n",
    "    bin_dir    = \"/Users/achalume/Documents/Lib_files/Sparse2D/build/\"\n",
    "elif (user==\"stolar\"):\n",
    "    root_dir   = \"/home/stolar/Code/\" \n",
    "    bin_dir    = root_dir + \"bin/\"\n",
    "elif (user==\"vheyraud\"):\n",
    "    root_dir = (\"./\")\n",
    "    bin_dir    = \"\"\n",
    "\n",
    "#input_dir  = root_dir + \"GRB-Fermi/FAWT3D/FermiData/\"\n",
    "#input_dir = root_dir + \"GRB-Fermi/FAWT3D/output/\"\n",
    "#msvst      = bin_dir  + \"msvst_2d1d\"\n",
    "#score_dir  = root_dir + \"GRB-Fermi/FAWT3D/scores/\"\n",
    "#fig_dir    = root_dir + \"GRB-Fermi/FAWT3D/Figures/\"\n",
    "\n",
    "input_dir = \"./bin/Monte_Carlo/\"#\"/local/home/vheyraud/Documents/Valentin/Data/Cubes/On axis/Centered_source_5000_45*45_acceptance1.8_threshold4.5/\"##root_dir #\"/dev/shm/\" \n",
    "msvst      = \"msvst_2d1d\"#bin_dir\n",
    "score_dir  = root_dir\n",
    "fig_dir    = root_dir\n",
    "acceptance_file = \"Acceptance-LST-ctapipe.txt\"\n",
    "\n",
    "#### Check existences\n",
    "if not os.path.exists(input_dir) :\n",
    "    os.makedirs(input_dir)\n",
    "if not os.path.exists(fig_dir) :\n",
    "    os.makedirs(fig_dir)\n",
    "if not os.path.exists(score_dir) :\n",
    "    os.makedirs(score_dir)\n",
    "    \n",
    "print(\"Directories :\")\n",
    "print(\"    - Root              :\",root_dir)\n",
    "print(\"    - MSVST_2d1d binary :\",bin_dir)\n",
    "print(\"    - Input             :\",input_dir)\n",
    "print(\"    - Output            :\",input_dir)\n",
    "print(\"    - Scores            :\",score_dir)\n",
    "print(\"    - Figures           :\",fig_dir)"
   ]
  },
  {
   "cell_type": "markdown",
   "metadata": {
    "deletable": true,
    "editable": true
   },
   "source": [
    "# LC function"
   ]
  },
  {
   "cell_type": "code",
   "execution_count": 5,
   "metadata": {
    "collapsed": true,
    "deletable": true,
    "editable": true
   },
   "outputs": [],
   "source": [
    "def LCBinChange(pre_t,pre_LC,fact_T_bin):\n",
    "    \"\"\"\n",
    "    Re-bin a light curve multiplying the initial bin size with fact_T_bin. Returns : new_t,new_LC\n",
    "    \"\"\"\n",
    "    \n",
    "    alpha = fact_T_bin\n",
    "\n",
    "    new_t = np.zeros(int(len(pre_t)/alpha)) ; new_LC = np.zeros(len(new_t))\n",
    "    for i in range(0,len(new_t)):\n",
    "        new_t[i] = pre_t[int(i*alpha)]\n",
    "        new_LC[i] = np.sum(pre_LC[int((alpha*i)):int((alpha*i)+alpha)])\n",
    "\n",
    "    return new_t,new_LC\n",
    "\n",
    "############################################\n",
    "def NormLC(LC,value,time,tmin,tmax):\n",
    "    \"\"\"\n",
    "    Norm a range in a light curve (SUM(LC) = value from tmin to tmax). Returns : Normed_LC\n",
    "    \"\"\"\n",
    "    LC_range = LC[np.where((time>=tmin) & (time<=tmax))]\n",
    "    Normed_LC = value*LC/(np.sum(LC_range))\n",
    "    \n",
    "    return Normed_LC\n",
    "                    \n",
    "############################################\n",
    "def InterpFunction(x_val,y_val,x_val_new):\n",
    "    \"\"\"\n",
    "    Interpolate y(x) to get an approached function (y_new) with a given xtable (x_val_new). Returns : y_new\n",
    "    \"\"\"\n",
    "    \n",
    "    f = interpolate.interp1d(x_val,y_val)\n",
    "    y_new = f(x_val_new)\n",
    "    \n",
    "    return y_new\n",
    "\n",
    "############################################\n",
    "def MakeLCTh(timebin,Xi,Tmintot,Tmaxtot,Ntotrange,Tminrange,Tmaxrange):\n",
    "    \"\"\"\n",
    "    Make the theoretical LC normalizing at Ntotrange from Tminrange to Tmaxrange. Returns : Time, LC\n",
    "    \"\"\"\n",
    "    \n",
    "    T_0 = Tmintot\n",
    "    Time = np.arange(Tmintot,Tmaxtot+timebin,timebin)\n",
    "    K = (Tminrange**Xi)*(1+Xi)*Ntotrange/(Tmaxrange**(1+Xi) - Tminrange**(1+Xi))\n",
    "    LC = K*Tminrange**(-Xi)*((Time)**(Xi+1)-(Time-timebin)**(Xi+1))/(Xi+1)\n",
    "    \n",
    "    return Time,LC\n",
    "############################################\n",
    "def MakeLCFa(datafile,Timebin,Bin_Factor,Ntotrange,Tminrange,Tmaxrange):\n",
    "    \"\"\"\n",
    "    From Fabio's file, make LC normalizing at Ntotrange from Tminrange to Tmaxrange\\\n",
    "    choosing an initial bin size (Timebin). Returns : Time,LC\n",
    "    \"\"\"\n",
    "    \n",
    "    TimeData,LCData = np.loadtxt(datafile,unpack=True)\n",
    "    Time = TimeData - TimeData[0] ; Time_size = TimeData[-1] - TimeData[0]   \n",
    "    \n",
    "    # Decrease time bin using an interpolation\n",
    "    TimeInterp  = [x*Timebin for x in range(0,int(Time_size/Timebin),1)]\n",
    "    TimeInterp = np.array(TimeInterp)\n",
    "    LC = InterpFunction(Time,LCData,TimeInterp)\n",
    "    \n",
    "    LC_norm = NormLC(LC,Ntotrange,TimeInterp,Tminrange,Tmaxrange)\n",
    "    T_input,LC_input = LCBinChange(TimeInterp,LC_norm,Bin_Factor) \n",
    "    \n",
    "    return T_input,LC_input\n",
    "\n",
    "############################################\n",
    "def MakeLCIn(datafile,Timebin,Bin_Factor,Ntotrange,Tminrange,Tmaxrange):\n",
    "    \"\"\"\n",
    "    From Inoue's extrapolated LC, make LC normalizing at Ntotrange from Tminrange to Tmaxrange.\\\n",
    "    Initial time bin (0.5) taken from the article. Returns : Time, LC\n",
    "    \"\"\"\n",
    "    \n",
    "    TData,LCData = np.genfromtxt(datafile,unpack=True,skip_header=6)\n",
    "\n",
    "    # Set time values\n",
    "    TData_0 = round(TData[0]) ; TData_end = np.round(TData[-1]/Timebin)*(Timebin)\n",
    "    Time = np.linspace(TData_0,TData_end,len(TData))\n",
    "    # Set LC values\n",
    "    LC = LCData * Timebin # Put light curve in counts (it was in Cts/Bin before)\n",
    "    LC = np.rint(LC).astype(int) # Set counts values\n",
    "\n",
    "    T_input,LC_input = LCBinChange(Time,LC,Bin_Factor)\n",
    "    LC_norm = NormLC(LC_input,Ntotrange,T_input,Tminrange,Tmaxrange)\n",
    "\n",
    "    return T_input,LC_norm\n"
   ]
  },
  {
   "cell_type": "markdown",
   "metadata": {
    "deletable": true,
    "editable": true
   },
   "source": [
    "## For results analysis"
   ]
  },
  {
   "cell_type": "code",
   "execution_count": 6,
   "metadata": {
    "collapsed": true,
    "deletable": true,
    "editable": true
   },
   "outputs": [],
   "source": [
    "def ArrValMedian(Arr_val,percent):\n",
    "    \"\"\"\n",
    "    Take an array or list, and if for percent of the cases the list elements aren't NaN, return the median value of the values.\n",
    "    \"\"\"\n",
    "    \n",
    "    Arr_val = np.array(Arr_val)\n",
    "    Arr_valsort = np.sort(Arr_val)\n",
    "    Nth_val = int(percent*len(Arr_valsort))\n",
    "    Value=np.nan\n",
    "    if ~np.isnan(Arr_valsort[Nth_val-1]):\n",
    "        Arr=Arr_valsort\n",
    "        Value=Arr[int(0.5*len(Arr))]\n",
    "    \n",
    "    return Value\n",
    "\n",
    "\n",
    "def CountsDistribution(LCdict,T_new,t_values,RedFactor,Niterate):\n",
    "    \"\"\"\n",
    "    Input : light curve dictionnary (keys : intensity, iteration index), time list, \n",
    "    dictionary of the interesting times (example : time to reach 3sigma) (keys: intensity), intensity and number of iterations\n",
    "    \"\"\"\n",
    "    N=np.full(Niterate,np.nan)\n",
    "    for i in range(Niterate):\n",
    "        t=t_values[RedFactor][i]\n",
    "        LC=LCdict[RedFactor,i]\n",
    "        if ~np.isnan(t):\n",
    "            N[i]=LC[np.where(T_new==t)[0][0]]        \n",
    "    return(N)\n",
    "\n",
    "def DistanceDistribution(Xdict,Ydict,t_values,RedFactor,Niterate,Xreal,Yreal):\n",
    "    Distances=[]\n",
    "    for i in range(Niterate):\n",
    "        t=t_values[RedFactor][i]\n",
    "        if ~np.isnan(t):\n",
    "            X=Xdict[RedFactor,i]\n",
    "            Y=Ydict[RedFactor,i]\n",
    "            Distance=pixelsize*np.sqrt((X-Xreal)**2+(Y-Yreal)**2)\n",
    "            Distances.append(Distance)\n",
    "        else:\n",
    "            Distances.append(np.nan)\n",
    "    return(np.array(Distances))\n",
    "\n",
    "def BkgDistribution(Bkgdict,T_new,t_values,RedFactor,Niterate,toffgeo,SurfaceOn,method):\n",
    "    Bkg=np.full(Niterate,np.nan)\n",
    "    for i in range(Niterate):\n",
    "        t=t_values[RedFactor][i]\n",
    "        BkgLC=Bkgdict[RedFactor,i]\n",
    "        if ~np.isnan(t):\n",
    "            if method=='ac':\n",
    "                Bkg[i]=BkgLC[np.where(T_new==t)[0][0]]*(t-(2*T_new[0]-T_new[1])*SurfaceOn/(toffgeo))\n",
    "            else:\n",
    "                Bkg[i]=BkgLC[np.where(T_new==t)[0][0]]*SurfaceOn/(toffgeo)\n",
    "    return(Bkg)\n",
    "\n",
    "def BkgRateDistribution(Bkgdict,T_new,t_values,RedFactor,Niterate,toffgeo,method):\n",
    "    BkgRate=np.full(Niterate,np.nan)\n",
    "    for i in range(Niterate):\n",
    "        t=t_values[RedFactor][i]\n",
    "        BkgLC=Bkgdict[RedFactor,i]\n",
    "        if ~np.isnan(t):\n",
    "            if method=='ac':\n",
    "                BkgRate[i]=BkgLC[np.where(T_new==t)[0][0]]/(toffgeo)\n",
    "            else:\n",
    "                BkgRate[i]=BkgLC[np.where(T_new==t)[0][0]]/(toffgeo*(t-(2*T_new[0]-T_new[1])))\n",
    "    return(BkgRate)\n",
    "\n",
    "def SignalDistribution(LCdict,Bkgdict,T_new,t_values,RedFactor,Niterate,toffgeo,SurfaceOn,method):\n",
    "    Signal=np.full(Niterate,np.nan)\n",
    "    for i in range(Niterate):\n",
    "        t=t_values[RedFactor][i]\n",
    "        Non=LCdict[RedFactor,i]\n",
    "        Noff=Bkgdict[RedFactor,i]\n",
    "        if ~np.isnan(t):\n",
    "            if method=='ac':\n",
    "                Signal[i]=Non[np.where(T_new==t)[0][0]]-Noff[np.where(T_new==t)[0][0]]*(t-(2*T_new[0]-T_new[1]))*SurfaceOn/(toffgeo)\n",
    "            elif method=='wave':\n",
    "                Signal[i]=Non[np.where(T_new==t)[0][0]]\n",
    "            else:\n",
    "                Signal[i]=Non[np.where(T_new==t)[0][0]]-Noff[np.where(T_new==t)[0][0]]*SurfaceOn/(toffgeo)\n",
    "    return(Signal)\n",
    "            \n",
    "\n"
   ]
  },
  {
   "cell_type": "markdown",
   "metadata": {
    "deletable": true,
    "editable": true
   },
   "source": [
    "## For cubes analysis"
   ]
  },
  {
   "cell_type": "code",
   "execution_count": 7,
   "metadata": {
    "collapsed": true,
    "deletable": true,
    "editable": true
   },
   "outputs": [],
   "source": [
    "def CreateAcceptance(flg,file):\n",
    "    \"flg = 0 : gaussian acceptance with width sigma_vig, flg = 1 interpolated acceptance from file\"\n",
    "    data = Table.read(filename=file,format=\"ascii\")\n",
    "    theta2 = data[\"theta2\"]\n",
    "    counts = data[\"counts\"]\n",
    "    Empirical = interpolate.interp1d(x=theta2,y=counts)\n",
    "    x = np.linspace(0, n2Dsize-1, n2Dsize)\n",
    "    y = np.linspace(0, n2Dsize-1, n2Dsize)\n",
    "    x,y = np.meshgrid(x, y)\n",
    "    Acceptance=np.empty((n2Dsize,n2Dsize))\n",
    "    xo,yo=n2Dsize//2,n2Dsize//2\n",
    "    \n",
    "    if flg==0:\n",
    "        Acceptance=np.exp( - ((x-xo)**2+(y-yo)**2)/(2*(sigma_vignetting/pixelsize)**2))\n",
    "    if flg==1:\n",
    "        theta2=((x-xo)**2+(y-yo)**2)*pixelsize**2\n",
    "        theta2[xo,yo]=1# Necessary to avoid an error related to the interpolation error when theta2=0\n",
    "        Acceptance=Empirical(theta2)\n",
    "        Acceptance[xo,yo]=1# correct the value at the center\n",
    "        #Acceptance=Empirical(((x-xo)**2+(y-yo)**2)*pixelsize**2+0.0002) : to use this we must add a small value cause the interpolation isn't defined in 0\n",
    "    return Acceptance\n",
    "\n",
    "\n",
    "def ImageRingSignif(Image,meth,FactOffIn,FactOffOut,Xcenter,Ycenter,Theta):\n",
    "    \"\"\"\n",
    "    Returns the significance functions of a \"cube image\" knowing where is the source ; meth = 'lima', 'simple'\n",
    "    \"\"\"\n",
    "    \n",
    "    x = np.linspace(0,n2Dsize-1,n2Dsize)\n",
    "    y = np.linspace(0,n2Dsize-1,n2Dsize)\n",
    "    x,y = np.meshgrid(x, y)\n",
    "    \n",
    "    VignettingOut,VignettingOn = smart.SepSourceBkgImage(Acceptance,Xcenter,Ycenter,Theta)\n",
    "    VignettingOff = smart.MakeRingImage\\\n",
    "        (Acceptance,Xcenter,Ycenter,FactOffIn,FactOffOut,Theta)\n",
    "    MeanAcceptanceOn=np.nansum(VignettingOn)/np.size(VignettingOn[np.where(~np.isnan(VignettingOn))])\n",
    "    MeanAcceptanceOff=np.nansum(VignettingOff)/np.size(VignettingOff[np.where(~np.isnan(VignettingOff))])\n",
    "    \n",
    "    ImageOut,ImageOn = smart.SepSourceBkgImage(Image,Xcenter,Ycenter,Theta)\n",
    "    ImageOff = smart.MakeRingImage(Image,Xcenter,Ycenter,FactOffIn,FactOffOut,Theta)\n",
    "    \n",
    "    ton  = np.size(ImageOn[np.where(~np.isnan(ImageOn))])\n",
    "    toff = np.size(ImageOff[np.where(~np.isnan(ImageOff))])\n",
    "    alpha = (ton / toff)*(MeanAcceptanceOn / MeanAcceptanceOff)\n",
    "    \n",
    "    Non  = np.nansum(ImageOn)\n",
    "    Noff = np.nansum(ImageOff)\n",
    "    \n",
    "    Signif = significance_on_off(n_on=Non,n_off=Noff,alpha=alpha, method=meth)\n",
    "    return (Signif,Non,Noff,alpha)\n",
    "############################################\n",
    "\n",
    "def ImageReflectedSignif(Image,meth,XOn,YOn,Theta):\n",
    "    \"\"\"\n",
    "    Returns the significance functions of a \"cube image\" knowing where is the source ; meth = 'lima', 'simple'\n",
    "    \"\"\"\n",
    "    \n",
    "    ImageOut,ImageOn = smart.SepSourceBkgImage(Image,XOn,YOn,Theta)\n",
    "    Non = np.nansum(ImageOn)\n",
    "    Xcen = n2Dsize/2 ; Ycen = n2Dsize/2\n",
    "    DistOn = smart.ImageDistance(XOn,YOn,Xcen,Ycen)\n",
    "    FactOn=np.arctan2(YOn-Ycen,XOn-Xcen)\n",
    "    \n",
    "    d = 5 # distance between 2 circles' centers are 3xradius\n",
    "    radius = Theta\n",
    "    Circ = 2*np.pi*DistOn\n",
    "    NOffRegions = int(Circ/(d*radius))\n",
    "    ImageOff = {}\n",
    "    Noff = np.zeros(abs(NOffRegions))\n",
    "    for i in range(1,NOffRegions+1):  \n",
    "        Xnew = Xcen + DistOn*np.cos(FactOn+(i*2*np.pi/(NOffRegions+1)))\n",
    "        Ynew = Xcen + DistOn*np.sin(FactOn+(i*2*np.pi/(NOffRegions+1)))\n",
    "        ImageOut2,ImageOff[i] = smart.SepSourceBkgImage(Image,Xnew,Ynew,Theta)\n",
    "        Noff[i-1] = np.nansum(ImageOff[i])\n",
    "    if NOffRegions==0:\n",
    "        Signif=0\n",
    "        Alpha=np.nan\n",
    "    else:\n",
    "        Signif = significance_on_off(Non,np.nansum(Noff),alpha=1/NOffRegions,method=meth)\n",
    "        Alpha=1/NOffRegions\n",
    "    return (Signif,Non,np.nansum(Noff),Alpha)\n",
    "\n",
    "##############################################\n",
    "\n",
    "def Cube2DAnalyse(cube,T_new,method,xsrc,ysrc,factin=3/2,factout=5/2,cubemodel=0,cubebkgac=0,meth='lima'):\n",
    "    \"\"\"\n",
    "    Input : cube (CUMULATED) ; cubebkgacfile or cubemodel (NOT CUMULATED) ; method = 'reflected','ring','ROI vs FOV','acquired bkg'; facton : determines the On area radius, r=facton*psf ; factin : for ring method determine the in-raidus ;\n",
    "    factout : dertmine th out-radius ; xsrc and ysrc give the source position (for relfected); Xtheta and Ytheta ; meth : significance_on_off gammapy parameter (lima or simple)\n",
    "    method = 'reflected','ring','ROI vs FOV','acquired bkg','model bkg'\n",
    "    \n",
    "    Default values :  factin = 3/2,factout = 5/2, cubemodel=0, cubebkgac=0, meth='lima'\n",
    "    Public variable called : pixelsize, Tminbkg,Tmaxbkg,Tbinbkg,ROIRadius\n",
    "    \"\"\"\n",
    "    \n",
    "    Signif,Non,Noff,Alpha = [],[],[],[]\n",
    "    \n",
    "    if method=='ring':\n",
    "        \n",
    "        for t in range(0,len(cube[0,0,:])):\n",
    "            Datas=ImageRingSignif(Image=cube[:,:,t],meth=meth,FactOffIn=factin,FactOffOut=factout,Xcenter=xsrc[t],Ycenter=ysrc[t],Theta=ROIRadius/pixelsize)\n",
    "            Signif.append(Datas[0])\n",
    "            Non.append(Datas[1])\n",
    "            Noff.append(Datas[2])\n",
    "\n",
    "        Alpha = np.full(len(cube[0,0,:]),Datas[3])\n",
    "                \n",
    "    elif method=='reflected':\n",
    "                        \n",
    "        for t in range(0,len(cube[0,0,:])):\n",
    "            Datas=ImageReflectedSignif(cube[:,:,t],meth,xsrc[t],ysrc[t],ROIRadius/pixelsize)\n",
    "            Signif.append(Datas[0])\n",
    "            Non.append(Datas[1])\n",
    "            Noff.append(Datas[2])\n",
    "        Alpha = np.full(len(cube[0,0,:]),Datas[3])\n",
    "        \n",
    "    elif method=='ROI vs FOV':\n",
    "        for t in range(0,len(cube[0,0,:])):\n",
    "            SourceOut,SourceIn = smart.SepSourceBkgImage(cube,xsrc[t],ysrc[t],ROIRadius/pixelsize)\n",
    "            Non.append(np.nansum(SourceIn))\n",
    "            Noff.append(np.nansum(SourceOut))\n",
    "            Alpha.append(np.size(SourceIn[np.where(~np.isnan(SourceIn))])/np.size(SourceOut[np.where(~np.isnan(SourceOut))]))\n",
    "        for i in range(len(Noff)):\n",
    "            if Noff[i]!=0:\n",
    "                Signif.append(significance_on_off(n_on=Non[i],n_off=Noff[i],alpha=Alpha,method=meth))\n",
    "            else :\n",
    "                Signif.append(scipy.stats.norm.ppf(1-0.5*np.exp(-Non[i])))\n",
    "                      \n",
    "                        \n",
    "    elif method=='acquired bkg':\n",
    "        for t in range(0,len(cube[0,0,:])):                \n",
    "            SourceOut,SourceIn = smart.SepSourceBkgImage(cube,xsrc[t],ysrc[t],ROIRadius/pixelsize)\n",
    "            BkgAcOut,BkgAcIn = smart.SepSourceBkgCube(cubebkgac,xsrc[t],ysrc[t],ROIRadius/pixelsize)\n",
    "            Non.append(np.nansum(SourceIn[:,:,t]))\n",
    "            Noff.append(np.nansum(BkgAcIn))\n",
    "            Alpha.append((t+1)*(T_new[1]-T_new[0])/(TmaxBkg-Tminbkg))\n",
    "        Signif = significance_on_off(n_on=Non,n_off=Noff,alpha=Alpha,method=meth)\n",
    "        \n",
    "    elif method=='model bkg':\n",
    "        for t in range(0,len(cube[0,0,:])):                \n",
    "            SourceOut,SourceIn = smart.SepSourceBkgImage(cube,xsrc[t],ysrc[t],ROIRadius/pixelsize)\n",
    "            BkgModelOut,BkgModelIn = smart.SepSourceBkgCube(cubemodel,xsrc[t],ysrc[t],ROIRadius/pixelsize)\n",
    "            Non.append(np.nansum(SourceIn[:,:,t]))\n",
    "            Noff.append(np.nansum(BkgModelIn)[:,:,:t])\n",
    "        for i in range(len(T_new)):\n",
    "            Alpha.append(1)\n",
    "        Signif = significance(n_on=Non,mu_bkg=Noff)\n",
    "    \n",
    "    elif method=='no bkg':\n",
    "        for t in range(0,len(cube[0,0,:])):\n",
    "            SourceOut,SourceIn = smart.SepSourceBkgCube(cube,xsrc[t],ysrc[t],ROIRadius/pixelsize)\n",
    "            Non.append(np.nansum(SourceIn[:,:,t]))\n",
    "            Noff.append(0)\n",
    "            Alpha.append(np.nan)\n",
    "        for i in range(len(Noff)):\n",
    "            if Non[i]>nlim:\n",
    "                Signif.append(100)\n",
    "            else:\n",
    "                Signif.append(0)\n",
    "    Signif=np.array(Signif)\n",
    "    Non=np.array(Non)\n",
    "    Noff=np.array(Noff)\n",
    "    Alpha=np.array(Alpha)\n",
    "    \n",
    "    return(Signif,Non,Noff,Alpha)\n",
    "\n",
    "##############################################\n",
    "\n",
    "\n",
    "def DiagnosticPlot(SigmaLim,T_new,LC_Src,Signif,Non,Noff,RealSignal,RealBackground,Alpha,shape):\n",
    "\n",
    "    limit=np.full(len(T_new),SigmaLim)\n",
    "    fig,ax=plt.subplots(6,figsize=shape)\n",
    "    ax[0].plot(T_new,Signif,label='LiMa on/off significance',color='forestgreen')\n",
    "    ax[0].plot(T_new,Signif,'.',color='forestgreen')\n",
    "    ax[0].plot(T_new,limit,'_',label='Sigma limit',color='black')\n",
    "    ax[0].legend()\n",
    "    ax[0].set_title('Significance',fontsize=18)\n",
    "    ax[1].plot(T_new,Non-Alpha*Noff,label='Signal',color='b')\n",
    "    ax[1].plot(T_new,Non-Alpha*Noff,'.',color='b')\n",
    "    ax[1].legend()\n",
    "    ax[1].set_title('Signal',fontsize=18)\n",
    "    ax[2].plot(T_new,RealSignal,label='Real Signal',color='black')\n",
    "    ax[2].plot(T_new,RealSignal,'.',color='black')\n",
    "    ax[2].legend()\n",
    "    ax[2].set_title('Real Signal',fontsize=18)\n",
    "    ax[3].plot(T_new,Alpha*Noff,label='Background',color='r')\n",
    "    ax[3].plot(T_new,Alpha*Noff,'.',color='r')\n",
    "    ax[3].legend()\n",
    "    ax[3].set_title('Background',fontsize=18)                \n",
    "    ax[4].plot(T_new,RealBkg,label='Real Bkg',color='black')\n",
    "    ax[4].plot(T_new,RealBkg,'.',color='black')\n",
    "    ax[4].legend()\n",
    "    ax[4].set_title('Real Background',fontsize=18)   \n",
    "    ax[5].plot(T_new,LC_Src,label='Injected signal',color='orange')\n",
    "    ax[5].plot(T_new,LC_Src,'.',color='orange')\n",
    "    ax[5].legend()\n",
    "    ax[5].set_title('Injected Signal',fontsize=18)\n",
    "    #ax[5].plot(T_new,Non,label='Non',color='green')\n",
    "    #ax[5].plot(T_new,Non,'.',color='green')\n",
    "    #ax[5].legend()\n",
    "    #ax[6].plot(T_new,Noff,label='Noff',color='green')\n",
    "    #ax[6].plot(T_new,Noff,'.',color='green')\n",
    "    #ax[6].legend()\n",
    "    #ax[7].plot(T_new,LC_Src,label='Injected signal',color='orange')\n",
    "    #ax[7].plot(T_new,LC_Src,'.',color='orange')\n",
    "    #ax[7].legend()\n",
    "    plt.tight_layout()\n",
    "    plt.show()\n",
    "    print('Alpha = ',Alpha)\n",
    "\n",
    "#######################################\n",
    "\n",
    "def SelectTimes(T_new,Signif,SignifMin,RedFactor,N):\n",
    "    \"\"\"\n",
    "    Input : Time, Significance over time for one trial, significance threshold\n",
    "    Outpout : list of the times for which the significance is over the threshold\n",
    "    \"\"\"\n",
    "    t_min=[]\n",
    "    for i in range(N):\n",
    "        Sig=np.array(Signif[RedFactor,i])\n",
    "        T=T_new[np.where(~np.isnan(Sig))]\n",
    "        S=Sig[np.where(~np.isnan(Sig))]\n",
    "        T_good = T[np.where(S>=SignifMin)]\n",
    "        if T_good.size > 0 : t_min.append(np.min(T_good))\n",
    "        else : t_min.append(np.float('nan'))\n",
    "    tmin_values = np.array(t_min)\n",
    "    \n",
    "    return(tmin_values)\n",
    "\n",
    "##########################################################################################\n",
    "\n",
    "def SearchMax(cube,meth='no smoothing'):\n",
    "    \"Public variable called : sigma_PSF,pixelsize\\\n",
    "    Default method : no smoothing\"\n",
    "    test=copy.deepcopy(cube)\n",
    "    index_max=np.empty((2,len(cube[0,0,:])))\n",
    "    if meth=='smoothing':\n",
    "        for i in range(np.shape(cube)[2]):\n",
    "            test[:,:,i]=convolve_fft(test[:,:,i],Gaussian2DKernel(sigma_PSF/pixelsize))\n",
    "    for i in range(np.shape(cube)[2]):\n",
    "        index_temp=np.unravel_index(np.argmax(test[:,:,i]),np.shape(test[:,:,i]))##return (x_assessed,y_assessed)\n",
    "        index_max[0,i]=index_temp[1]\n",
    "        index_max[1,i]=index_temp[0]\n",
    "    return(index_max)\n",
    "                        "
   ]
  },
  {
   "cell_type": "markdown",
   "metadata": {
    "deletable": true,
    "editable": true
   },
   "source": [
    "# My Main"
   ]
  },
  {
   "cell_type": "markdown",
   "metadata": {
    "deletable": true,
    "editable": true
   },
   "source": [
    "# Instrument response function"
   ]
  },
  {
   "cell_type": "code",
   "execution_count": 8,
   "metadata": {
    "collapsed": false,
    "deletable": true,
    "editable": true,
    "scrolled": false
   },
   "outputs": [
    {
     "name": "stdout",
     "output_type": "stream",
     "text": [
      "Instrument response function\n",
      "----------------------------\n",
      "  Field of view       :  4.5\n",
      "  Pixel size          :  0.1\n",
      "  N. of pixels        :  45 x 45\n",
      "  Mean CTA background :  0.04  (cts/s/pix, 50<E<500 GeV)\n"
     ]
    }
   ],
   "source": [
    "FOV               = 4.5    #width in degrees\n",
    "pixelsize         = 0.1   #in degrees\n",
    "n2Dsize           = int(FOV/pixelsize)\n",
    "sigma_vignetting  = 1.8    # (deg) from ctobssim\n",
    "ct95 = 0.2\n",
    "a = 0.95\n",
    "sigma_PSF         = smart.sigma_from_containment_radius(ct95,a)   # (deg) Since the psf isn't a gaussian, we use half of the 95% containement radius and the shape of a gaussian\n",
    "background        = 0.04    # cts/s/pixel in E=50-500 GeV at center of FoV. Tbin=10s bkg=0.1\n",
    "sigmaX, sigmaY   = float(sigma_PSF/pixelsize),  float(sigma_PSF/pixelsize) # Point like source\n",
    "Acceptance=CreateAcceptance(0,acceptance_file)\n",
    "\n",
    "print(\"Instrument response function\")\n",
    "print(\"----------------------------\")\n",
    "print(\"  Field of view       : \",FOV)\n",
    "print(\"  Pixel size          : \",pixelsize)\n",
    "print(\"  N. of pixels        : \",n2Dsize,\"x\",n2Dsize)\n",
    "print(\"  Mean CTA background : \",background,\" (cts/s/pix, 50<E<500 GeV)\")\n",
    "\n"
   ]
  },
  {
   "cell_type": "markdown",
   "metadata": {
    "deletable": true,
    "editable": true
   },
   "source": [
    "# Init : make LC and set source parameters"
   ]
  },
  {
   "cell_type": "code",
   "execution_count": 17,
   "metadata": {
    "collapsed": false,
    "deletable": true,
    "editable": true,
    "scrolled": true
   },
   "outputs": [
    {
     "name": "stdout",
     "output_type": "stream",
     "text": [
      "Src factors = [1, 5, 10, 15, 20, 25, 30, 35, 40, 45, 50, 55, 60, 65, 70, 75, 80, 85, 90, 95, 100, inf]\n",
      "T_new = [ 54  58  62  66  70  74  78  82  86  90  94  98 102 106 110 114 118 122\n",
      " 126 130 134 138 142 146 150 154 158 162 166 170 174]\n"
     ]
    }
   ],
   "source": [
    "##################################\n",
    "# Create 3 LC choosing normalisation range (t_min_norm,t_max_norm) and value (Ntot_norm)\n",
    "# Each LC and time correspond to a name.\n",
    "# Timebin[name] = Tbin_input[name]\n",
    "# Time,LC_Values = T_input[name],LC_input[name]\n",
    "##################################\n",
    "\n",
    "LC_input,T_input,t_min_norm,t_max_norm = {},{},{},{} ; Tbin_input = {}\n",
    "\n",
    "#### Make theoretical LC\n",
    "Th_name = 'Theoretical'\n",
    "Tbin_input[Th_name] = 4 # se\n",
    "xi   = -1.4\n",
    "t_min_Th = 30 ; t_0_Th = t_min_Th\n",
    "t_max_Th = 200\n",
    "Ntot_norm_Th = 1115 # From Inoue (Bkg = 5)\n",
    "t_min_norm_Th = 50\n",
    "t_max_norm_Th = 94\n",
    "T_input[Th_name],LC_input[Th_name] =\\\n",
    "    MakeLCTh(Tbin_input[Th_name],xi,t_min_Th,t_max_Th,Ntot_norm_Th,t_min_norm_Th,t_max_norm_Th)\n",
    "\n",
    "##################################\n",
    "# Choose main parameters : Source position and values (list), steady source value, which LC from the 3.\n",
    "# Then select the differents timeranges from tnew_min until Tnew_max (array)\n",
    "# Get a dict containing a LC with different sizes\n",
    "##################################\n",
    "\n",
    "name = Th_name # Th_name ; Fa_name ; In_name\n",
    "TimeInput = T_input[name]\n",
    "LCInput = LC_input[name]\n",
    "Bkg_input = Tbin_input[name]*background\n",
    "\n",
    "Tnew_min = 24 \n",
    "Tmax=174\n",
    "\n",
    "T_new,LC_new = {},{}\n",
    "T_new = TimeInput[np.where((TimeInput>=(TimeInput[0]+Tnew_min)) & (TimeInput<=Tmax))]\n",
    "LC_new = LCInput[np.where((TimeInput>=(TimeInput[0]+Tnew_min)) & (TimeInput<=Tmax))]\n",
    "\n",
    "xcenter, ycenter = 22,22#45,45#10,10#25,25# Position Center of GRB on Image (px,px)\n",
    "SteadySourcePeak = 0. # Quiescent source - intensity\n",
    "RedFactorList = [1,5,10,15,20,25,30,35,40,45,50,55,60,65,70,75,80,85,90,95,100,np.inf]# RedFactorList has to be a list or a tuple # Source intensity factor\n",
    "\n",
    "print('Src factors = %s\\nT_new = %s'%(RedFactorList,T_new))"
   ]
  },
  {
   "cell_type": "markdown",
   "metadata": {
    "deletable": true,
    "editable": true
   },
   "source": [
    "# Performances : Monte-Carlo Analysis"
   ]
  },
  {
   "cell_type": "code",
   "execution_count": 18,
   "metadata": {
    "collapsed": true,
    "deletable": true,
    "editable": true
   },
   "outputs": [],
   "source": [
    "### Set method parameters\n",
    "\n",
    "# Main parameters\n",
    "\n",
    "Niterate = 400\n",
    "wav = 1\n",
    "SignifMin = 3 ; Sigfact = 2\n",
    "ROIRadius=ct95 #Theta = ct95\n",
    "\n",
    "# Wavelet parameters\n",
    "\n",
    "nlim=67\n",
    "\n",
    "# Ring method parameters\n",
    "\n",
    "FactRingIn,FactRingOut = 3/2,5/2 # Ring borders distances from circle center : Radius In = FactRingIn*ct95, Radius Out = FactRingOut*ct95\n",
    "\n",
    "# Known background methods parameters\n",
    "\n",
    "Tminbkg, Tmaxbkg,Tbinbkg = 0,60,Tbin_input[name]"
   ]
  },
  {
   "cell_type": "code",
   "execution_count": 19,
   "metadata": {
    "collapsed": false,
    "deletable": true,
    "editable": true,
    "scrolled": false
   },
   "outputs": [
    {
     "name": "stdout",
     "output_type": "stream",
     "text": [
      "200 done in 400  ;  25 done in [1, 5, 10, 15, 20, 25, 30, 35, 40, 45, 50, 55, 60, 65, 70, 75, 80, 85, 90, 95, 100, inf]\r"
     ]
    },
    {
     "name": "stderr",
     "output_type": "stream",
     "text": [
      "/local/home/vheyraud/anaconda3/lib/python3.6/site-packages/gammapy/stats/poisson.py:383: RuntimeWarning: divide by zero encountered in log\n",
      "  ll = n_on * np.log(n_on * tt / alpha)\n",
      "/local/home/vheyraud/anaconda3/lib/python3.6/site-packages/gammapy/stats/poisson.py:383: RuntimeWarning: invalid value encountered in multiply\n",
      "  ll = n_on * np.log(n_on * tt / alpha)\n"
     ]
    },
    {
     "name": "stdout",
     "output_type": "stream",
     "text": [
      "54 done in 400  ;  60 done in [1, 5, 10, 15, 20, 25, 30, 35, 40, 45, 50, 55, 60, 65, 70, 75, 80, 85, 90, 95, 100, inf]]\r"
     ]
    },
    {
     "name": "stderr",
     "output_type": "stream",
     "text": [
      "/local/home/vheyraud/anaconda3/lib/python3.6/site-packages/gammapy/stats/poisson.py:384: RuntimeWarning: divide by zero encountered in log\n",
      "  mm = n_off * np.log(n_off * tt)\n",
      "/local/home/vheyraud/anaconda3/lib/python3.6/site-packages/gammapy/stats/poisson.py:384: RuntimeWarning: invalid value encountered in multiply\n",
      "  mm = n_off * np.log(n_off * tt)\n"
     ]
    },
    {
     "name": "stdout",
     "output_type": "stream",
     "text": [
      "CPU times: user 41min 38s, sys: 28.3 s, total: 42min 6s30, 35, 40, 45, 50, 55, 60, 65, 70, 75, 80, 85, 90, 95, 100, inf]\n",
      "Wall time: 21min 7s\n"
     ]
    }
   ],
   "source": [
    "%%time\n",
    "\n",
    "### Monte-Carlo simulation 2DAnalysis\n",
    "\n",
    "RingNon,ReflNon,ModelNon,AcNon,Wave2DNon,Wave2D1DNon,WaveNon = {},{},{},{},{},{},{}\n",
    "RingNoff,ReflNoff,ModelNoff,AcNoff,Wave2DNoff,Wave2D1DNoff, WaveNoff = {},{},{},{},{},{},{}\n",
    "RingAlpha,ReflAlpha,AcAlpha,Wave2DAlpha,Wave2D1DAlpha,WaveAlpha = {},{},{},{},{},{}\n",
    "RingSignif,ReflSignif,ModelSignif,AcSignif,Wave2DSignif,Wave2D1DSignif,WaveSignif = {},{},{},{},{},{},{}\n",
    "x_smooth,y_smooth={},{}\n",
    "x_wave,y_wave={},{}\n",
    "pixmax,pixmax_wave={},{}\n",
    "\n",
    "for RedFactor in RedFactorList:\n",
    "    \n",
    "    for i in range(Niterate):\n",
    "\n",
    "        ## Read the simulated cubes and create the Wave2Dlet cube\n",
    "       \n",
    "        Source = smart.CumulCube(smart.ReadCubeFromFile(input_dir+'FlucTotal_%s_%i.fits'%(RedFactor,i),\"fits\")[0])\n",
    "        \n",
    "        BkgModel= smart.ReadCubeFromFile(input_dir+'ModelBkg_%i_%i.fits'%(Tmax,i),\"fits\")[0]\n",
    "\n",
    "        BkgAc = smart.ReadCubeFromFile(input_dir+'AcBkgCube_%i_%i.fits'%(Tmaxbkg-Tminbkg,i),\"fits\")[0]\n",
    "        \n",
    "        Wave2D = smart.ReadCubeFromFile(input_dir+'WavCube2D_%s_%i.fits'%(RedFactor,i),\"fits\")[0]\n",
    "        \n",
    "        ## Recreate the uncumulated Wavelet2D1D filtered cube\n",
    "        \n",
    "        #Wave2D1DCumulated,Wave2D1DCube=np.zeros(np.shape(Source)),np.zeros(np.shape(Source))\n",
    "        \n",
    "        #for j in range(len(T_new)):\n",
    "        #    cube_temp=smart.ReadCubeFromFile(input_dir+'WavCube2D1D_%s_%i_%i.fits'%(RedFactor,i,T_new[j]),\"fits\")[0]\n",
    "        #    Wave2D1DCumulated[:,:,j]=smart.CumulCube(cube_temp)[:,:,-1]\n",
    "        #    if j>=1:\n",
    "        #        Wave2D1DCube[:,:,j]=Wave2D1DCumulated[:,:,j]-Wave2D1DCumulated[:,:,j-1]\n",
    "        \n",
    "        ## Recreate the uncumulated Wavelet 2D (not PyWi) cube\n",
    "        \n",
    "        #WaveCumulated,WaveCube=np.zeros(np.shape(Source)),np.zeros(np.shape(Source))\n",
    "        \n",
    "        #for j in range(len(T_new)):\n",
    "        #    cube_temp=smart.ReadCubeFromFile(input_dir+'WavCube_%s_%i_%i.fits'%(RedFactor,i,T_new[j]),\"fits\")[0]\n",
    "        #    WaveCumulated[:,:,j]=cube_temp\n",
    "        #    if j>=1:\n",
    "        #        WaveCube[:,:,j]=WaveCumulated[:,:,j]-WaveCumulated[:,:,j-1]\n",
    "        #\n",
    "        \n",
    "        ## Compute the results from the cubes\n",
    "\n",
    "        pixmax[RedFactor,i]=SearchMax(Source,meth='smoothing')\n",
    "        #pixmax_wave[RedFactor,i]=SearchMax(Wave2D)\n",
    "               \n",
    "        x_smooth[RedFactor,i],y_smooth[RedFactor,i]=np.full(len(T_new),xcenter),np.full(len(T_new),ycenter)#pixmax[RedFactor,i][0],pixmax[RedFactor,i][1]#\n",
    "        x_wave[RedFactor,i],y_wave[RedFactor,i]=np.full(len(T_new),xcenter),np.full(len(T_new),ycenter)#pixmax[RedFactor,i][0],pixmax[RedFactor,i][1]#pixmax_wave[RedFactor,i][0],pixmax_wave[RedFactor,i][1]#\n",
    "        \n",
    "        Ring = Cube2DAnalyse(Source,T_new,method='ring',xsrc=x_smooth[RedFactor,i],ysrc=y_smooth[RedFactor,i])\n",
    "        RingSignif[RedFactor,i],RingNon[RedFactor,i],RingNoff[RedFactor,i],RingAlpha = Ring[0],Ring[1],Ring[2],Ring[3]\n",
    "        Wave2D = Cube2DAnalyse(Wave2D,T_new,method='no bkg',xsrc=x_wave[RedFactor,i],ysrc=y_wave[RedFactor,i]) \n",
    "        Wave2DSignif[RedFactor,i],Wave2DNon[RedFactor,i],Wave2DNoff[RedFactor,i],Wave2DAlpha = Wave2D[0],Wave2D[1],Wave2D[2],Wave2D[3]\n",
    "  \n",
    "        #Wave2D1D = Cube2DAnalyse(Wave2D1DCumulated,method='ROI vs FOV') \n",
    "        #Wave2D1DSignif[RedFactor,i],Wave2D1DNon[RedFactor,i],Wave2D1DNoff[RedFactor,i],Wave2D1DAlpha = Wave2D1D[0],Wave2D1D[1],Wave2D1D[2],Wave2D1D[3]\n",
    "          \n",
    "            \n",
    "        #Refl = Cube2DAnalyse(Source,T_new,method='reflected',xsrc=x_smooth[RedFactor,i],ysrc=y_smooth[RedFactor,i])             \n",
    "        #ReflSignif[RedFactor,i],ReflNon[RedFactor,i],ReflNoff[RedFactor,i],ReflAlpha = Refl[0],Refl[1],Refl[2],Refl[3]\n",
    "        \n",
    "        #Model = Cube2DAnalyse(Source,T_new,method='model bkg',cubemodel=BkgModel,Tmaxbkg=T_new[-1],Tminbkg=2*T_new[0]-T_new[1],xsrc=x_smooth[RedFactor,i],ysrc=y_smooth[RedFactor,i])\n",
    "        #ModelSignif[RedFactor,i],ModelNon[RedFactor,i],ModelNoff[RedFactor,i],ModelAlpha = Model[0],Model[1],Model[2],Model[3]\n",
    "        #\n",
    "        #Ac = Cube2DAnalyse(Source,T_new,cubebkgac=BkgAc,method='acquired bkg',xsrc=x_smooth[RedFactor,i],ysrc=y_smooth[RedFactor,i])\n",
    "        #AcSignif[RedFactor,i],AcNon[RedFactor,i],AcNoff[RedFactor,i],AcAlpha = Ac[0],Ac[1],Ac[2],Ac[3]\n",
    "        \n",
    "        print(i+1,'done in',Niterate,' ; ',RedFactor,'done in',RedFactorList,end='\\r')"
   ]
  },
  {
   "cell_type": "markdown",
   "metadata": {
    "deletable": true,
    "editable": true
   },
   "source": [
    "# Results analysis"
   ]
  },
  {
   "cell_type": "code",
   "execution_count": 20,
   "metadata": {
    "collapsed": true,
    "deletable": true,
    "editable": true
   },
   "outputs": [],
   "source": [
    "## Create the lists of the times for which 3 sigma is reached\n",
    "\n",
    "tmin_values_model, tmin_values_ac, tmin_values_ring, tmin_values_refl, tmin_values_wave = {},{},{},{},{}\n",
    "\n",
    "for RedFactor in RedFactorList:\n",
    "    tmin_values_wave[RedFactor]=SelectTimes(Signif=Wave2DSignif,SignifMin=SignifMin,T_new=T_new,RedFactor=RedFactor,N=Niterate)\n",
    "    #tmin_values_refl[RedFactor]=SelectTimes(Signif=ReflSignif,SignifMin=SignifMin,T_new=T_new,RedFactor=RedFactor,N=Niterate)\n",
    "    tmin_values_ring[RedFactor]=SelectTimes(Signif=RingSignif,SignifMin=SignifMin,T_new=T_new,RedFactor=RedFactor,N=Niterate)\n",
    "    #tmin_values_ac[RedFactor]=SelectTimes(Signif=AcSignif,SignifMin=SignifMin,T_new=T_new,RedFactor=RedFactor,N=Niterate)\n",
    "    #tmin_values_model[RedFactor]=SelectTimes(Signif=ModelSignif,SignifMin=SignifMin,T_new=T_new,RedFactor=RedFactor,N=Niterate)\n",
    "        \n",
    "###Create the lists of the median times to reach 3sigma in cases of success\n",
    "\n",
    "Valtmed_model,Valtmed_ac,Valtmed_refl,Valtmed_ring,Valtmed_wave,Valtmed_wave_classic  = [],[],[],[],[],[]\n",
    "# DetectionPerc will be the (perc)% best value to get SignifMin as early as possible\n",
    "perc = 0.90\n",
    "\n",
    "Timemin = np.min(T_new) #To begin time values at 0 (y-axe) (Not counting the time from the alert and slewing)\n",
    "\n",
    "for RedFactor in RedFactorList:\n",
    "    #Valtmed_model.append(ArrValMedian(tmin_values_model[RedFactor],perc)-(Timemin-Tbin_input[name]))\n",
    "    #Valtmed_ac.append(ArrValMedian(tmin_values_ac[RedFactor],perc)-(Timemin-Tbin_input[name]))\n",
    "    #Valtmed_refl.append(ArrValMedian(tmin_values_refl[RedFactor],perc)-(Timemin-Tbin_input[name]))\n",
    "    Valtmed_ring.append(ArrValMedian(tmin_values_ring[RedFactor],perc)-(Timemin-Tbin_input[name]))  \n",
    "    Valtmed_wave.append(ArrValMedian(tmin_values_wave[RedFactor],perc)-(Timemin-Tbin_input[name]))\n"
   ]
  },
  {
   "cell_type": "code",
   "execution_count": 21,
   "metadata": {
    "collapsed": false,
    "deletable": true,
    "editable": true
   },
   "outputs": [
    {
     "name": "stdout",
     "output_type": "stream",
     "text": [
      "0.0\n"
     ]
    }
   ],
   "source": [
    "I=[]\n",
    "for i in range(Niterate):\n",
    "    if np.max(Wave2DNon[np.inf,i])<1:\n",
    "        I.append(i)\n",
    "print(len(I)/Niterate*100)"
   ]
  },
  {
   "cell_type": "code",
   "execution_count": 22,
   "metadata": {
    "collapsed": false,
    "deletable": true,
    "editable": true
   },
   "outputs": [
    {
     "data": {
      "image/png": "[encoded data removed]",
      "text/plain": [
       "<Figure size 720x432 with 1 Axes>"
      ]
     },
     "metadata": {},
     "output_type": "display_data"
    }
   ],
   "source": [
    "## Plot the median t3sigma for successes as a function of the source intensity, for each method\n",
    "idbg = 1\n",
    "\n",
    "if idbg == 1:\n",
    "\n",
    "    fig, (ax) = plt.subplots(figsize=(10,6))\n",
    "    #ax.plot(np.array(RedFactorList),Valtmed_model,label='Perfectly known background')\n",
    "    #ax.plot(np.array(RedFactorList),Valtmed_model,'.',color='r')\n",
    "    #ax.plot(np.array(RedFactorList),Valtmed_ac,label='Acquired background',color='b')\n",
    "    #ax.plot(np.array(RedFactorList),Valtmed_ac,'.',color='b')\n",
    "    ax.plot(np.array(RedFactorList),Valtmed_wave,label='Wavelets method')\n",
    "    ax.plot(np.array(RedFactorList),Valtmed_wave,'.',color='#1f77b4')\n",
    "    #ax.plot(np.array(RedFactorList),Valtmed_refl,label='Reflected method',color='dodgerblue')\n",
    "    #ax.plot(np.array(RedFactorList),Valtmed_refl,'.',color='dodgerblue')\n",
    "    ax.plot(np.array(RedFactorList),Valtmed_ring,label='Ring method')\n",
    "    ax.plot(np.array(RedFactorList),Valtmed_ring,'.',color='#ff7f0e')\n",
    "\n",
    "    ax.set_xlabel('Reductive factor of intensity',fontsize=15)\n",
    "    ax.set_ylabel('T$_{min}$ to get $\\sigma$ $\\geqslant$3 [s]',fontsize=15)\n",
    "    #ax.set_xscale('log')\n",
    "    #text =  '$\\sigma_{min}$               = %s\\n'\\\n",
    "    #    'T$_{bin}$                = %s s\\n'\\\n",
    "    #    'I$_{Steady Src}$ max = %s\\n'\\\n",
    "    #    'x$_{cen}$, y$_{cen}$       = %s px, %s px\\n'\\\n",
    "    #    '\\nSignificance methods parameters :\\n'\\\n",
    "    #    '        N $\\sigma_{PSF}$        = %s\\n'\\\n",
    "    #    %(SignifMin,Tbin_input[name],SteadySourcePeak,xcenter,ycenter,Sigfact)\n",
    "    #ax.text(1.05,0.3,text, dict(size=12), transform = ax.transAxes,\\\n",
    "    #                                    bbox=dict(facecolor='white', alpha=0.5))\n",
    "    ax.set_title('Median t($\\sigma_{min}$)')\n",
    "    plt.savefig('./MedianTimesResults_CenteredSource.png')\n",
    "    plt.legend()\n",
    "    plt.show()"
   ]
  },
  {
   "cell_type": "code",
   "execution_count": 23,
   "metadata": {
    "collapsed": true,
    "deletable": true,
    "editable": true
   },
   "outputs": [],
   "source": [
    "###Create the lists of the percentage of success for each method\n",
    "\n",
    "DetectionPerc_model,DetectionPerc_ac,DetectionPerc_refl,DetectionPerc_ring,DetectionPerc_wave,DetectionPerc_wave_classic  = [],[],[],[],[],[]\n",
    "# DetectionPerc will be the (perc)% best value to get SignifMin as early as possible\n",
    "\n",
    "for RedFactor in RedFactorList:\n",
    "    #DetectionPerc_model.append(len(np.where(~np.isnan(tmin_values_model[RedFactor]))[0])/Niterate*100)\n",
    "    #DetectionPerc_ac.append(len(np.where(~np.isnan(tmin_values_ac[RedFactor]))[0])/Niterate*100)\n",
    "    #DetectionPerc_refl.append(len(np.where(~np.isnan(tmin_values_refl[RedFactor]))[0])/Niterate*100)\n",
    "    DetectionPerc_ring.append(len(np.where(~np.isnan(tmin_values_ring[RedFactor]))[0])/Niterate*100)\n",
    "    DetectionPerc_wave.append(len(np.where(~np.isnan(tmin_values_wave[RedFactor]))[0])/Niterate*100)\n",
    "   "
   ]
  },
  {
   "cell_type": "code",
   "execution_count": 24,
   "metadata": {
    "collapsed": false,
    "deletable": true,
    "editable": true
   },
   "outputs": [
    {
     "data": {
      "image/png": "[encoded data removed]",
      "text/plain": [
       "<Figure size 720x432 with 1 Axes>"
      ]
     },
     "metadata": {},
     "output_type": "display_data"
    },
    {
     "name": "stdout",
     "output_type": "stream",
     "text": [
      "False positives : \n",
      " Ring method :  1.0 %\n",
      " Wavelet method :  6.0 %\n"
     ]
    }
   ],
   "source": [
    "## Plot the percentage of success for each method as a function of the source intensity\n",
    "idbg = 1\n",
    "\n",
    "if idbg == 1:\n",
    "\n",
    "    fig, ax = plt.subplots(figsize=(10,6))\n",
    "    #ax.plot(np.array(RedFactorList),DetectionPerc_model,label='Perfectly known background')\n",
    "    #ax.plot(np.array(RedFactorList),DetectionPerc_model,'.',color='r')\n",
    "    #ax.plot(np.array(RedFactorList),DetectionPerc_ac,label='Acquired background',color='b')\n",
    "    #ax.plot(np.array(RedFactorList),DetectionPerc_ac,'.',color='b')\n",
    "    ax.errorbar(np.array(RedFactorList),DetectionPerc_wave,yerr=100*np.sqrt(np.array(DetectionPerc_wave)/100*(1-np.array(DetectionPerc_wave)/100)/Niterate),label='Wavelets method')\n",
    "    #ax.errorbar(np.array(RedFactorList),DetectionPerc_refl,yerr=100*np.sqrt(np.array(DetectionPerc_refl)/100*(1-np.array(DetectionPerc_refl)/100)/Niterate),color='dodgerblue',label='Wavelets method')\n",
    "    ax.errorbar(np.array(RedFactorList),DetectionPerc_ring,yerr=100*np.sqrt(np.array(DetectionPerc_ring)/100*(1-np.array(DetectionPerc_ring)/100)/Niterate),label='Ring method')\n",
    "    ax.set_xlabel('Reductive factor of intensity',fontsize=15)\n",
    "    ax.plot(np.array(RedFactorList),np.full(len(np.array(RedFactorList)),90),'-',label='90 percent limit',color='grey')\n",
    "    ax.set_ylabel('$Percentage$ $of$ $success$')\n",
    "    ax.set_xscale('linear')\n",
    "    text =  '$\\sigma_{min}$               = %s\\n'\\\n",
    "        'T$_{bin}$                = %s s\\n'\\\n",
    "        'I$_{Steady Src}$ max = %s\\n'\\\n",
    "        'x$_{cen}$, y$_{cen}$       = %s px, %s px\\n'\\\n",
    "        '\\nSignificance methods parameters :\\n'\\\n",
    "        '        N $\\sigma_{PSF}$        = %s\\n'\\\n",
    "        %(SignifMin,Tbin_input[name],SteadySourcePeak,xcenter,ycenter,Sigfact)\n",
    "    #ax.text(1.05,0.3,text, dict(size=12), transform = ax.transAxes,\\\n",
    "                                        #bbox=dict(facecolor='white', alpha=0.5))\n",
    "    ax.set_title('Percentage of detection for %s iterations'%(Niterate))\n",
    "    ax.tick_params(axis='x', labelsize=15)\n",
    "    ax.tick_params(axis='y', labelsize=15)\n",
    "    ax.set_xlim(31,101)\n",
    "    plt.savefig('./PercentageOfSuccess_CenteredSource.png')\n",
    "    plt.legend()\n",
    "    plt.show()\n",
    "    print('False positives : \\n Ring method : ',DetectionPerc_ring[-1],'%\\n Wavelet method : ',DetectionPerc_wave[-1],'%')"
   ]
  },
  {
   "cell_type": "code",
   "execution_count": 135,
   "metadata": {
    "collapsed": false,
    "deletable": true,
    "editable": true
   },
   "outputs": [
    {
     "ename": "KeyError",
     "evalue": "(80, 0)",
     "output_type": "error",
     "traceback": [
      "\u001b[0;31m---------------------------------------------------------------------------\u001b[0m",
      "\u001b[0;31mKeyError\u001b[0m                                  Traceback (most recent call last)",
      "\u001b[0;32m<ipython-input-135-20ac49dd03db>\u001b[0m in \u001b[0;36m<module>\u001b[0;34m()\u001b[0m\n\u001b[1;32m      8\u001b[0m \u001b[0mPixIndice\u001b[0m\u001b[0;34m,\u001b[0m \u001b[0mTrialIndice\u001b[0m \u001b[0;34m=\u001b[0m \u001b[0;34m[\u001b[0m\u001b[0;34m]\u001b[0m\u001b[0;34m,\u001b[0m\u001b[0;34m[\u001b[0m\u001b[0;34m]\u001b[0m\u001b[0;34m\u001b[0m\u001b[0m\n\u001b[1;32m      9\u001b[0m \u001b[0;32mfor\u001b[0m \u001b[0mi\u001b[0m \u001b[0;32min\u001b[0m \u001b[0mrange\u001b[0m\u001b[0;34m(\u001b[0m\u001b[0mNiterate\u001b[0m\u001b[0;34m)\u001b[0m\u001b[0;34m:\u001b[0m\u001b[0;34m\u001b[0m\u001b[0m\n\u001b[0;32m---> 10\u001b[0;31m     \u001b[0;32mif\u001b[0m \u001b[0mnp\u001b[0m\u001b[0;34m.\u001b[0m\u001b[0mmax\u001b[0m\u001b[0;34m(\u001b[0m\u001b[0mRingSignif\u001b[0m\u001b[0;34m[\u001b[0m\u001b[0mRedFact\u001b[0m\u001b[0;34m,\u001b[0m\u001b[0mi\u001b[0m\u001b[0;34m]\u001b[0m\u001b[0;34m)\u001b[0m\u001b[0;34m>=\u001b[0m\u001b[0;36m3\u001b[0m\u001b[0;34m:\u001b[0m\u001b[0;34m\u001b[0m\u001b[0m\n\u001b[0m\u001b[1;32m     11\u001b[0m         \u001b[0mTrialIndice\u001b[0m\u001b[0;34m.\u001b[0m\u001b[0mappend\u001b[0m\u001b[0;34m(\u001b[0m\u001b[0mi\u001b[0m\u001b[0;34m)\u001b[0m\u001b[0;34m\u001b[0m\u001b[0m\n\u001b[1;32m     12\u001b[0m \u001b[0mdata_arr\u001b[0m\u001b[0;34m=\u001b[0m\u001b[0mnp\u001b[0m\u001b[0;34m.\u001b[0m\u001b[0mempty\u001b[0m\u001b[0;34m(\u001b[0m\u001b[0;34m(\u001b[0m\u001b[0mlen\u001b[0m\u001b[0;34m(\u001b[0m\u001b[0mT_new\u001b[0m\u001b[0;34m)\u001b[0m\u001b[0;34m,\u001b[0m\u001b[0mlen\u001b[0m\u001b[0;34m(\u001b[0m\u001b[0mTrialIndice\u001b[0m\u001b[0;34m)\u001b[0m\u001b[0;34m)\u001b[0m\u001b[0;34m)\u001b[0m\u001b[0;34m\u001b[0m\u001b[0m\n",
      "\u001b[0;31mKeyError\u001b[0m: (80, 0)"
     ]
    },
    {
     "data": {
      "text/plain": [
       "<Figure size 720x504 with 0 Axes>"
      ]
     },
     "metadata": {},
     "output_type": "display_data"
    }
   ],
   "source": [
    "## Plot the assessed position in time in the case of a detection\n",
    "RedFact=80\n",
    "distance_lim=2\n",
    "\n",
    "fig=plt.figure(figsize=(10,7))\n",
    "\n",
    "\n",
    "PixIndice, TrialIndice = [],[]\n",
    "for i in range(Niterate):\n",
    "    if np.max(RingSignif[RedFact,i])>=3:\n",
    "        TrialIndice.append(i)\n",
    "data_arr=np.empty((len(T_new),len(TrialIndice)))\n",
    "\n",
    "for j in range(len(TrialIndice)):\n",
    "    data_arr[:,j]=np.sqrt((pixmax[RedFact,TrialIndice[j]][0]-xcenter)**2+(pixmax[RedFact,TrialIndice[j]][1]-ycenter)**2)\n",
    "    #plt.scatter(T_new,data_arr[:,j],color='#1f77b4')\n",
    "for t in range(len(T_new)):\n",
    "    plt.errorbar(x=T_new,y=np.mean(data_arr,axis=1),yerr=np.std(data_arr,axis=1),linestyle='None',marker='.',color='#1f77b4')\n",
    "plt.plot(T_new,np.full(len(T_new),distance_lim),color='grey')\n",
    "plt.ylabel('Distance to the center')\n",
    "plt.xlabel('Observation time (s)')\n",
    "plt.show()\n",
    "plt.savefig('./Assessed_position_distribution.pdf')\n"
   ]
  },
  {
   "cell_type": "code",
   "execution_count": null,
   "metadata": {
    "collapsed": true,
    "deletable": true,
    "editable": true
   },
   "outputs": [],
   "source": [
    "## Plot the assessed position in time\n",
    "RedFact=80\n",
    "distance_lim=2\n",
    "\n",
    "fig=plt.figure(figsize=(10,7))\n",
    "data_arr=np.empty((len(T_new),Niterate))\n",
    "\n",
    "for i in range(Niterate):\n",
    "    data_arr[:,i]=np.sqrt((pixmax[RedFact,i][0]-xcenter)**2+(pixmax[RedFact,i][1]-ycenter)**2)\n",
    "    #plt.scatter(T_new,data_arr[:,i],color='#1f77b4')\n",
    "for t in range(len(T_new)):\n",
    "    plt.errorbar(x=T_new,y=np.mean(data_arr,axis=1),yerr=np.std(data_arr,axis=1),linestyle='None',marker='.',color='#1f77b4')\n",
    "plt.plot(T_new,np.full(len(T_new),distance_lim),color='grey')\n",
    "plt.ylabel('Distance to the center')\n",
    "plt.xlabel('Observation time (s)')\n",
    "plt.show()\n",
    "plt.savefig('./Assessed_position_distribution.pdf')\n"
   ]
  },
  {
   "cell_type": "code",
   "execution_count": null,
   "metadata": {
    "collapsed": true,
    "deletable": true,
    "editable": true
   },
   "outputs": [],
   "source": [
    "## Show the results of a gaussian smoothing on a cube\n",
    "\n",
    "RedFact=np.inf\n",
    "i=np.random.randint(400)\n",
    "test= smart.CumulCube(smart.ReadCubeFromFile(input_dir+'FlucTotal_%s_%i.fits'%(RedFact,i),\"fits\")[0])\n",
    "for i in range(len(test[0,0,:])):\n",
    "    test[:,:,i]=convolve_fft(test[:,:,i],Gaussian2DKernel(ct95/2/pixelsize))\n",
    "smart.PlotCubeImage(2,'',test,T_new,54,4)\n",
    "\n",
    "t3s=np.where(RingSignif[RedFact,i]>=3)[0]\n",
    "print('x3s = ',pixmax[RedFact,i][0][t3s],', y3s = ',pixmax[RedFact,i][1][t3s])\n",
    "print('Detection times : ',T_new[t3s])\n"
   ]
  },
  {
   "cell_type": "code",
   "execution_count": 14,
   "metadata": {
    "collapsed": false,
    "deletable": true,
    "editable": true
   },
   "outputs": [
    {
     "name": "stdout",
     "output_type": "stream",
     "text": [
      "\n"
     ]
    },
    {
     "data": {
      "image/png": "[encoded data removed]",
      "text/plain": [
       "<Figure size 648x936 with 2 Axes>"
      ]
     },
     "metadata": {},
     "output_type": "display_data"
    }
   ],
   "source": [
    "## Plot the Non distribution in time for pure noise\n",
    "\n",
    "data_arr=np.empty((len(T_new),Niterate))\n",
    "for i in range(Niterate):\n",
    "    data_arr[:,i]=Wave2DNon[np.inf,i]\n",
    "\n",
    "data=data_arr.flatten()\n",
    "nmax=int(np.max(data))+1\n",
    "nbins=nmax\n",
    "\n",
    "fig,(ax1,ax2)=plt.subplots(2,figsize=(9,13))\n",
    "\n",
    "ax1.hist(data,bins=np.linspace(0,nmax,nbins+1),width=0.7)\n",
    "ax1.set_yscale('log')\n",
    "ax1.set_title('Counts distribution')\n",
    "ax1.set_xlabel('Counts')\n",
    "ax1.set_ylabel('')\n",
    "ax2.set_title('Cumulmative counts distribution')\n",
    "ax2.set_ylim(0,1)\n",
    "ax2.set_ylabel('Percentage of counts')\n",
    "ax2.set_xlabel('Counts')\n",
    "ax2.hist(data,bins=np.linspace(0,nmax,nbins+1),density=True,cumulative=True,width=0.7)\n",
    "plt.savefig('./Distribution_false_positives.png')\n",
    "\n",
    "print()"
   ]
  },
  {
   "cell_type": "code",
   "execution_count": 15,
   "metadata": {
    "collapsed": false,
    "deletable": true,
    "editable": true
   },
   "outputs": [
    {
     "name": "stdout",
     "output_type": "stream",
     "text": [
      "79\n"
     ]
    },
    {
     "data": {
      "image/png": "[encoded data removed]",
      "text/plain": [
       "<Figure size 648x936 with 2 Axes>"
      ]
     },
     "metadata": {},
     "output_type": "display_data"
    }
   ],
   "source": [
    "## Plot the distribution of the maximum number of counts in the ROI over each trial\n",
    "\n",
    "data_arr=np.empty(Niterate)\n",
    "\n",
    "for i in range(Niterate):\n",
    "    data_arr[i]=np.max(Wave2DNon[np.inf,i])\n",
    "\n",
    "data=data_arr.flatten()\n",
    "nmax=int(np.max(data))+1\n",
    "nbins=nmax\n",
    "print(int(nbins))\n",
    "\n",
    "fig,(ax1,ax2)=plt.subplots(2,figsize=(9,13))\n",
    "\n",
    "ax1.hist(data,bins=np.linspace(0,nmax,nbins+1),width=0.7)\n",
    "ax1.set_yscale('log')\n",
    "ax1.set_title('Maximum counts distribution')\n",
    "ax1.set_xlabel('Counts')\n",
    "ax1.set_ylabel('')\n",
    "ax2.set_title('Cumulmative maximum counts distribution')\n",
    "#ax2.set_yscale('log')\n",
    "ax2.set_ylim(0.9,1)\n",
    "ax2.set_ylabel('Percentage of maximum counts')\n",
    "fig.text(0.5,0.84,'Strictly positive count in the ROI : '+str(100*len(data[np.where(data>0)])/Niterate)+'%',bbox=dict(facecolor='white', alpha=0.5))\n",
    "ax2.set_xlabel('Counts')\n",
    "ax2.hist(data,bins=np.linspace(0,nmax,nbins+1),density=True,cumulative=True,width=0.7,align='mid')\n",
    "plt.savefig('./Distribution_false_positives_maximums.png')"
   ]
  },
  {
   "cell_type": "code",
   "execution_count": 124,
   "metadata": {
    "collapsed": false,
    "deletable": true,
    "editable": true
   },
   "outputs": [
    {
     "name": "stdout",
     "output_type": "stream",
     "text": [
      "[0.9043769737388861, 0.9756230262611137]\n"
     ]
    }
   ],
   "source": [
    "p=0.94\n",
    "N=400\n",
    "delta_p=np.sqrt(p*(1-p)/N)\n",
    "CI=[p-3*delta_p,p+3*delta_p]\n",
    "print(CI)\n",
    "\n"
   ]
  },
  {
   "cell_type": "code",
   "execution_count": 56,
   "metadata": {
    "collapsed": false,
    "deletable": true,
    "editable": true
   },
   "outputs": [
    {
     "data": {
      "text/plain": [
       "1.4128318194321643"
      ]
     },
     "execution_count": 56,
     "metadata": {},
     "output_type": "execute_result"
    }
   ],
   "source": [
    "100*np.sqrt(0.0875*(1-0.0875)/400)"
   ]
  },
  {
   "cell_type": "code",
   "execution_count": 57,
   "metadata": {
    "collapsed": false,
    "deletable": true,
    "editable": true
   },
   "outputs": [
    {
     "data": {
      "image/png": "[encoded data removed]",
      "text/plain": [
       "<Figure size 648x504 with 1 Axes>"
      ]
     },
     "metadata": {},
     "output_type": "display_data"
    }
   ],
   "source": [
    "## Plot the differents values of Non as a function of time\n",
    "\n",
    "fig=plt.figure(figsize=(9,7))\n",
    "\n",
    "data_arr=np.empty((len(T_new),Niterate))\n",
    "\n",
    "nsmc=[]\n",
    "ntemp=0\n",
    "for i in range(Niterate):\n",
    "    data_arr[:,i]=Wave2DNon[np.inf,i]\n",
    "    #plt.scatter(T_new,data_arr[:,i],color='#1f77b4')\n",
    "    \n",
    "for t in range(len(T_new)):\n",
    "    plt.errorbar(x=T_new,y=np.add(1,np.mean(data_arr,axis=1)),yerr=np.std(data_arr,axis=1),linestyle='None',marker='x',color='#1f77b4')\n",
    "plt.ylabel('Counts in the ROI')\n",
    "plt.xlabel('Observation time (s)')\n",
    "\n",
    "plt.savefig('./Counts_in_ROI_distribution.png')\n"
   ]
  },
  {
   "cell_type": "code",
   "execution_count": 58,
   "metadata": {
    "collapsed": false,
    "deletable": true,
    "editable": true
   },
   "outputs": [
    {
     "name": "stdout",
     "output_type": "stream",
     "text": [
      "66\n",
      "\n"
     ]
    },
    {
     "data": {
      "application/vnd.jupyter.widget-view+json": {
       "model_id": "c41d0503fa7c4e7190451cdbc8e1bf1c",
       "version_major": 2,
       "version_minor": 0
      },
      "text/plain": [
       "interactive(children=(IntSlider(value=114, description='tdisplay', max=174, min=54, step=4), Output()), _dom_c…"
      ]
     },
     "metadata": {},
     "output_type": "display_data"
    }
   ],
   "source": [
    "## Plot examples of filtered pure noise cubes with a strictly positive number of counts in the ROI\n",
    "\n",
    "x = np.linspace(0,n2Dsize-1,n2Dsize)\n",
    "y = np.linspace(0,n2Dsize-1,n2Dsize)\n",
    "x,y = np.meshgrid(x, y)\n",
    "\n",
    "xc,yc=22,22\n",
    "radius=ct95/pixelsize\n",
    "\n",
    "Image = np.zeros((45,45))\n",
    "ImageOff = smart.MakeRingImage(Image,xc,yc,3/2,5/2,ct95/pixelsize)\n",
    "ImageOn = smart.SepSourceBkgImage(Image=Image,theta=radius,x_src=xc,y_src=yc)[1]\n",
    "Image[np.where(~np.isnan(ImageOn))]=0.02\n",
    "I=[]\n",
    "for i in range(400):\n",
    "    if np.max(Wave2DNon[np.inf,i])!=0:\n",
    "        I.append(i)\n",
    "print(len(I))\n",
    "test=smart.ReadCubeFromFile(input_dir+'WavCube2D_%s_%i.fits'%(np.inf,I[np.random.randint(len(I))]),\"fits\")[0]#126\n",
    "for t in range(len(test[0,0,:])):\n",
    "    test[:,:,t]=test[:,:,t]-Image\n",
    "smart.PlotCubeImage(2,'',test,T_new,54,4)"
   ]
  },
  {
   "cell_type": "code",
   "execution_count": 59,
   "metadata": {
    "collapsed": false,
    "deletable": true,
    "editable": true,
    "scrolled": false
   },
   "outputs": [
    {
     "name": "stdout",
     "output_type": "stream",
     "text": [
      "Positions found after filtering (number of time a pixel is found)\n"
     ]
    },
    {
     "name": "stderr",
     "output_type": "stream",
     "text": [
      "/local/home/vheyraud/anaconda3/lib/python3.6/site-packages/ipykernel_launcher.py:20: RuntimeWarning: invalid value encountered in true_divide\n"
     ]
    },
    {
     "ename": "NameError",
     "evalue": "name 'C' is not defined",
     "output_type": "error",
     "traceback": [
      "\u001b[0;31m---------------------------------------------------------------------------\u001b[0m",
      "\u001b[0;31mNameError\u001b[0m                                 Traceback (most recent call last)",
      "\u001b[0;32m<ipython-input-59-58dc605fbb72>\u001b[0m in \u001b[0;36m<module>\u001b[0;34m()\u001b[0m\n\u001b[1;32m     20\u001b[0m     \u001b[0mAvgIntensity\u001b[0m\u001b[0;34m[\u001b[0m\u001b[0;34m:\u001b[0m\u001b[0;34m,\u001b[0m\u001b[0;34m:\u001b[0m\u001b[0;34m,\u001b[0m\u001b[0mt\u001b[0m\u001b[0;34m]\u001b[0m\u001b[0;34m=\u001b[0m\u001b[0mAvgIntensity\u001b[0m\u001b[0;34m[\u001b[0m\u001b[0;34m:\u001b[0m\u001b[0;34m,\u001b[0m\u001b[0;34m:\u001b[0m\u001b[0;34m,\u001b[0m\u001b[0mt\u001b[0m\u001b[0;34m]\u001b[0m\u001b[0;34m/\u001b[0m\u001b[0mNbCounts\u001b[0m\u001b[0;34m[\u001b[0m\u001b[0;34m:\u001b[0m\u001b[0;34m,\u001b[0m\u001b[0;34m:\u001b[0m\u001b[0;34m,\u001b[0m\u001b[0mt\u001b[0m\u001b[0;34m]\u001b[0m\u001b[0;34m\u001b[0m\u001b[0m\n\u001b[1;32m     21\u001b[0m \u001b[0mprint\u001b[0m\u001b[0;34m(\u001b[0m\u001b[0;34m\"Positions found after filtering (number of time a pixel is found)\"\u001b[0m\u001b[0;34m)\u001b[0m\u001b[0;34m\u001b[0m\u001b[0m\n\u001b[0;32m---> 22\u001b[0;31m \u001b[0msmart\u001b[0m\u001b[0;34m.\u001b[0m\u001b[0mPlotCubeImage\u001b[0m\u001b[0;34m(\u001b[0m\u001b[0;36m2\u001b[0m\u001b[0;34m,\u001b[0m\u001b[0;34m''\u001b[0m\u001b[0;34m,\u001b[0m\u001b[0mC\u001b[0m\u001b[0;34m,\u001b[0m\u001b[0mT_new\u001b[0m\u001b[0;34m,\u001b[0m\u001b[0;36m54\u001b[0m\u001b[0;34m,\u001b[0m\u001b[0;36m4\u001b[0m\u001b[0;34m)\u001b[0m\u001b[0;34m\u001b[0m\u001b[0m\n\u001b[0m\u001b[1;32m     23\u001b[0m \u001b[0mprint\u001b[0m\u001b[0;34m(\u001b[0m\u001b[0;34m\"Mean intensity pixel by pixel over %i iterations\"\u001b[0m\u001b[0;34m%\u001b[0m\u001b[0;34m(\u001b[0m\u001b[0mNiterate\u001b[0m\u001b[0;34m)\u001b[0m\u001b[0;34m)\u001b[0m\u001b[0;34m\u001b[0m\u001b[0m\n\u001b[1;32m     24\u001b[0m \u001b[0msmart\u001b[0m\u001b[0;34m.\u001b[0m\u001b[0mPlotCubeImage\u001b[0m\u001b[0;34m(\u001b[0m\u001b[0;36m2\u001b[0m\u001b[0;34m,\u001b[0m\u001b[0;34m''\u001b[0m\u001b[0;34m,\u001b[0m\u001b[0mAvgIntensity\u001b[0m\u001b[0;34m,\u001b[0m\u001b[0mT_new\u001b[0m\u001b[0;34m,\u001b[0m\u001b[0;36m54\u001b[0m\u001b[0;34m,\u001b[0m\u001b[0;36m4\u001b[0m\u001b[0;34m)\u001b[0m\u001b[0;34m\u001b[0m\u001b[0m\n",
      "\u001b[0;31mNameError\u001b[0m: name 'C' is not defined"
     ]
    }
   ],
   "source": [
    "## Plot the positions where wavelets find a signal\n",
    "\n",
    "RedFactor=np.inf\n",
    "x = np.linspace(0,n2Dsize-1,n2Dsize)\n",
    "y = np.linspace(0,n2Dsize-1,n2Dsize)\n",
    "x,y = np.meshgrid(x, y)\n",
    "\n",
    "xc,yc=22,22\n",
    "radius=ct95/pixelsize\n",
    "\n",
    "NbCounts = np.zeros((45,45,len(T_new)))\n",
    "AvgIntensity = np.zeros((45,45,len(T_new)))\n",
    "for i in range(400):\n",
    "    temp=smart.ReadCubeFromFile(input_dir+'WavCube2D_%s_%i.fits'%(RedFactor,i),\"fits\")[0]\n",
    "    for t in range(len(T_new)):\n",
    "        AvgIntensity[:,:,t]=AvgIntensity[:,:,t]+temp[:,:,t]\n",
    "        temp[:,:,t][np.where(temp[:,:,t]!=0)]=1\n",
    "        NbCounts[:,:,t]=NbCounts[:,:,t]+temp[:,:,t]\n",
    "for i in range(len(T_new)):\n",
    "    AvgIntensity[:,:,t]=AvgIntensity[:,:,t]/NbCounts[:,:,t]\n",
    "print(\"Positions found after filtering (number of time a pixel is found)\")\n",
    "smart.PlotCubeImage(2,'',C,T_new,54,4)\n",
    "print(\"Mean intensity pixel by pixel over %i iterations\"%(Niterate))\n",
    "smart.PlotCubeImage(2,'',AvgIntensity,T_new,54,4)"
   ]
  },
  {
   "cell_type": "code",
   "execution_count": null,
   "metadata": {
    "collapsed": true,
    "deletable": true,
    "editable": true
   },
   "outputs": [],
   "source": [
    "##Calculate Ring surface and ROI surface\n",
    "\n",
    "x = np.linspace(0,n2Dsize-1,n2Dsize)\n",
    "y = np.linspace(0,n2Dsize-1,n2Dsize)\n",
    "x,y = np.meshgrid(x, y)\n",
    "\n",
    "xc,yc=22,22\n",
    "radius=ct95/pixelsize\n",
    "\n",
    "Image = np.ones((45,45))\n",
    "ImageOff = smart.MakeRingImage(Image,xc,yc,3/2,5/2,ct95/pixelsize)\n",
    "ImageOn = smart.SepSourceBkgImage(Image=Image,theta=radius,x_src=xc,y_src=yc)[1]\n",
    "\n",
    "ImageOff[np.where(np.isnan(ImageOff))]=0.1\n",
    "ImageOn[np.where(np.isnan(ImageOn))]=0.01\n",
    "\n",
    "fig=plt.figure(figsize=(6,6))\n",
    "ax=fig.add_axes()\n",
    "plt.imshow(ImageOff+2*ImageOn,cmap='binary',vmin=0)\n",
    "plt.grid()\n",
    "\n",
    "plt.savefig('./Ring_image_example.png')\n",
    "\n",
    "#smart.PlotImage(image=ImageOff,title='')\n",
    "#smart.PlotImage(image=ImageOn,title='')\n",
    "\n",
    "RingArea = len(np.where(~np.isnan(ImageOff))[0])\n",
    "OnArea = len(np.where(~np.isnan(ImageOn))[0])\n",
    "\n",
    "#NRefl=1/ReflAlpha[0]\n",
    "print('RingArea = %i, OnArea = %i'%(RingArea,OnArea))\n"
   ]
  },
  {
   "cell_type": "code",
   "execution_count": null,
   "metadata": {
    "collapsed": true,
    "deletable": true,
    "editable": true,
    "scrolled": false
   },
   "outputs": [],
   "source": [
    "## Studying the cases where the LiMa formula is uncorrect, and how much it is uncorrect\n",
    "\n",
    "Ring_bkg=[]\n",
    "Ring_non=[]\n",
    "Ring_portion=[]\n",
    "Ring_sig=[]\n",
    "alpha_ring=OnArea/RingArea\n",
    "\n",
    "Wave_bkg=[]\n",
    "Wave_non=[]\n",
    "Wave_portion=[]\n",
    "Wave_sig=[]\n",
    "alpha_wave=OnArea/(n2Dsize**2-OnArea)\n",
    "\n",
    "for RedFactor in RedFactorList:\n",
    "    \n",
    "    temp_bkg=BkgDistribution(RingNoff,T_new,tmin_values_ring,RedFactor,Niterate,RingArea,OnArea,'ring')\n",
    "    temp_non=CountsDistribution(RingNon,T_new,tmin_values_ring,RedFactor,Niterate)\n",
    "    \n",
    "    mask_ring=np.where((temp_bkg<=5)&(temp_non<=10))\n",
    "    \n",
    "    Ring_bkg.append(temp_bkg[mask_ring])\n",
    "    Ring_non.append(temp_non[mask_ring])\n",
    "    Ring_sig.append(significance_on_off(n_on=temp_non[mask_ring],n_off=temp_bkg[mask_ring]/alpha_ring,alpha=alpha_ring))\n",
    "    Ring_portion.append(len(mask_ring[0])/len(np.where(~np.isnan(temp_non))[0]))\n",
    "    \n",
    "    temp_bkg=BkgDistribution(Wave2DNoff,T_new,tmin_values_wave,RedFactor,Niterate,(n2Dsize**2-OnArea),OnArea,'wave')\n",
    "    temp_non=CountsDistribution(Wave2DNon,T_new,tmin_values_wave,RedFactor,Niterate)\n",
    "    \n",
    "    mask_wave=np.where(temp_bkg==0)\n",
    "    \n",
    "    Wave_bkg.append(temp_bkg[mask_wave])\n",
    "    Wave_non.append(temp_non[mask_wave])\n",
    "    Wave_sig.append(significance_on_off(n_on=temp_non[mask_wave],n_off=temp_bkg[mask_wave]/alpha_wave,alpha=alpha_wave))\n",
    "    Wave_portion.append(len(mask_wave[0])/len(np.where(~np.isnan(temp_non))[0]))\n",
    "\n",
    "\n",
    "\n",
    "print('Factors :', 1/np.array(RedFactorList),'\\n')\n",
    "print('Ring bkg <= 5 and non<=10 :', Ring_portion,'\\n')\n",
    "print('Wavelets bkg = 0 :', Wave_portion,'\\n')\n",
    "\n",
    "#print('Alpha ring = %f'%(OnArea/RingArea),'\\n')\n",
    "#\n",
    "#I=0\n",
    "#k=0\n",
    "#\n",
    "#print('Ring example n°%i for intensity = %i :\\n\\n Non = %f, Noff = %f, Bkg = %f, Li&Ma significance = %f'%(k,1/RedFactorList[I],\\\n",
    "#                                            Ring_non[I][k],Ring_bkg[I][k]*RingArea/OnArea,Ring_bkg[I][k],Ring_sig[I][k]),'\\n')"
   ]
  },
  {
   "cell_type": "code",
   "execution_count": null,
   "metadata": {
    "collapsed": true,
    "deletable": true,
    "editable": true,
    "scrolled": false
   },
   "outputs": [],
   "source": [
    "##Plot of Signal, Background, Distance to the center and time to reach 3sigma distributions\n",
    "\n",
    "# General parameters\n",
    "for RedFactor in RedFactorList:\n",
    "    \n",
    "    nbins=np.arange(T_new[0],T_new[-1]+Tbin_input[name]+1,Tbin_input[name])\n",
    "    Nfails,Nsuccess,N=0,0,Niterate\n",
    "    SurfaceOn=OnArea\n",
    "    areaIn=OnArea\n",
    "    \n",
    "    \n",
    "    #Specific parameters ---------> BE CAREFULL : CHANGE ALL THE PARAMETERS, INCLUDING TITLE,AREA_OUT,METH,TMIN_VALUES,FILE NAME\n",
    "    \n",
    "    meth='wave'#wave,ac,ring,refl\n",
    "    areaOut=(n2Dsize**2-areaIn)#RingArea#areaIn*NRefl#\n",
    "    tmin_values=tmin_values_wave\n",
    "    Non=Wave2DNon#RingNon#ReflNon#\n",
    "    Noff=Wave2DNoff#RingNoff#ReflNoff#\n",
    "    #distances=DistanceDistribution(x_smooth,y_smooth,tmin_values,RedFactor,Niterate,xcenter,ycenter)#x_wave,y_wave\n",
    "    \n",
    "    #Distributions\n",
    "    \n",
    "    noff=CountsDistribution(Noff,T_new,tmin_values,RedFactor,Niterate)\n",
    "    non=CountsDistribution(Non,T_new,tmin_values,RedFactor,Niterate)\n",
    "    \n",
    "    bkg=BkgDistribution(Noff,T_new,tmin_values,RedFactor,Niterate,areaOut,SurfaceOn,meth)\n",
    "    signal=SignalDistribution(Non,Noff,T_new,tmin_values,RedFactor,Niterate,areaOut,SurfaceOn,meth)\n",
    "    \n",
    "    times_3sig=tmin_values[RedFactor][np.where(~np.isnan(tmin_values[RedFactor]))]\n",
    "    Nfails,Nsuccess=Niterate-len(times_3sig),len(times_3sig)\n",
    "    \n",
    "    \n",
    "    #Plot\n",
    "    \n",
    "    \n",
    "    fig,ax=plt.subplots(3,2,figsize=(20,16))\n",
    "    fig.suptitle('Wavelets distributions\\nInverse flux factor = %i\\nNumber of fail : %i, number of success : %i'%(1/RedFactor,Nfails,Nsuccess))\n",
    "    \n",
    "    ax[0,0].hist(signal[np.where(~np.isnan(signal))],color='steelblue',rwidth=0.8)\n",
    "    ax[0,0].set_xlabel('Signal at 3sigma')\n",
    "    ax[0,0].set_ylabel('Nb of occurrences')\n",
    "    ax[0,1].hist(bkg[np.where(~np.isnan(bkg))],color='steelblue',rwidth=0.8)\n",
    "    ax[0,1].set_xlabel('Background at 3sigma')\n",
    "    ax[0,1].set_ylabel('Nb of occurrences')\n",
    "    \n",
    "    ax[1,0].hist(non[~np.isnan(non)],color='steelblue',rwidth=0.8)\n",
    "    ax[1,0].set_xlabel('Non')\n",
    "    ax[1,0].set_ylabel('Nb of occurrences')\n",
    "    ax[1,1].hist(noff[~np.isnan(non)],color='steelblue',rwidth=0.8)\n",
    "    ax[1,1].set_xlabel('Noff')\n",
    "    ax[1,1].set_ylabel('Nb of occurrences')\n",
    "    \n",
    "    ax[2,0].hist(times_3sig,bins=nbins,color='steelblue',rwidth=0.8,align='left')\n",
    "    ax[2,0].set_xlabel('Time to reach 3sigma (s)')\n",
    "    ax[2,0].set_ylabel('Nb of occurrences')\n",
    "    #ax[2,1].hist(distances,rwidth=0.8,align='mid')\n",
    "    ax[2,1].set_xlabel('Distance to the real position (deg)')\n",
    "    ax[2,1].set_ylabel('Nb of occurrences')\n",
    "    plt.savefig('./DiagnosticPlot_Wavelets_ReducingFact=%i.pdf'%(1/RedFactor))\n",
    "    #plt.show()\n"
   ]
  },
  {
   "cell_type": "code",
   "execution_count": null,
   "metadata": {
    "collapsed": true,
    "deletable": true,
    "editable": true
   },
   "outputs": [],
   "source": [
    "##Plot of t3sigma distribution\n",
    "\n",
    "\n",
    "RedFactor=0.05\n",
    "\n",
    "print('RedFactor = %s, Niterate = %i'%(RedFactor,Niterate))\n",
    "\n",
    "nbins=np.arange(T_new[0],T_new[-1]+Tbin_input[name]+1,Tbin_input[name])\n",
    "Nfails,Nsuccess,N=0,0,Niterate\n",
    "\n",
    "hist_model=tmin_values_model[RedFactor][np.where(~np.isnan(tmin_values_model[RedFactor]))]\n",
    "Nfails_model,Nsuccess_model=Niterate-len(hist_model),len(hist_model)\n",
    "hist_ac=tmin_values_ac[RedFactor][np.where(~np.isnan(tmin_values_ac[RedFactor]))]\n",
    "Nfails_ac,Nsuccess_ac=Niterate-len(hist_ac),len(hist_ac)\n",
    "hist_ring=tmin_values_ring[RedFactor][np.where(~np.isnan(tmin_values_ring[RedFactor]))]\n",
    "Nfails_ring,Nsuccess_ring=Niterate-len(hist_ring),len(hist_ring)\n",
    "hist_refl=tmin_values_refl[RedFactor][np.where(~np.isnan(tmin_values_refl[RedFactor]))]\n",
    "Nfails_refl,Nsuccess_refl=Niterate-len(hist_refl),len(hist_refl)\n",
    "hist_wave=tmin_values_wave[RedFactor][np.where(~np.isnan(tmin_values_wave[RedFactor]))]\n",
    "Nfails_wave,Nsuccess_wave=Niterate-len(hist_wave),len(hist_wave)\n",
    "\n",
    "fig,ax=plt.subplots(2,2,figsize=(20,12))\n",
    "fig.suptitle('Time distributions\\nFlux factor = %s'%(RedFactor),fontsize=22)\n",
    "ax[0,0].hist(hist_model,bins=nbins,color='steelblue',rwidth=0.8,align='left')\n",
    "ax[0,0].set_title('Perfectly known background')\n",
    "ax[0,0].set_xlabel('$Time$ $to$ $reach$ $3\\sigma$ $(s)$')\n",
    "ax[0,0].set_ylabel('$Number$ $of$ $successes$')\n",
    "ax[0,0].set_xticks(T_new)\n",
    "ax[0,0].text(0.52,0.82,'Successes for %i trials = %i '%(N,Nsuccess_model), dict(size=15),\\\n",
    "             transform = ax[0,0].transAxes,bbox=dict(facecolor='white', alpha=0.9))\n",
    "ax[0,1].hist(hist_ac,bins=nbins,color='steelblue',rwidth=0.8,align='left')\n",
    "ax[0,1].set_title('Acquired background')\n",
    "ax[0,1].set_xlabel('$Time$ $to$ $reach$ $3\\sigma$ $(s)$')\n",
    "ax[0,1].set_ylabel('$Number$ $of$ $successes$')\n",
    "ax[0,1].set_xticks(T_new)\n",
    "ax[0,1].text(0.52,0.82,'Successes for %i trials = %i '%(N,Nsuccess_ac), dict(size=15),\\\n",
    "             transform = ax[0,1].transAxes,bbox=dict(facecolor='white', alpha=0.9))\n",
    "ax[1,1].hist(hist_wave,bins=nbins,color='steelblue',rwidth=0.8,align='left')\n",
    "ax[1,1].set_title('Wavelets method')\n",
    "ax[1,1].set_xlabel('$Time$ $to$ $reach$ $3\\sigma$ $(s)$')\n",
    "ax[1,1].set_ylabel('$Number$ $of$ $successes$')\n",
    "ax[1,1].set_xticks(T_new)\n",
    "ax[1,1].text(0.52,0.82,'Successes for %i trials = %i '%(N,Nsuccess_wave), dict(size=15),\\\n",
    "             transform = ax[1,1].transAxes,bbox=dict(facecolor='white', alpha=0.9))\n",
    "ax[1,0].hist(hist_ring,bins=nbins,color='steelblue',rwidth=0.8,align='left')\n",
    "ax[1,0].set_title('Ring method')\n",
    "ax[1,0].set_xlabel('$Time$ $to$ $reach$ $3\\sigma$ $(s)$')\n",
    "ax[1,0].set_ylabel('$Number$ $of$ $successes$')\n",
    "ax[1,0].set_xticks(T_new)\n",
    "ax[1,0].text(0.52,0.82,'Successes for %i trials = %i '%(N,Nsuccess_ring), dict(size=15),\\\n",
    "             transform = ax[1,0].transAxes,bbox=dict(facecolor='white', alpha=0.9))\n",
    "plt.show()\n",
    "\n",
    "    \n"
   ]
  },
  {
   "cell_type": "code",
   "execution_count": null,
   "metadata": {
    "collapsed": true,
    "deletable": true,
    "editable": true
   },
   "outputs": [],
   "source": [
    "##Plot of t3sigma distribution for ring and wavelets\n",
    "\n",
    "\n",
    "RedFactor=0.05\n",
    "\n",
    "print('RedFactor = %s, Niterate = %i'%(RedFactor,Niterate))\n",
    "\n",
    "nbins=np.arange(T_new[0],T_new[-1]+Tbin_input[name]+1,Tbin_input[name])\n",
    "Nfails,Nsuccess,N=0,0,Niterate\n",
    "\n",
    "\n",
    "hist_ring=tmin_values_ring[RedFactor][np.where(~np.isnan(tmin_values_ring[RedFactor]))]\n",
    "Nfails_ring,Nsuccess_ring=Niterate-len(hist_ring),len(hist_ring)\n",
    "hist_wave=tmin_values_wave[RedFactor][np.where(~np.isnan(tmin_values_wave[RedFactor]))]\n",
    "Nfails_wave,Nsuccess_wave=Niterate-len(hist_wave),len(hist_wave)\n",
    "\n",
    "fig,ax=plt.subplots(2,figsize=(10,12))\n",
    "fig.suptitle('Time distributions\\nFlux factor = %s'%(RedFactor),fontsize=22)\n",
    "\n",
    "ax[1].hist(hist_wave,bins=nbins,color='steelblue',rwidth=0.8,align='left')\n",
    "ax[1].set_title('Wavelets method')\n",
    "ax[1].set_xlabel('$Time$ $to$ $reach$ $3\\sigma$ $(s)$')\n",
    "ax[1].set_ylabel('$Number$ $of$ $successes$')\n",
    "ax[1].set_xticks(T_new)\n",
    "ax[1].text(0.52,0.82,'Successes for %i trials = %i '%(N,Nsuccess_wave), dict(size=15),\\\n",
    "             transform = ax[1].transAxes,bbox=dict(facecolor='white', alpha=0.9))\n",
    "ax[0].hist(hist_ring,bins=nbins,color='steelblue',rwidth=0.8,align='left')\n",
    "ax[0].set_title('Ring method')\n",
    "ax[0].set_xlabel('$Time$ $to$ $reach$ $3\\sigma$ $(s)$')\n",
    "ax[0].set_ylabel('$Number$ $of$ $successes$')\n",
    "ax[0].set_xticks(T_new)\n",
    "ax[0].text(0.52,0.82,'Successes for %i trials = %i '%(N,Nsuccess_ring), dict(size=15),\\\n",
    "             transform = ax[0].transAxes,bbox=dict(facecolor='white', alpha=0.9))\n",
    "plt.show()\n",
    "\n",
    "    \n"
   ]
  },
  {
   "cell_type": "code",
   "execution_count": null,
   "metadata": {
    "collapsed": true,
    "deletable": true,
    "editable": true
   },
   "outputs": [],
   "source": [
    "##Plot of Signal vs Background distribution\n",
    "\n",
    "RedFactor=0.05\n",
    "\n",
    "SurfaceOn=OnArea\n",
    "areaIn=OnArea\n",
    "areaRing=RingArea\n",
    "\n",
    "ring_bkg=BkgDistribution(RingNoff,T_new,tmin_values_ring,RedFactor,Niterate,areaRing,SurfaceOn,'ring')\n",
    "wave_bkg=BkgDistribution(Wave2DNoff,T_new,tmin_values_wave,RedFactor,Niterate,8100-areaIn,SurfaceOn,'wave')\n",
    "\n",
    "ring_signal=SignalDistribution(RingNon,RingNoff,T_new,tmin_values_ring,RedFactor,Niterate,areaRing,SurfaceOn,'ring')\n",
    "wave_signal=SignalDistribution(Wave2DNon,Wave2DNoff,T_new,tmin_values_wave,RedFactor,Niterate,8100-areaIn,SurfaceOn,'wave')\n",
    "\n",
    "\n",
    "fig,ax=plt.subplots(2,2,figsize=(20,15))\n",
    "fig.suptitle('Signal and background distributions\\nFlux factor = %s'%(RedFactor),fontsize=22)\n",
    "\n",
    "ax[0,0].hist(ring_signal[np.where(~np.isnan(ring_signal))],color='steelblue',rwidth=0.8)\n",
    "ax[0,0].set_title('Ring signal')\n",
    "ax[0,0].set_xlabel('$Nb$ $of$ $counts$ $at$ $3\\sigma$ $(s)$')\n",
    "ax[0,0].set_ylabel('$Number$ $of$ $occurrences$')\n",
    "ax[1,0].hist(ring_bkg[np.where(~np.isnan(ring_bkg))],color='steelblue',rwidth=0.8)\n",
    "ax[1,0].set_title('Ring background')\n",
    "ax[1,0].set_xlabel('$Nb$ $of$ $counts$ $at$ $3\\sigma$ $(s)$')\n",
    "ax[1,0].set_ylabel('$Number$ $of$ $occurrences$')\n",
    "ax[0,1].hist(wave_signal[np.where(~np.isnan(wave_signal))],color='steelblue',rwidth=0.8)\n",
    "ax[0,1].set_title('Wave signal')\n",
    "ax[0,1].set_xlabel('$Nb$ $of$ $counts$ $at$ $3\\sigma$ $(s)$')\n",
    "ax[0,1].set_ylabel('$Number$ $of$ $occurrences$')\n",
    "ax[1,1].hist(wave_bkg[np.where(~np.isnan(wave_bkg))],color='steelblue',rwidth=0.8)\n",
    "ax[1,1].set_title('Wave background')\n",
    "ax[1,1].set_xlabel('$Nb$ $of$ $counts$ $at$ $3\\sigma$ $(s)$')\n",
    "ax[1,1].set_ylabel('$Number$ $of$ $occurrences$')\n",
    "plt.show()\n"
   ]
  },
  {
   "cell_type": "code",
   "execution_count": null,
   "metadata": {
    "collapsed": true,
    "deletable": true,
    "editable": true
   },
   "outputs": [],
   "source": [
    "##Plot of Noff/toff distribution\n",
    "\n",
    "RedFactor=0.02\n",
    "\n",
    "areaIn=OnArea\n",
    "areaRing=RingArea\n",
    "areaAc=(TmaxBkg-TminBkg)\n",
    "\n",
    "model=BkgRateDistribution(ModelNoff,T_new,tmin_values_model,RedFactor,Niterate,areaIn,'model')\n",
    "ac=BkgRateDistribution(AcNoff,T_new,tmin_values_ac,RedFactor,Niterate,areaAc*areaIn,'ac')\n",
    "ring=BkgRateDistribution(RingNoff,T_new,tmin_values_ring,RedFactor,Niterate,areaRing,'ring')\n",
    "wave=BkgRateDistribution(Wave2DNoff,T_new,tmin_values_wave,RedFactor,Niterate,8100-areaIn,'wave')\n",
    "\n",
    "fig,ax=plt.subplots(1,3,figsize=(28,8))\n",
    "fig.suptitle('Noff/toff distributions\\nFlux factor = %s'%(RedFactor),fontsize=22)\n",
    "\n",
    "ax[0].hist(ac[~np.isnan(ac)],color='steelblue',rwidth=0.8)\n",
    "ax[0].set_title('Acquired background')\n",
    "ax[0].set_xlabel('$Nb$ $of$ $counts$ $pre$ $pixel$ $at$ $3\\sigma$ $(s)$')\n",
    "ax[2].set_ylabel('$Number$ $of$ $occurrences$')\n",
    "ax[2].hist(wave[~np.isnan(wave)],color='steelblue',rwidth=0.8)\n",
    "ax[2].set_title('Wavelets method')\n",
    "ax[2].set_xlabel('$Nb$ $of$ $counts$ $pre$ $pixel$ $at$ $3\\sigma$ $(s)$')\n",
    "ax[1].set_ylabel('$Number$ $of$ $occurrences$')\n",
    "ax[1].hist(ring[~np.isnan(ring)],color='steelblue',rwidth=0.8)\n",
    "ax[1].set_title('Ring method')\n",
    "ax[1].set_xlabel('$Nb$ $of$ $counts$ $pre$ $pixel$ $at$ $3\\sigma$ $(s)$')\n",
    "ax[1].set_ylabel('$Number$ $of$ $occurrences$')\n",
    "plt.show()\n"
   ]
  },
  {
   "cell_type": "code",
   "execution_count": null,
   "metadata": {
    "collapsed": true,
    "deletable": true,
    "editable": true
   },
   "outputs": [],
   "source": [
    "##Plot of Background distribution\n",
    "\n",
    "RedFactor=0.02\n",
    "\n",
    "SurfaceOn=OnArea\n",
    "areaIn=OnArea\n",
    "areaRing=RingArea\n",
    "areaAc=(TmaxBkg-TminBkg)\n",
    "\n",
    "ac=BkgDistribution(AcNoff,T_new,tmin_values_ac,RedFactor,Niterate,areaAc*areaIn,SurfaceOn,'ac')\n",
    "ring=BkgDistribution(RingNoff,T_new,tmin_values_ring,RedFactor,Niterate,areaRing,SurfaceOn,'ring')\n",
    "wave=BkgDistribution(Wave2DNoff,T_new,tmin_values_wave,RedFactor,Niterate,8100-areaIn,SurfaceOn,'wave')\n",
    "\n",
    "fig,ax=plt.subplots(1,3,figsize=(28,8))\n",
    "fig.suptitle('Background distributions\\nFlux factor = %s'%(RedFactor),fontsize=22)\n",
    "\n",
    "ax[0].hist(ac[~np.isnan(ac)],color='steelblue',rwidth=0.8)\n",
    "ax[0].set_title('Acquired background')\n",
    "ax[0].set_xlabel('$Nb$ $of$ $counts$ $pre$ $pixel$ $at$ $3\\sigma$ $(s)$')\n",
    "ax[2].set_ylabel('$Number$ $of$ $occurrences$')\n",
    "ax[2].hist(wave[~np.isnan(wave)],color='steelblue',rwidth=0.8)\n",
    "ax[2].set_title('Wavelets method')\n",
    "ax[2].set_xlabel('$Nb$ $of$ $counts$ $pre$ $pixel$ $at$ $3\\sigma$ $(s)$')\n",
    "ax[1].set_ylabel('$Number$ $of$ $occurrences$')\n",
    "ax[1].hist(ring[~np.isnan(ring)],color='steelblue',rwidth=0.8)\n",
    "ax[1].set_title('Ring method')\n",
    "ax[1].set_xlabel('$Nb$ $of$ $counts$ $pre$ $pixel$ $at$ $3\\sigma$ $(s)$')\n",
    "ax[1].set_ylabel('$Number$ $of$ $occurrences$')\n",
    "plt.show()\n"
   ]
  },
  {
   "cell_type": "code",
   "execution_count": null,
   "metadata": {
    "collapsed": true,
    "deletable": true,
    "editable": true,
    "scrolled": true
   },
   "outputs": [],
   "source": [
    "##Plot of Signal distribution\n",
    "\n",
    "RedFactor=0.02\n",
    "\n",
    "SurfaceOn=OnArea\n",
    "\n",
    "areaIn=OnArea\n",
    "areaRing=RingArea\n",
    "areaAc=(TmaxBkg-TminBkg)\n",
    "\n",
    "model=SignalDistribution(ModelNon,ModelNoff,T_new,tmin_values_model,RedFactor,Niterate,areaIn,SurfaceOn,'model')\n",
    "ac=SignalDistribution(AcNon,AcNoff,T_new,tmin_values_ac,RedFactor,Niterate,areaAc*areaIn,SurfaceOn,'ac')\n",
    "ring=SignalDistribution(RingNon,RingNoff,T_new,tmin_values_ring,RedFactor,Niterate,areaRing,SurfaceOn,'ring')\n",
    "wave=SignalDistribution(Wave2DNon,Wave2DNoff,T_new,tmin_values_wave,RedFactor,Niterate,8100-areaIn,SurfaceOn,'wave')\n",
    "\n",
    "print('RedFactor = ',RedFactor)\n",
    "\n",
    "fig,ax=plt.subplots(2,2,figsize=(20,12))\n",
    "fig.suptitle('Signal distributions\\nFlux factor = %s'%(RedFactor),fontsize=22)\n",
    "ax[0,0].hist(model[~np.isnan(model)],color='steelblue',rwidth=0.8,align='mid')\n",
    "ax[0,0].set_title('Perfectly known background')\n",
    "ax[0,0].set_xlabel('$Nb$ $of$ $counts$ $at$ $3\\sigma$')\n",
    "ax[0,0].set_ylabel('$Number$ $of$ $occurrences$')\n",
    "ax[0,1].hist(ac[~np.isnan(ac)],color='steelblue',rwidth=0.8,align='mid')\n",
    "ax[0,1].set_title('Acquired background')\n",
    "ax[0,1].set_xlabel('$Nb$ $of$ $counts$ $at$ $3\\sigma$')\n",
    "ax[0,1].set_ylabel('$Number$ $of$ $occurrences$')\n",
    "ax[1,1].hist(wave[~np.isnan(wave)],color='steelblue',rwidth=0.8,align='mid')\n",
    "ax[1,1].set_title('Wavelets method')\n",
    "ax[1,1].set_xlabel('$Nb$ $of$ $counts$ $at$ $3\\sigma$')\n",
    "ax[1,1].set_ylabel('$Number$ $of$ $occurrences$')\n",
    "ax[1,0].hist(ring[~np.isnan(ring)],color='steelblue',rwidth=0.8,align='mid')\n",
    "ax[1,0].set_title('Ring method')\n",
    "ax[1,0].set_xlabel('$Nb$ $of$ $counts$ $at$ $3\\sigma$')\n",
    "ax[1,0].set_ylabel('$Number$ $of$ $occurrences$')\n",
    "plt.show()\n"
   ]
  },
  {
   "cell_type": "code",
   "execution_count": null,
   "metadata": {
    "collapsed": true,
    "deletable": true,
    "editable": true
   },
   "outputs": [],
   "source": []
  }
 ],
 "metadata": {
  "anaconda-cloud": {},
  "celltoolbar": "Attachments",
  "kernelspec": {
   "display_name": "Python 3",
   "language": "python",
   "name": "python3"
  },
  "language_info": {
   "codemirror_mode": {
    "name": "ipython",
    "version": 3
   },
   "file_extension": ".py",
   "mimetype": "text/x-python",
   "name": "python",
   "nbconvert_exporter": "python",
   "pygments_lexer": "ipython3",
   "version": "3.6.6"
  }
 },
 "nbformat": 4,
 "nbformat_minor": 1
}
