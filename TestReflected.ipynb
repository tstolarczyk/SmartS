{
 "cells": [
  {
   "cell_type": "code",
   "execution_count": 26,
   "metadata": {
    "collapsed": false
   },
   "outputs": [
    {
     "data": {
      "image/png": "[encoded data removed]",
      "text/plain": [
       "<Figure size 432x288 with 1 Axes>"
      ]
     },
     "metadata": {},
     "output_type": "display_data"
    }
   ],
   "source": [
    "import numpy as np\n",
    "import matplotlib.pyplot as plt\n",
    "n2Dsize = 90\n",
    "XOn = 25\n",
    "YOn = 15\n",
    "Xcen = n2Dsize/2\n",
    "Ycen = n2Dsize/2\n",
    "DistOn = np.sqrt((XOn-Xcen)**2+(YOn-Ycen)**2)\n",
    "ThetaOn = np.arccos((XOn-Xcen)/DistOn)\n",
    "#ThetaOn = np.arctan((YOn-Ycen)/(XOn-Xcen))\n",
    "Sigmafact = 2\n",
    "sigmaX = 2 # pixels\n",
    "sigmaY = 2 # pixels\n",
    "d = 5 # distance between 2 circles' centers are 3xradius\n",
    "\n",
    "radius = Sigmafact*np.sqrt(sigmaX**2+sigmaY**2)\n",
    "Circ = 2*np.pi*DistOn\n",
    "NOffRegions = int(Circ/(d*radius))\n",
    "\n",
    "plt.plot(XOn,YOn,'+')\n",
    "# for i in range(1,NOffRegions+1):  AC\n",
    "for i in range(1,NOffRegions):\n",
    "    Xnew = Xcen + DistOn*np.cos(ThetaOn+((i*d*radius)/DistOn))\n",
    "    Ynew = Xcen - DistOn*np.sin(ThetaOn+((i*d*radius)/DistOn))\n",
    "#    Ynew = Xcen + DistOn*np.sin(ThetaOn+((i*d*radius)/DistOn))\n",
    "    plt.plot(Xnew,Ynew,'.')\n",
    "    plt.text(Xnew,Ynew,str(i))\n",
    "plt.show()"
   ]
  },
  {
   "cell_type": "code",
   "execution_count": null,
   "metadata": {
    "collapsed": true
   },
   "outputs": [],
   "source": []
  }
 ],
 "metadata": {
  "kernelspec": {
   "display_name": "Python 3",
   "language": "python",
   "name": "python3"
  },
  "language_info": {
   "codemirror_mode": {
    "name": "ipython",
    "version": 3
   },
   "file_extension": ".py",
   "mimetype": "text/x-python",
   "name": "python",
   "nbconvert_exporter": "python",
   "pygments_lexer": "ipython3",
   "version": "3.6.6"
  }
 },
 "nbformat": 4,
 "nbformat_minor": 2
}
