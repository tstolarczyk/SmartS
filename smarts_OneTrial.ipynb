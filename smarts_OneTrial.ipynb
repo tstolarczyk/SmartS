{
 "cells": [
  {
   "cell_type": "markdown",
   "metadata": {
    "deletable": true,
    "editable": true
   },
   "source": [
    "# Sparse Method Algorithm for Research of Transcients Signal\n",
    "\n",
    "Find transient source in data cubes\n",
    "\n",
    "F. Acero, T. Stolarczyk, A. Chalumeau, Juin 2018\n",
    "\n",
    "This notebook will:\n",
    "1. Simulation (generate_cube_simu)\n",
    "    - generate the fake data cubes (X,Y,T)\n",
    "    - Filter the noise in the cubes with different methods\n",
    "    - Find the peak (burst) in the data\n",
    "    - Measure how well the methods performed\n",
    "2. Produce diagnostic and result plots (plot_slice)\n",
    "\n",
    "3. Produce performance plots based on Monte-Carlo\n",
    "\n",
    "Some scenarios are considered: \n",
    "1. Transcient source position known:\n",
    "    - Appearing in the FoV : known background\n",
    "    - Generalist case : background evaluated online\n",
    "2. Unknown position:\n",
    "    - Wavelet cleaning\n",
    "\n",
    "All the code is pure Python with the exception of the denoising step which requires the binary file msvst_2d1d."
   ]
  },
  {
   "cell_type": "code",
   "execution_count": 1,
   "metadata": {
    "collapsed": true,
    "deletable": true,
    "editable": true
   },
   "outputs": [],
   "source": [
    "%matplotlib inline\n",
    "import pywi\n",
    "from pywi.processing.transform import starlet\n",
    "import scipy\n",
    "import numpy as np\n",
    "import matplotlib.pyplot as plt\n",
    "from matplotlib.colors import PowerNorm\n",
    "import matplotlib.gridspec as gridspec\n",
    "#from matplotlib.colors import Normalize\n",
    "\n",
    "from gammapy.stats import significance\n",
    "from gammapy.stats import significance_on_off\n",
    "\n",
    "from astropy.convolution import convolve,convolve_fft,Gaussian1DKernel,Gaussian2DKernel,Tophat2DKernel\n",
    "from astropy.visualization import simple_norm\n",
    "from astropy.io import fits\n",
    "from astropy.wcs import WCS\n",
    "from astropy.coordinates import SkyCoord,Angle\n",
    "from astropy.wcs import WCS\n",
    "import astropy.units as u\n",
    "from astropy.table import Table\n",
    "\n",
    "from scipy.stats import norm\n",
    "from scipy import interpolate\n",
    "from scipy.ndimage import zoom\n",
    "\n",
    "from mpl_toolkits.mplot3d import Axes3D\n",
    "from ipywidgets import interact, fixed\n",
    "import os,subprocess,sys,getpass,copy\n",
    "import time as systime\n",
    "import multiprocessing as mp\n",
    "from functools import partial\n",
    "from collections import defaultdict\n",
    "\n",
    "#import line_profiler\n",
    "#%load_ext line_profiler\n",
    "#from scipy.stats import chisqprob\n",
    "#from scipy.special import erfinv,erf,erfcx\n",
    "\n",
    "import smartcube as smart\n",
    "import scipy.integrate as sc"
   ]
  },
  {
   "cell_type": "code",
   "execution_count": 2,
   "metadata": {
    "collapsed": true,
    "deletable": true,
    "editable": true
   },
   "outputs": [],
   "source": [
    "### Styles\n",
    "# Define some plotting parameters and styles\n",
    "#print(plt.style.available)\n",
    "#plt.style.use('seaborn-talk')\n",
    "plt.style.use('fast')\n",
    "\n",
    "plt.rcParams['image.cmap'] = 'jet'\n",
    "plt.rcParams['font.weight'] = 'bold'\n",
    "plt.rcParams['font.weight'] = 'bold'\n",
    "plt.rcParams['axes.labelweight']= 'bold'  # weight of the x and y labels\n",
    "plt.rcParams['figure.titleweight']= 'bold'   # weight of the figure title\n",
    "plt.rcParams['axes.labelsize']= 15\n",
    "plt.rcParams['figure.titlesize']= 20\n",
    "plt.rcParams['xtick.labelsize']= 12\n",
    "plt.rcParams['ytick.labelsize']= 12\n",
    "plt.rcParams['image.origin'] = 'lower'\n",
    "plt.rcParams['image.interpolation'] = 'nearest'\n",
    "plt.rcParams['axes.grid']=True"
   ]
  },
  {
   "cell_type": "code",
   "execution_count": 3,
   "metadata": {
    "collapsed": false,
    "deletable": true,
    "editable": true,
    "scrolled": false
   },
   "outputs": [
    {
     "name": "stdout",
     "output_type": "stream",
     "text": [
      "Defining variables for user vheyraud\n",
      "Directories :\n",
      "    - Root              : ./\n",
      "    - MSVST_2d1d binary : \n",
      "    - Input             : ./\n",
      "    - Output            : ./bin/One_Trial/\n",
      "    - Scores            : ./\n",
      "    - Figures           : ./\n"
     ]
    }
   ],
   "source": [
    "#### Global variables and initialisations\n",
    "# Path to the binary file - This is lame and adding the binary file to somewhere accesible by $PATH shoud be enough.\n",
    "#prog='/Users/facero/Documents/Work/CTA/CTA-AIM/code/image-cleaning/msvst/build/msvst_2d1d'\n",
    "\n",
    "user = getpass.getuser()\n",
    "print(\"Defining variables for user\",user)\n",
    "exit\n",
    "if (user==\"achalume\"):\n",
    "    root_dir   = \"/Users/achalume/Documents/Stage/Codes/\" \n",
    "    bin_dir    = \"/Users/achalume/Documents/Lib_files/Sparse2D/build/\"\n",
    "elif (user==\"stolar\"):\n",
    "    root_dir   = \"/home/stolar/Code/\" \n",
    "    bin_dir    = root_dir + \"bin/\"\n",
    "elif (user==\"vheyraud\"):\n",
    "    root_dir = (\"./\")\n",
    "    bin_dir    = \"\" \n",
    "\n",
    "#input_dir  = root_dir + \"GRB-Fermi/FAWT3D/FermiData/\"\n",
    "#output_dir = root_dir + \"GRB-Fermi/FAWT3D/output/\"\n",
    "#msvst      = bin_dir  + \"msvst_2d1d\"\n",
    "#score_dir  = root_dir + \"GRB-Fermi/FAWT3D/scores/\"\n",
    "#fig_dir    = root_dir + \"GRB-Fermi/FAWT3D/Figures/\"\n",
    "\n",
    "input_dir  = root_dir\n",
    "output_dir = \"./bin/One_Trial/\"\n",
    "msvst      = \"msvst_2d1d\"#bin_dir\n",
    "wave2D     = \"./wl_t2_filter \"\n",
    "score_dir  = root_dir\n",
    "fig_dir    = root_dir\n",
    "acceptance_file = \"Acceptance-LST-ctapipe.txt\"\n",
    "\n",
    "#### Check existences\n",
    "if not os.path.exists(output_dir) :\n",
    "    os.makedirs(output_dir)\n",
    "if not os.path.exists(fig_dir) :\n",
    "    os.makedirs(fig_dir)\n",
    "if not os.path.exists(score_dir) :\n",
    "    os.makedirs(score_dir)\n",
    "    \n",
    "print(\"Directories :\")\n",
    "print(\"    - Root              :\",root_dir)\n",
    "print(\"    - MSVST_2d1d binary :\",bin_dir)\n",
    "print(\"    - Input             :\",input_dir)\n",
    "print(\"    - Output            :\",output_dir)\n",
    "print(\"    - Scores            :\",score_dir)\n",
    "print(\"    - Figures           :\",fig_dir)"
   ]
  },
  {
   "cell_type": "markdown",
   "metadata": {
    "deletable": true,
    "editable": true
   },
   "source": [
    "# LC function"
   ]
  },
  {
   "cell_type": "code",
   "execution_count": 4,
   "metadata": {
    "collapsed": true,
    "deletable": true,
    "editable": true
   },
   "outputs": [],
   "source": [
    "def LCBinChange(pre_t,pre_LC,fact_T_bin):\n",
    "    \"\"\"\n",
    "    Re-bin a light curve multiplying the initial bin size with fact_T_bin. Returns : new_t,new_LC\n",
    "    \"\"\"\n",
    "    \n",
    "    alpha = fact_T_bin\n",
    "\n",
    "    new_t = np.zeros(int(len(pre_t)/alpha)) ; new_LC = np.zeros(len(new_t))\n",
    "    for i in range(0,len(new_t)):\n",
    "        new_t[i] = pre_t[int(i*alpha)]\n",
    "        new_LC[i] = np.sum(pre_LC[int((alpha*i)):int((alpha*i)+alpha)])\n",
    "\n",
    "    return new_t,new_LC\n",
    "\n",
    "############################################\n",
    "def NormLC(LC,value,time,tmin,tmax):\n",
    "    \"\"\"\n",
    "    Norm a range in a light curve (SUM(LC) = value from tmin to tmax). Returns : Normed_LC\n",
    "    \"\"\"\n",
    "    LC_range = LC[np.where((time>=tmin) & (time<=tmax))]\n",
    "    Normed_LC = value*LC/(np.sum(LC_range))\n",
    "    \n",
    "    return Normed_LC\n",
    "                    \n",
    "############################################\n",
    "def InterpFunction(x_val,y_val,x_val_new):\n",
    "    \"\"\"\n",
    "    Interpolate y(x) to get an approached function (y_new) with a given xtable (x_val_new). Returns : y_new\n",
    "    \"\"\"\n",
    "    \n",
    "    f = interpolate.interp1d(x_val,y_val)\n",
    "    y_new = f(x_val_new)\n",
    "    \n",
    "    return y_new\n",
    "\n",
    "############################################\n",
    "def MakeLCTh(timebin,Xi,Tmintot,Tmaxtot,Ntotrange,Tminrange,Tmaxrange):\n",
    "    \"\"\"\n",
    "    Make the theoretical LC normalizing at Ntotrange from Tminrange to Tmaxrange. Returns : Time, LC\n",
    "    \"\"\"\n",
    "    \n",
    "    T_0 = Tmintot\n",
    "    Time = np.arange(Tmintot,Tmaxtot+timebin,timebin)\n",
    "    K = (Tminrange**Xi)*(1+Xi)*Ntotrange/(Tmaxrange**(1+Xi) - Tminrange**(1+Xi))\n",
    "    LC = K*Tminrange**(-Xi)*((Time)**(Xi+1)-(Time-timebin)**(Xi+1))/(Xi+1)\n",
    "    \n",
    "    return Time,LC\n",
    "############################################\n",
    "def MakeLCFa(datafile,Timebin,Bin_Factor,Ntotrange,Tminrange,Tmaxrange):\n",
    "    \"\"\"\n",
    "    From Fabio's file, make LC normalizing at Ntotrange from Tminrange to Tmaxrange\\\n",
    "    choosing an initial bin size (Timebin). Returns : Time,LC\n",
    "    \"\"\"\n",
    "    \n",
    "    TimeData,LCData = np.loadtxt(datafile,unpack=True)\n",
    "    Time = TimeData - TimeData[0] ; Time_size = TimeData[-1] - TimeData[0]   \n",
    "    \n",
    "    # Decrease time bin using an interpolation\n",
    "    TimeInterp  = [x*Timebin for x in range(0,int(Time_size/Timebin),1)]\n",
    "    TimeInterp = np.array(TimeInterp)\n",
    "    LC = InterpFunction(Time,LCData,TimeInterp)\n",
    "    \n",
    "    LC_norm = NormLC(LC,Ntotrange,TimeInterp,Tminrange,Tmaxrange)\n",
    "    T_input,LC_input = LCBinChange(TimeInterp,LC_norm,Bin_Factor) \n",
    "    \n",
    "    return T_input,LC_input\n",
    "\n",
    "############################################\n",
    "def MakeLCIn(datafile,Timebin,Bin_Factor,Ntotrange,Tminrange,Tmaxrange):\n",
    "    \"\"\"\n",
    "    From Inoue's extrapolated LC, make LC normalizing at Ntotrange from Tminrange to Tmaxrange.\\\n",
    "    Initial time bin (0.5) taken from the article. Returns : Time, LC\n",
    "    \"\"\"\n",
    "    \n",
    "    TData,LCData = np.genfromtxt(datafile,unpack=True,skip_header=6)\n",
    "\n",
    "    # Set time values\n",
    "    TData_0 = round(TData[0]) ; TData_end = np.round(TData[-1]/Timebin)*(Timebin)\n",
    "    Time = np.linspace(TData_0,TData_end,len(TData))\n",
    "    # Set LC values\n",
    "    LC = LCData * Timebin # Put light curve in counts (it was in Cts/Bin before)\n",
    "    LC = np.rint(LC).astype(int) # Set counts values\n",
    "\n",
    "    T_input,LC_input = LCBinChange(Time,LC,Bin_Factor)\n",
    "    LC_norm = NormLC(LC_input,Ntotrange,T_input,Tminrange,Tmaxrange)\n",
    "\n",
    "    return T_input,LC_norm\n"
   ]
  },
  {
   "cell_type": "markdown",
   "metadata": {
    "deletable": true,
    "editable": true
   },
   "source": [
    "# Cube fonctions"
   ]
  },
  {
   "cell_type": "code",
   "execution_count": 5,
   "metadata": {
    "collapsed": true,
    "deletable": true,
    "editable": true
   },
   "outputs": [],
   "source": [
    "def BkgCube(time,SteadSrcPeak,bkg):\n",
    "    \"\"\"\n",
    "    Creates the background model cube from a background value and a steady source peak.\\\n",
    "    Returns : BkgCube\n",
    "    \"\"\"\n",
    "    BkgToycube = smart.CreateBkgModelCube(time,sigmaX,sigmaY,SteadSrcPeak,bkg,n2Dsize,pixelsize,Acceptance)\n",
    "    BkgCube = smart.NoiseCube(BkgToycube)\n",
    "    \n",
    "    return BkgCube\n",
    "\n",
    "############################################\n",
    "def ImageCube(LC,time,SrcPeak,xcent,ycent,SteadSrcPeak,bkg):\n",
    "    \"\"\"\n",
    "    Creates a cube containing bkg + transcient source. Returns : Fluctuated Signal+Bkg, Fluctuated Signal,Fluctuated Bkg\n",
    "    \"\"\"\n",
    "    \n",
    "    BkgToycube = smart.CreateBkgModelCube(time,sigmaX,sigmaY,SteadSrcPeak,bkg,n2Dsize,pixelsize,Acceptance)    \n",
    "    \n",
    "    #Create cubes' lists\n",
    "    SrcCube = smart.CreateSignalModelCube(LC,SrcPeak,xcent,ycent,sigmaX,sigmaY,n2Dsize,pixelsize,Acceptance)\n",
    "    SignalNoisyCube = smart.NoiseCube(SrcCube)\n",
    "    BkgNoisyCube = smart.NoiseCube(BkgToycube)\n",
    "    NoisyCube = SignalNoisyCube+BkgNoisyCube\n",
    "    \n",
    "    return (NoisyCube,SignalNoisyCube,BkgNoisyCube)\n",
    "\n",
    "############################################\n",
    "def BkgModelCube(time,tmin,tmax,tbin,SteadSrcPeak,bkg):\n",
    "    \"\"\"\n",
    "    Create a bkg model cube (size = time) containing at each timebin the same image corresponding\\\n",
    "    to a perfectly known background. Returns : BkgModelCube\n",
    "    \n",
    "    Note : this function can be largely simplified, some parameters are useless (tmin,tmax,tbin..)\n",
    "    \"\"\"\n",
    "        \n",
    "    TimeAccum = np.arange(tmin,tmax+1,tbin)\n",
    "\n",
    "    BkgToycube = smart.CreateBkgModelCube(TimeAccum,sigmaX,sigmaY,SteadSrcPeak,bkg,n2Dsize,pixelsize,Acceptance)\n",
    "    \n",
    "    #BkgNoisyCube = smart.NoiseCube(BkgToycube)\n",
    "    BkgMeanImage = smart.CumulCube(BkgToycube)[:,:,-1]/(len(TimeAccum))\n",
    "    \n",
    "    BkgModelCube = np.zeros((len(BkgToycube[:,0,0]),len(BkgToycube[0,:,0]),len(time)))\n",
    "    for t in range(0,len(time)):\n",
    "        BkgModelCube[:,:,t] = BkgMeanImage\n",
    "    \n",
    "    return BkgModelCube\n",
    "\n",
    "############################################\n",
    "def BkgAcCube(tmin,tmax,tbin,SteadSrcPeak,bkg):\n",
    "    \"\"\"\n",
    "    Create a bkg acquisition cube containing at each time bin the same image corresponding to\n",
    "    and accumulated bkg from tmin to tmax(with tbins). Returns : BkgAcCue\n",
    "    \"\"\"\n",
    "    TimeAccum = np.arange(tmin,tmax+1,tbin)\n",
    "    \n",
    "    BkgToycube = smart.CreateBkgModelCube(TimeAccum,sigmaX,sigmaY,SteadSrcPeak,bkg,n2Dsize,pixelsize,Acceptance)\n",
    "    BkgNoisyCube = smart.NoiseCube(BkgToycube)\n",
    "\n",
    "    return BkgNoisyCube\n",
    "\n",
    "############################################\n",
    "def WavCleaning(cube_noisy_file,wc_file,command):\n",
    "    \"\"\"\n",
    "    Cube cleaning using wavelet transforms with msvst_2d1d (a shift is made to fix some argues,\\\n",
    "    maybe it should be seen better). Returns : Cube cleaned\n",
    "    \"\"\"\n",
    "    \n",
    "    cmd='%s  %s %s %s'%(msvst,command,cube_noisy_file,wc_file)\n",
    "    subprocess.call(cmd,shell=True) # USE msvst_2d1d FILE\n",
    "\n",
    "    #### Read wavelets cleaned cube file\n",
    "    cube_wc,header_wc = smart.ReadCubeFromFile(wc_file,'fits')\n",
    "    \n",
    "    #### Cube shifting to fix msvst_2d1d's shift \n",
    "    cube_wc_shift = copy.deepcopy(cube_wc)\n",
    "    cube_wc_shift[...,:-1] = cube_wc[...,1:] # Shift (time) to (time-1) (to see if its from msvst_2d1d)\n",
    "    \n",
    "    return cube_wc_shift\n",
    "\n",
    "################################################\n",
    "def WavCleaning2D(cube_noisy_file,wc_file,command):\n",
    "    \"\"\"\n",
    "    Cube cleaning using wavelet transforms with mr_filter.\n",
    "    Returns : Cube cleaned\n",
    "    \"\"\"\n",
    "    \n",
    "    cmd='%s  %s %s %s '%(wave2D,command,cube_noisy_file,wc_file)\n",
    "    subprocess.call(cmd,shell=True)\n",
    "\n",
    "    #### Read wavelets cleaned cube file\n",
    "    cube_wc,header_wc = smart.ReadCubeFromFile(wc_file,'fits')\n",
    "    \n",
    "    return cube_wc\n",
    "#################################################\n",
    "def CreateAcceptance(flg,file):\n",
    "    \"flg = 0 : gaussian acceptance with width sigma_vig, flg = 1 interpolated acceptance from file\"\n",
    "    data = Table.read(filename=file,format=\"ascii\")\n",
    "    theta2 = data[\"theta2\"]\n",
    "    counts = data[\"counts\"]\n",
    "    Empirical = interpolate.interp1d(x=theta2,y=counts)\n",
    "    x = np.linspace(0, n2Dsize-1, n2Dsize)\n",
    "    y = np.linspace(0, n2Dsize-1, n2Dsize)\n",
    "    x,y = np.meshgrid(x, y)\n",
    "    Acceptance=np.empty((n2Dsize,n2Dsize))\n",
    "    xo,yo=n2Dsize//2,n2Dsize//2\n",
    "    \n",
    "    if flg==0:\n",
    "        Acceptance=np.exp( - ((x-xo)**2+(y-yo)**2)/(2*(sigma_vignetting/pixelsize)**2))\n",
    "    if flg==1:\n",
    "        theta2=((x-xo)**2+(y-yo)**2)*pixelsize**2\n",
    "        theta2[xo,yo]=1# Necessary to avoid an error related to the interpolation error when theta2=0\n",
    "        Acceptance=Empirical(theta2)\n",
    "        Acceptance[xo,yo]=1# correct the value at the center\n",
    "        #Acceptance=Empirical(((x-xo)**2+(y-yo)**2)*pixelsize**2+0.0002) : to use this we must add a small value cause the interpolation isn't defined in 0\n",
    "    return Acceptance\n"
   ]
  },
  {
   "cell_type": "markdown",
   "metadata": {
    "deletable": true,
    "editable": true
   },
   "source": [
    "# For performances"
   ]
  },
  {
   "cell_type": "code",
   "execution_count": 6,
   "metadata": {
    "collapsed": true,
    "deletable": true,
    "editable": true
   },
   "outputs": [],
   "source": [
    "def ArrValMedian(Arr_val,percent):\n",
    "    \"\"\"\n",
    "    Take an array or list, and gives the maximum value corresponding to the lowest (percent)% in all values.\\\n",
    "    Returns : Value\n",
    "    \"\"\"\n",
    "    \n",
    "    Arr_val = np.array(Arr_val)\n",
    "    Arr_valsort = np.sort(Arr_val)\n",
    "    Nth_val = int(percent*len(Arr_valsort))\n",
    "    Value=np.nan\n",
    "    if ~np.isnan(Arr_valsort[Nth_val-1]):\n",
    "        Arr=Arr_valsort#[:Nth_val]\n",
    "        Value=Arr[int(0.5*len(Arr))]#[:Nth_val]))]\n",
    "    \n",
    "    return Value"
   ]
  },
  {
   "cell_type": "code",
   "execution_count": 7,
   "metadata": {
    "collapsed": true,
    "deletable": true,
    "editable": true
   },
   "outputs": [],
   "source": [
    "def DetectorEff(xp,yp):\n",
    "    \"\"\"\n",
    "    Detector efficiency calculator at (xp,yp). Returns : Eff value \n",
    "    \"\"\"\n",
    "    \n",
    "    x = np.linspace(0, n2Dsize-1, n2Dsize)\n",
    "    y = np.linspace(0, n2Dsize-1, n2Dsize)\n",
    "    x,y = np.meshgrid(x, y)\n",
    "    \n",
    "    # Create vignetting to be applied to image and transcient signal\n",
    "    vign = smart.twoD_Gaussian(x, y, 1, n2Dsize/2,n2Dsize/2,\\\n",
    "                           sigma_vignetting/pixelsize, sigma_vignetting/pixelsize, 0, 0)\n",
    "    Eff = vign[xp,yp]\n",
    "    \n",
    "    return Eff"
   ]
  },
  {
   "cell_type": "markdown",
   "metadata": {
    "deletable": true,
    "editable": true
   },
   "source": [
    "# Instrument response function"
   ]
  },
  {
   "cell_type": "code",
   "execution_count": 8,
   "metadata": {
    "collapsed": false,
    "deletable": true,
    "editable": true,
    "scrolled": false
   },
   "outputs": [
    {
     "name": "stdout",
     "output_type": "stream",
     "text": [
      "0.081707796530727\n",
      "Instrument response function\n",
      "----------------------------\n",
      "  Field of view       :  4.5\n",
      "  Pixel size          :  0.1\n",
      "  N. of pixels        :  45 x 45\n",
      "  Mean CTA background :  0.04  (cts/s/pix, 50<E<500 GeV)\n"
     ]
    }
   ],
   "source": [
    "FOV               = 4.5    #width in degrees\n",
    "pixelsize         = 0.1   #in degrees\n",
    "n2Dsize           = int(FOV/pixelsize)\n",
    "sigma_vignetting  = 1.8    # (deg) from ctobssim\n",
    "ct95 = 0.2\n",
    "a = 0.95\n",
    "sigma_PSF         = smart.sigma_from_containment_radius(ct95,a)   # (deg) Since the psf isn't a gaussian, we use half of the 95% containement radius and the shape of a gaussian\n",
    "print(sigma_PSF)\n",
    "background        = 0.04    # cts/s/pixel in E=50-500 GeV at center of FoV. Tbin=10s bkg=0.1\n",
    "sigmaX, sigmaY   = float(sigma_PSF/pixelsize),  float(sigma_PSF/pixelsize) # Point like source\n",
    "Acceptance=CreateAcceptance(0,acceptance_file)\n",
    "\n",
    "print(\"Instrument response function\")\n",
    "print(\"----------------------------\")\n",
    "print(\"  Field of view       : \",FOV)\n",
    "print(\"  Pixel size          : \",pixelsize)\n",
    "print(\"  N. of pixels        : \",n2Dsize,\"x\",n2Dsize)\n",
    "print(\"  Mean CTA background : \",background,\" (cts/s/pix, 50<E<500 GeV)\")\n",
    "\n"
   ]
  },
  {
   "cell_type": "markdown",
   "metadata": {
    "deletable": true,
    "editable": true
   },
   "source": [
    "## For One Trial Analysis"
   ]
  },
  {
   "cell_type": "code",
   "execution_count": 73,
   "metadata": {
    "collapsed": true,
    "deletable": true,
    "editable": true
   },
   "outputs": [],
   "source": [
    "\n",
    "def ImageRingSignif(Image,meth,FactOffIn,FactOffOut,Xcenter,Ycenter,Theta):\n",
    "    \"\"\"\n",
    "    Returns the significance functions of a \"cube image\" knowing where is the source ; meth = 'lima', 'simple'\n",
    "    \"\"\"\n",
    "    \n",
    "    x = np.linspace(0,n2Dsize-1,n2Dsize)\n",
    "    y = np.linspace(0,n2Dsize-1,n2Dsize)\n",
    "    x,y = np.meshgrid(x, y)\n",
    "    \n",
    "    VignettingOut,VignettingOn = smart.SepSourceBkgImage(Acceptance,Xcenter,Ycenter,Theta)\n",
    "    VignettingOff = smart.MakeRingImage\\\n",
    "        (Acceptance,Xcenter,Ycenter,FactOffIn,FactOffOut,Theta)\n",
    "    MeanAcceptanceOn=np.nansum(VignettingOn)/np.size(VignettingOn[np.where(~np.isnan(VignettingOn))])\n",
    "    MeanAcceptanceOff=np.nansum(VignettingOff)/np.size(VignettingOff[np.where(~np.isnan(VignettingOff))])\n",
    "    \n",
    "    ImageOut,ImageOn = smart.SepSourceBkgImage(Image,Xcenter,Ycenter,Theta)\n",
    "    ImageOff = smart.MakeRingImage(Image,Xcenter,Ycenter,FactOffIn,FactOffOut,Theta)\n",
    "    \n",
    "    ton  = np.size(ImageOn[np.where(~np.isnan(ImageOn))])\n",
    "    toff = np.size(ImageOff[np.where(~np.isnan(ImageOff))])\n",
    "    alpha = (ton / toff)*(MeanAcceptanceOn / MeanAcceptanceOff)\n",
    "    \n",
    "    Non  = np.nansum(ImageOn)\n",
    "    Noff = np.nansum(ImageOff)\n",
    "    \n",
    "    Signif = significance_on_off(n_on=Non,n_off=Noff,alpha=alpha, method=meth)\n",
    "    return (Signif,Non,Noff,alpha)\n",
    "\n",
    "############################################\n",
    "\n",
    "def ImageReflectedSignif(Image,meth,XOn,YOn,Theta):\n",
    "    \"\"\"\n",
    "    Returns the significance functions of a \"cube image\" knowing where is the source ; meth = 'lima', 'simple'\n",
    "    \"\"\"\n",
    "    \n",
    "    ImageOut,ImageOn = smart.SepSourceBkgImage(Image,XOn,YOn,Theta)\n",
    "    Non = np.nansum(ImageOn)\n",
    "    Xcen = n2Dsize/2 ; Ycen = n2Dsize/2\n",
    "    DistOn = smart.ImageDistance(XOn,YOn,Xcen,Ycen)\n",
    "    FactOn=np.arctan2(YOn-Ycen,XOn-Xcen)\n",
    "    \n",
    "    d = 5 # distance between 2 circles' centers are 3xradius\n",
    "    radius = Theta\n",
    "    Circ = 2*np.pi*DistOn\n",
    "    NOffRegions = int(Circ/(d*radius))\n",
    "    ImageOff = {}\n",
    "    Noff = np.zeros(abs(NOffRegions))\n",
    "    for i in range(1,NOffRegions+1):  \n",
    "        Xnew = Xcen + DistOn*np.cos(FactOn+(i*2*np.pi/(NOffRegions+1)))\n",
    "        Ynew = Xcen + DistOn*np.sin(FactOn+(i*2*np.pi/(NOffRegions+1)))\n",
    "        ImageOut2,ImageOff[i] = smart.SepSourceBkgImage(Image,Xnew,Ynew,Theta)\n",
    "        Noff[i-1] = np.nansum(ImageOff[i])\n",
    "    if NOffRegions==0:\n",
    "        Signif=0\n",
    "        Alpha=np.nan\n",
    "    else:\n",
    "        Signif = significance_on_off(Non,np.nansum(Noff),alpha=1/NOffRegions,method=meth)\n",
    "        Alpha=1/NOffRegions\n",
    "    return (Signif,Non,np.nansum(Noff),Alpha)\n",
    "\n",
    "##############################################\n",
    "\n",
    "def Cube2DAnalyse(cube,T_new,method,xsrc,ysrc,factin=3/2,factout=5/2,Theta=float(ct95/pixelsize),cubemodel=0,cubebkgac=0,meth='lima',Tmaxbkg=60,Tminbkg=0,Tbinbkg=4):\n",
    "    \"\"\"\n",
    "    Input : cube (CUMULATED) ; cubebkgacfile or cubemodel (NOT CUMULATED) ; method = 'reflected','ring','ROI vs FOV','acquired bkg'; facton : determines the On area radius, r=facton*psf ; factin : for ring method determine the in-raidus ;\n",
    "    factout : dertmine th out-radius ; xsrc and ysrc give the source position (for relfected); Xtheta and Ytheta ; meth : significance_on_off gammapy parameter (lima or simple)\n",
    "    method = 'reflected','ring','ROI vs FOV','acquired bkg','model bkg'\n",
    "    \n",
    "    Default values :  factin = 3/2,factout = 5/2, xsrc,ysrc = n2Dsize/2,n2Dsize/2, Theta=float(containment radius 95/pixelsize), cubebkgacfile = './', meth='lima'\n",
    "    \"\"\"\n",
    "    \n",
    "    Signif,Non,Noff,Alpha = [],[],[],[]\n",
    "    \n",
    "    if method=='ring':\n",
    "        \n",
    "        for t in range(0,len(cube[0,0,:])):\n",
    "            Datas=ImageRingSignif(Image=cube[:,:,t],meth=meth,FactOffIn=factin,FactOffOut=factout,Xcenter=xsrc[t],Ycenter=ysrc[t],Theta=Theta)\n",
    "            Signif.append(Datas[0])\n",
    "            Non.append(Datas[1])\n",
    "            Noff.append(Datas[2])\n",
    "        Alpha = np.full(len(cube[0,0,:]),Datas[3])\n",
    "                \n",
    "    elif method=='reflected':\n",
    "                        \n",
    "        for t in range(0,len(cube[0,0,:])):\n",
    "            Datas=ImageReflectedSignif(cube[:,:,t],meth,xsrc[t],ysrc[t],Theta)\n",
    "            Signif.append(Datas[0])\n",
    "            Non.append(Datas[1])\n",
    "            Noff.append(Datas[2])\n",
    "        Alpha = np.full(len(cube[0,0,:]),Datas[3])\n",
    "        \n",
    "    elif method=='ROI vs FOV':\n",
    "        for t in range(0,len(cube[0,0,:])):\n",
    "            SourceOut,SourceIn = smart.SepSourceBkgImage(cube,xsrc[t],ysrc[t],Theta)\n",
    "            Non.append(np.nansum(SourceIn))\n",
    "            Noff.append(np.nansum(SourceOut))\n",
    "            Alpha.append(np.size(SourceIn[np.where(~np.isnan(SourceIn))])/np.size(SourceOut[np.where(~np.isnan(SourceOut))]))\n",
    "        for i in range(len(Noff)):\n",
    "            if Noff[i]!=0:\n",
    "                Signif.append(significance_on_off(n_on=Non[i],n_off=Noff[i],alpha=Alpha[i],method=meth))\n",
    "            else :\n",
    "                Signif.append(scipy.stats.norm.ppf(1-0.5*np.exp(-Non[i])))\n",
    "                    \n",
    "                        \n",
    "    elif method=='acquired bkg':\n",
    "        for t in range(0,len(cube[0,0,:])):                \n",
    "            SourceOut,SourceIn = smart.SepSourceBkgImage(cube,xsrc[t],ysrc[t],Theta)\n",
    "            BkgAcOut,BkgAcIn = smart.SepSourceBkgCube(cubebkgac,xsrc[t],ysrc[t],Theta)\n",
    "            Non.append(np.nansum(SourceIn[:,:,t]))\n",
    "            Noff.append(np.nansum(BkgAcIn))\n",
    "            Alpha.append((t+1)*(T_new[1]-T_new[0])/(TmaxBkg-Tminbkg))\n",
    "        Signif = significance_on_off(n_on=Non,n_off=Noff,alpha=Alpha,method=meth)\n",
    "        \n",
    "    elif method=='model bkg':\n",
    "        for t in range(0,len(cube[0,0,:])):                \n",
    "            SourceOut,SourceIn = smart.SepSourceBkgImage(cube,xsrc[t],ysrc[t],Theta)\n",
    "            BkgModelOut,BkgModelIn = smart.SepSourceBkgCube(cubemodel,xsrc[t],ysrc[t],Theta)\n",
    "            Non.append(np.nansum(SourceIn[:,:,t]))\n",
    "            Noff.append(np.nansum(BkgModelIn[:,:,:t]))\n",
    "        for i in range(len(T_new)):\n",
    "            Alpha.append(1)\n",
    "        Signif = significance(n_on=Non,mu_bkg=Noff)\n",
    "    \n",
    "    elif method=='no bkg':\n",
    "        for t in range(0,len(cube[0,0,:])):\n",
    "            SourceOut,SourceIn = smart.SepSourceBkgCube(cube,xsrc[t],ysrc[t],Theta)\n",
    "            Non.append(np.nansum(SourceIn[:,:,t]))\n",
    "            Noff.append(0)\n",
    "            Alpha.append(np.nan)\n",
    "        for i in range(len(Noff)):\n",
    "            if Non[i]>3:\n",
    "                Signif.append(100)\n",
    "            else:\n",
    "                Signif.append(0)\n",
    "                \n",
    "        #Signif.append(scipy.stats.norm.ppf(1-0.5*np.exp(-Non[i])))\n",
    "    Signif = np.array(Signif)\n",
    "    Non = np.array(Non)\n",
    "    Noff = np.array(Noff)\n",
    "    Alpha=np.array(Alpha)\n",
    "    return(Signif,Non,Noff,Alpha)\n",
    "\n",
    "##############################################\n",
    "\n",
    "\n",
    "def DiagnosticPlot(SigmaLim,T_new,LC_Src,Signif,Non,Noff,RealSignal,RealBackground,Alpha,shape):\n",
    "\n",
    "    limit=np.full(len(T_new),SigmaLim)\n",
    "    fig,ax=plt.subplots(6,figsize=shape)\n",
    "    ax[0].plot(T_new,Signif,label='LiMa on/off significance',color='forestgreen')\n",
    "    ax[0].plot(T_new,Signif,'.',color='forestgreen')\n",
    "    ax[0].plot(T_new,limit,'_',label='Sigma limit',color='black')\n",
    "    ax[0].legend()\n",
    "    ax[0].set_title('Significance',fontsize=18)\n",
    "    ax[1].plot(T_new,Non-Alpha*Noff,label='Signal',color='b')\n",
    "    ax[1].plot(T_new,Non-Alpha*Noff,'.',color='b')\n",
    "    ax[1].legend()\n",
    "    ax[1].set_title('Signal',fontsize=18)\n",
    "    ax[2].plot(T_new,RealSignal,label='Real Signal',color='black')\n",
    "    ax[2].plot(T_new,RealSignal,'.',color='black')\n",
    "    ax[2].legend()\n",
    "    ax[2].set_title('Real Signal',fontsize=18)\n",
    "    ax[3].plot(T_new,Alpha*Noff,label='Background',color='r')\n",
    "    ax[3].plot(T_new,Alpha*Noff,'.',color='r')\n",
    "    ax[3].legend()\n",
    "    ax[3].set_title('Background',fontsize=18)                \n",
    "    ax[4].plot(T_new,RealBkg,label='Real Bkg',color='black')\n",
    "    ax[4].plot(T_new,RealBkg,'.',color='black')\n",
    "    ax[4].legend()\n",
    "    ax[4].set_title('Real Background',fontsize=18)   \n",
    "    ax[5].plot(T_new,LC_Src,label='Injected signal',color='orange')\n",
    "    ax[5].plot(T_new,LC_Src,'.',color='orange')\n",
    "    ax[5].legend()\n",
    "    ax[5].set_title('Injected Signal',fontsize=18)\n",
    "    #ax[5].plot(T_new,Non,label='Non',color='green')\n",
    "    #ax[5].plot(T_new,Non,'.',color='green')\n",
    "    #ax[5].legend()\n",
    "    #ax[6].plot(T_new,Noff,label='Noff',color='green')\n",
    "    #ax[6].plot(T_new,Noff,'.',color='green')\n",
    "    #ax[6].legend()\n",
    "    #ax[7].plot(T_new,LC_Src,label='Injected signal',color='orange')\n",
    "    #ax[7].plot(T_new,LC_Src,'.',color='orange')\n",
    "    #ax[7].legend()\n",
    "    plt.tight_layout()\n",
    "    plt.show()\n",
    "    print('Alpha = ',Alpha)\n",
    "\n",
    "#######################################\n",
    "\n",
    "def SelectTimes(T_new,Signif,SignifMin,RedFact,N):\n",
    "    \"\"\"\n",
    "    Input : Time, Significance over time for one trial, significance threshold\n",
    "    Outpout : list of the times for which the significance is over the threshold\n",
    "    \"\"\"\n",
    "    t_min=[]\n",
    "    for i in range(N):\n",
    "        Sig=np.array(Signif[RedFact,i])\n",
    "        T=T_new[np.where(~np.isnan(Sig))]\n",
    "        S=Sig[np.where(~np.isnan(Sig))]\n",
    "        T_good = T[np.where(S>=SignifMin)]\n",
    "        if T_good.size > 0 : t_min.append(np.min(T_good))\n",
    "        else : t_min.append(np.float('nan'))\n",
    "    tmin_values = np.array(t_min)\n",
    "    \n",
    "    return(tmin_values)\n",
    "\n",
    "##########################################################################################\n",
    "\n",
    "def SearchMax(cube,meth='no smoothing',sigma_psf=sigma_PSF,pixelsize=pixelsize):\n",
    "    test=copy.deepcopy(cube)\n",
    "    index_max=np.empty((2,len(cube[0,0,:])))\n",
    "    if meth=='smoothing':\n",
    "        for i in range(np.shape(cube)[2]):\n",
    "            test[:,:,i]=convolve_fft(test[:,:,i],Gaussian2DKernel(sigma_psf/pixelsize))\n",
    "    for i in range(np.shape(cube)[2]):\n",
    "        index_temp=np.unravel_index(np.argmax(test[:,:,i]),np.shape(test[:,:,i]))##return (x_assessed,y_assessed)\n",
    "        index_max[0,i]=index_temp[0]\n",
    "        index_max[1,i]=index_temp[1]\n",
    "    return(index_max)\n",
    "                        "
   ]
  },
  {
   "cell_type": "code",
   "execution_count": 58,
   "metadata": {
    "collapsed": true,
    "deletable": true,
    "editable": true
   },
   "outputs": [],
   "source": [
    "## Plot 3D view of a Cube\n",
    "\n",
    "from __future__ import print_function\n",
    "from ipywidgets import interact, interactive, fixed, interact_manual\n",
    "import ipywidgets as widgets\n",
    "from mpl_toolkits.mplot3d import Axes3D\n",
    "\n",
    "\n",
    "def Plot3DImage(cube,time,theta_view,phi_view,n2Dsize,figuresize):\n",
    "    image=cube[:,:,np.where(time==T_new)[0][0]]\n",
    "    fig = plt.figure(figsize=figuresize)\n",
    "    ax = fig.add_subplot(111, projection='3d')\n",
    "    X=np.linspace(0,n2Dsize,n2Dsize)\n",
    "    Y=np.linspace(0,n2Dsize,n2Dsize)\n",
    "    X,Y=np.meshgrid(X,Y)\n",
    "    ax.plot_surface(X=X,Y=Y,Z=image,rstride=1, cstride=1,\n",
    "                cmap='viridis', edgecolor='none')\n",
    "    ax.view_init(theta_view,phi_view)\n",
    "    plt.show()\n",
    "    return\n",
    "\n",
    "#Plot3DImage(image=CubeC[1][:,:,-1],theta_view=25,phi_view=15)\n",
    "def Plot3DCubeInteractive(Cube,T_new,npixels,figuresize):\n",
    "    interact(Plot3DImage,cube=fixed(Cube),time=(T_new[0],T_new[-1],T_new[1]-T_new[0]),theta_view=widgets.IntSlider(min=0,max=90,step=5,value=20),phi_view=widgets.IntSlider(min=0,max=360,step=5,value=20),n2Dsize=fixed(npixels),figuresize=fixed(figuresize))\n"
   ]
  },
  {
   "cell_type": "markdown",
   "metadata": {
    "deletable": true,
    "editable": true
   },
   "source": [
    "# My Main"
   ]
  },
  {
   "cell_type": "markdown",
   "metadata": {
    "deletable": true,
    "editable": true
   },
   "source": [
    "# Make LC and cubes"
   ]
  },
  {
   "cell_type": "code",
   "execution_count": 59,
   "metadata": {
    "collapsed": true,
    "deletable": true,
    "editable": true,
    "scrolled": true
   },
   "outputs": [],
   "source": [
    "##################################\n",
    "# Create 3 LC choosing normalisation range (t_min_norm,t_max_norm) and value (Ntot_norm)\n",
    "# Each LC and time correspond to a name.\n",
    "# Timebin[name] = Tbin_input[name]\n",
    "# Time,LC_Values = T_input[name],LC_input[name]\n",
    "##################################\n",
    "\n",
    "LC_input,T_input,t_min_norm,t_max_norm = {},{},{},{} ; Tbin_input = {}\n",
    "\n",
    "#### Make theoretical LC\n",
    "Th_name = 'Theoretical'\n",
    "Tbin_input[Th_name] = 4\n",
    "xi   = -1.4\n",
    "t_min_Th = 30 ; t_0_Th = t_min_Th\n",
    "t_max_Th = 200\n",
    "Ntot_norm_Th = 953 # From Inoue (Bkg = 5)\n",
    "t_min_norm_Th = 35\n",
    "t_max_norm_Th = 55\n",
    "T_input[Th_name],LC_input[Th_name] =\\\n",
    "    MakeLCTh(Tbin_input[Th_name],xi,t_min_Th,t_max_Th,Ntot_norm_Th,t_min_norm_Th,t_max_norm_Th)\n",
    "\n",
    "#### Make LC from Fabio\n",
    "Fa_name = 'Fabio LC'\n",
    "TBin_Fa = 1\n",
    "Bin_Factor_Fa = 6\n",
    "Tbin_input[Fa_name] = TBin_Fa*Bin_Factor_Fa\n",
    "Ntot_norm_Fa = 200\n",
    "t_min_norm_Fa = 90\n",
    "t_max_norm_Fa = 110\n",
    "data_file_Fabio = input_dir+\"LAT-GRB130427.dat\"\n",
    "T_input[Fa_name],LC_input[Fa_name] =\\\n",
    "   MakeLCFa(data_file_Fabio,TBin_Fa,Bin_Factor_Fa,Ntot_norm_Fa,t_min_norm_Fa,t_max_norm_Fa)\n",
    "\n",
    "#### Make LC from Inoue\n",
    "In_name = 'Inoue LC'\n",
    "TBin_data_In = 0.5\n",
    "Bin_Factor_In = 8\n",
    "Tbin_input[In_name] = TBin_data_In*Bin_Factor_In\n",
    "Ntot_norm_In = 1115\n",
    "t_min_norm_In = 50\n",
    "t_max_norm_In = 94\n",
    "data_file_Inoue = input_dir+\"Inoue_LC_080916C.dat\"\n",
    "T_input[In_name],LC_input[In_name] =\\\n",
    "    MakeLCIn(data_file_Inoue,TBin_data_In,Bin_Factor_In,Ntot_norm_In,t_min_norm_In,t_max_norm_In)\n",
    "\n"
   ]
  },
  {
   "cell_type": "code",
   "execution_count": 60,
   "metadata": {
    "collapsed": false,
    "deletable": true,
    "editable": true,
    "scrolled": false
   },
   "outputs": [
    {
     "name": "stdout",
     "output_type": "stream",
     "text": [
      "[ 54  58  62  66  70  74  78  82  86  90  94  98 102 106 110 114 118 122\n",
      " 126 130 134 138 142 146 150 154 158 162 166 170 174]\n"
     ]
    }
   ],
   "source": [
    "##################################\n",
    "# Choose main parameters : Source position and values (list), steady source value, which LC from the 3.\n",
    "# Then select the differents timeranges from tnew_min until Tnew_max (array)\n",
    "# Get a dict containing a LC with different sizes\n",
    "##################################\n",
    "\n",
    "xcenter, ycenter = 22,22# Position Center of GRB on Image (px,px)\n",
    "SteadySourcePeak = 0. # Quiescent source - intensity\n",
    "RedFactList =[2]#[1,2,5,10,25,40,50,80,np.inf]#[0,0.01,0.02,0.03,0.04,0.05,0.06,0.07,0.08]#[0,0.005,0.0075,0.01,0.05,0.1];# print('Src factors = %s'%(RedFactList))\n",
    "#RedFactList      = [0.1,1]    # RedFactList has to be a list or a tuple # Source intensity factor\n",
    "\n",
    "name = Th_name # Th_name ; Fa_name ; In_name\n",
    "TimeInput = T_input[name]\n",
    "LCInput = LC_input[name]\n",
    "Bkg_input = Tbin_input[name]*background\n",
    "\n",
    "Tnew_min = 24 \n",
    "Tmax=174\n",
    "\n",
    "T_new,LC_new = {},{}\n",
    "T_new = TimeInput[np.where((TimeInput>=(TimeInput[0]+Tnew_min)) & (TimeInput<=Tmax))]\n",
    "LC_new = LCInput[np.where((TimeInput>=(TimeInput[0]+Tnew_min)) & (TimeInput<=Tmax))]\n",
    "print(T_new)\n",
    "\n",
    "#print('tmin = %ss, tmax values (s) = %s\\nTimebin = %s s'%(np.min(T_new[tmax]),Tnew_max,Tbin_input[name]))"
   ]
  },
  {
   "cell_type": "code",
   "execution_count": 61,
   "metadata": {
    "collapsed": true,
    "deletable": true,
    "editable": true
   },
   "outputs": [],
   "source": [
    "#### Create Cube bkg model, Cube acquired bkg and Cube source\n",
    "\n",
    "idbg = 0 # 0 create, 1 read\n",
    "\n",
    "Cube,CubeC = {},{}\n",
    "BkgReal,SignalReal={},{}\n",
    "BkgModel,BkgModelC = {},{}\n",
    "BkgModelFluc = {}\n",
    "BkgAc = {}\n",
    "Bkg={}\n",
    "TminBkg, TmaxBkg,TbinBkg = 0,60,Tbin_input[name]\n",
    "\n",
    "if idbg==0 :\n",
    "\n",
    "    for RedFact in RedFactList:\n",
    "    \n",
    "        BkgModel[RedFact] = BkgModelCube(T_new,TminBkg,TmaxBkg,TbinBkg,SteadySourcePeak,Bkg_input)\n",
    "        BkgAc[RedFact] = BkgAcCube(TminBkg,TmaxBkg,TbinBkg,SteadySourcePeak,Bkg_input)\n",
    "        BkgModelFluc[RedFact] = smart.NoiseCube(BkgModelCube(T_new,0,T_new[-1],TbinBkg,SteadySourcePeak,Bkg_input))\n",
    "        Image=ImageCube(LC_new,T_new,1/RedFact,xcenter,ycenter,SteadySourcePeak,Bkg_input)\n",
    "        Cube[RedFact],SignalReal[RedFact],BkgReal[RedFact] = Image[0],Image[1],Image[2]\n",
    "        \n",
    "        BkgModelC[RedFact] = smart.CumulCube(BkgModel[RedFact])\n",
    "        CubeC[RedFact] = smart.CumulCube(Cube[RedFact])\n",
    "\n",
    "        smart.WriteCubeToFile(BkgModel[RedFact],output_dir + 'BkgModel_OneTrial_%s.fits'%(RedFact),'')\n",
    "        smart.WriteCubeToFile(BkgAc[RedFact],output_dir + 'BkgAc_OneTrial_%s_min%i_max%i.fits'%(RedFact,TminBkg,TmaxBkg),'')\n",
    "        smart.WriteCubeToFile(BkgModelFluc[RedFact],output_dir + 'BkgModelFluc_OneTrial_%s.fits'%(RedFact),'')\n",
    "        smart.WriteCubeToFile(Cube[RedFact],output_dir + 'CubeSrc_OneTrial_%s.fits'%(RedFact),'')\n",
    "        smart.WriteCubeToFile(CubeC[RedFact],output_dir + 'CubeSrcC_OneTrial_%s.fits'%(RedFact),'')\n",
    "        smart.WriteCubeToFile(SignalReal[RedFact],output_dir + 'CubeSignalReal_OneTrial_%s.fits'%(RedFact),'')\n",
    "        smart.WriteCubeToFile(BkgReal[RedFact],output_dir + 'CubeBkgReal_OneTrial_%s.fits'%(RedFact),'')\n",
    "        \n",
    "        for t in T_new:\n",
    "\n",
    "            Bkgfile = output_dir + 'BkgModelFluc_OneTrial_%s_%i.fits'%(RedFact,t)\n",
    "            Cubefile = output_dir + 'CubeSrc_OneTrial_%s_%i.fits'%(RedFact,t)\n",
    "\n",
    "            k=np.int(np.where(T_new==t)[0])\n",
    "\n",
    "            Bkg_temp = BkgModelFluc[RedFact][:,:,:k+1]\n",
    "            smart.WriteCubeToFile(Bkg_temp,Bkgfile,'')\n",
    "\n",
    "            Cube_temp = np.nansum(Cube[RedFact][:,:,:k+1],axis=2)\n",
    "            smart.WriteCubeToFile(Cube_temp,Cubefile,'')\n",
    "        \n",
    "        \n",
    "elif idbg==1 :\n",
    "    \n",
    "    for RedFact in RedFactList:\n",
    "        \n",
    "        BkgModel[RedFact] = smart.ReadCubeFromFile(output_dir + 'BkgModel_OneTrial_%s.fits'%(RedFact),\"fits\")[0]\n",
    "        BkgAc[RedFact] = smart.ReadCubeFromFile(output_dir + 'BkgAc_OneTrial_%s_min%i_max%i.fits'%(RedFact,TminBkg,TmaxBkg),\"fits\")[0]\n",
    "        Cube[RedFact] = smart.ReadCubeFromFile(output_dir + 'CubeSrc_OneTrial_%s.fits'%(RedFact),\"fits\")[0]\n",
    "        BkgModelFluc[RedFact] = smart.ReadCubeFromFile(output_dir + 'BkgModelFluc_OneTrial_%s.fits'%(RedFact),\"fits\")[0]\n",
    "        \n",
    "        CubeC[RedFact] = smart.CumulCube(Cube[RedFact])\n",
    "        BkgModelC[RedFact] = smart.CumulCube(BkgModel[RedFact])\n",
    "        \n",
    "        "
   ]
  },
  {
   "cell_type": "markdown",
   "metadata": {
    "deletable": true,
    "editable": true
   },
   "source": [
    "## One Trial example"
   ]
  },
  {
   "cell_type": "code",
   "execution_count": 62,
   "metadata": {
    "collapsed": false,
    "deletable": true,
    "editable": true,
    "scrolled": false
   },
   "outputs": [
    {
     "name": "stdout",
     "output_type": "stream",
     "text": [
      "CPU times: user 46.5 ms, sys: 116 ms, total: 163 ms\n",
      "Wall time: 2.15 s\n"
     ]
    }
   ],
   "source": [
    "%%time\n",
    "idbg=0\n",
    "## Create wavelet filtered Cubes\n",
    "\n",
    "CommandList=['-n3 -m2 -P -k -s4.5 -K -C1 -F2 -v']#['-N1 -f3 -n4 -F1 -T -s5']\n",
    "\n",
    "if idbg==0 :\n",
    "    for RedFact in RedFactList:\n",
    "\n",
    "        for t in T_new:\n",
    "\n",
    "            Bkgfile = '' #output_dir + 'BkgModelFluc_OneTrial_%s_%i.fits'%(RedFact,t)\n",
    "            Cubefile = output_dir + 'CubeSrc_OneTrial_%s_%i.fits'%(RedFact,t)\n",
    "            p=0\n",
    "            for cmd in CommandList:\n",
    "\n",
    "                WCubefile = output_dir + 'WavCube_OneTrial_%s_%i_p%i.fits'%(RedFact,t,p)\n",
    "                CubeW = WavCleaning2D(Cubefile,WCubefile,cmd) \n",
    "                p+=1\n"
   ]
  },
  {
   "cell_type": "code",
   "execution_count": 74,
   "metadata": {
    "collapsed": false,
    "deletable": true,
    "editable": true
   },
   "outputs": [
    {
     "name": "stderr",
     "output_type": "stream",
     "text": [
      "/local/home/vheyraud/anaconda3/lib/python3.6/site-packages/gammapy/stats/poisson.py:253: RuntimeWarning: divide by zero encountered in true_divide\n",
      "  val = np.sqrt(2) * np.sqrt(n_on * np.log(n_on / mu_bkg) - n_on + mu_bkg)\n"
     ]
    }
   ],
   "source": [
    "## Recreate the uncumulated wavelet filtered cube and analyse\n",
    "idbg=0\n",
    "## Set parameters\n",
    "\n",
    "SignifMin = 3 ; Sigfact = 2\n",
    "\n",
    "# Ring method parameters\n",
    "\n",
    "FactIn = 2 # Circle radius : FactIn x sigmaPSF\n",
    "FactRingIn,FactRingOut = 3,5 # Ring borders distances from circle center\n",
    "\n",
    "# Reflected method parameters\n",
    "\n",
    "Sigfact = 2 # Circle radius : SigFact x sigmaPSF\n",
    "\n",
    "##\n",
    "WaveCube={}\n",
    "RingNon,ReflNon,ModelNon,AcNon,WaveNon = {},{},{},{},{}\n",
    "RingNoff,ReflNoff,ModelNoff,AcNoff,WaveNoff = {},{},{},{},{}\n",
    "RingAlpha,ReflAlpha,AcAlpha,ModelAlpha,WaveAlpha = {},{},{},{},{}\n",
    "RingSignif,ReflSignif,ModelSignif,AcSignif,WaveSignif = {},{},{},{},{}\n",
    "\n",
    "for RedFact in RedFactList:\n",
    "    \n",
    "    if idbg==0:\n",
    "        for p in range(len(CommandList)):\n",
    "    \n",
    "            #Base=smart.ReadCubeFromFile(output_dir + 'WavCube_OneTrial_%s_%i_p%i.fits'%(RedFact,T_new[-1],p),\"fits\")[0]\n",
    "            WaveCumulated,WaveCube[RedFact,p]=np.zeros(np.shape(Cube[RedFact])),np.zeros(np.shape(Cube[RedFact]))    \n",
    "    \n",
    "            for j in range(len(T_new)):\n",
    "    \n",
    "                cube_temp=smart.ReadCubeFromFile(output_dir + 'WavCube_OneTrial_%s_%i_p%i.fits'%(RedFact,T_new[j],p),\"fits\")[0]\n",
    "                WaveCumulated[:,:,j]=cube_temp#smart.CumulCube(cube_temp)[:,:,-1]\n",
    "    \n",
    "                if j>=1:\n",
    "                    WaveCube[RedFact,p][:,:,j]=WaveCumulated[:,:,j]-WaveCumulated[:,:,j-1]\n",
    "            #WaveCube[RedFact,p][np.where(WaveCube[RedFact,p]<0)]=0\n",
    "                    \n",
    "    \n",
    "            smart.WriteCubeToFile(WaveCube[RedFact,p],output_dir + 'WavCubeReconstructed_OneTrial_%s_p%i.fits'%(RedFact,p),'')\n",
    "    \n",
    "            ## Search maximum over the FOV\n",
    "            #index_max = SearchMax(CubeC[RedFact],meth='smoothing')\n",
    "            #x,y=index_max[0],index_max[1]\n",
    "            x,y=np.full(len(T_new),22),np.full(len(T_new),22)\n",
    "    \n",
    "            Wave = Cube2DAnalyse(smart.CumulCube(WaveCube[RedFact,p]),xsrc=x,ysrc=y,method='ROI vs FOV',T_new=T_new)      \n",
    "            WaveSignif[RedFact,p],WaveNon[RedFact,p],WaveNoff[RedFact,p],WaveAlpha[RedFact,p] = Wave[0],Wave[1],Wave[2],Wave[3]\n",
    "    \n",
    "    \n",
    "\n",
    "    \n",
    "    Ring = Cube2DAnalyse(CubeC[RedFact],T_new==T_new,method='ring',xsrc=x,ysrc=y)\n",
    "    RingSignif[RedFact],RingNon[RedFact],RingNoff[RedFact],RingAlpha[RedFact] = Ring[0],Ring[1],Ring[2],Ring[3]\n",
    "\n",
    "    #Refl = Cube2DAnalyse(CubeC[RedFact],T_new=T_new,method='reflected',xsrc=x,ysrc=y)             \n",
    "    #ReflSignif[RedFact],ReflNon[RedFact],ReflNoff[RedFact],ReflAlpha[RedFact] = Refl[0],Refl[1],Refl[2],Refl[3]\n",
    "\n",
    "    Model = Cube2DAnalyse(CubeC[RedFact],cubemodel=BkgModel[RedFact],T_new=T_new,method='model bkg',xsrc=x,ysrc=y)\n",
    "    ModelSignif[RedFact],ModelNon[RedFact],ModelNoff[RedFact],ModelAlpha[RedFact] = Model[0],Model[1],Model[2],Model[3]\n",
    "#\n",
    "    Ac = Cube2DAnalyse(CubeC[RedFact],cubebkgac=BkgAc[RedFact],T_new=T_new,method='acquired bkg',xsrc=x,ysrc=y)\n",
    "    AcSignif[RedFact],AcNon[RedFact],AcNoff[RedFact],AcAlpha[RedFact] = Ac[0],Ac[1],Ac[2],Ac[3]\n",
    "    "
   ]
  },
  {
   "cell_type": "markdown",
   "metadata": {
    "deletable": true,
    "editable": true
   },
   "source": [
    "## Plot of one trial"
   ]
  },
  {
   "cell_type": "code",
   "execution_count": 64,
   "metadata": {
    "collapsed": false,
    "deletable": true,
    "editable": true
   },
   "outputs": [
    {
     "data": {
      "image/png": "[encoded data removed]",
      "text/plain": [
       "<Figure size 720x504 with 1 Axes>"
      ]
     },
     "metadata": {},
     "output_type": "display_data"
    }
   ],
   "source": [
    "## Plot of an example\n",
    "RedFact=1\n",
    "LC_signal=smart.CubeLC(smart.CumulCube(smart.ReadCubeFromFile(output_dir+'CubeSignalReal_OneTrial_%s.fits'%(RedFact),fich_type=\"fits\")[0]))\n",
    "LC_bkg=smart.CubeLC(smart.CumulCube(smart.ReadCubeFromFile(output_dir+'CubeBkgReal_OneTrial_%s.fits'%(RedFact),\"fits\")[0]))\n",
    "\n",
    "fig=plt.figure(figsize=(10,7))\n",
    "ax=plt.axes()\n",
    "ax.plot(T_new,LC_signal,label='Signal')\n",
    "ax.plot(T_new,LC_bkg,label='Background')\n",
    "ax.set_ylabel('Counts')\n",
    "ax.set_xlabel('Observation duration (s)')\n",
    "plt.legend()\n",
    "plt.savefig('./Signal_and_bkg_evolution.png')\n"
   ]
  },
  {
   "cell_type": "code",
   "execution_count": 75,
   "metadata": {
    "collapsed": false,
    "deletable": true,
    "editable": true,
    "scrolled": false
   },
   "outputs": [
    {
     "data": {
      "image/png": "[encoded data removed]",
      "text/plain": [
       "<Figure size 864x2160 with 6 Axes>"
      ]
     },
     "metadata": {},
     "output_type": "display_data"
    },
    {
     "name": "stdout",
     "output_type": "stream",
     "text": [
      "Alpha =  [1 1 1 1 1 1 1 1 1 1 1 1 1 1 1 1 1 1 1 1 1 1 1 1 1 1 1 1 1 1 1]\n"
     ]
    }
   ],
   "source": [
    "##Diagnostic Plot\n",
    "\n",
    "RedFact=2\n",
    "\n",
    "p=0\n",
    "\n",
    "\n",
    "#Signif,Non,Noff,Alpha=ReflectedSignif[RedFact],ReflectedNon[RedFact],ReflectedNoff[RedFact],ReflectedAlpha[RedFact]\n",
    "#Signif,Non,Noff,Alpha=RingSignif[RedFact],RingNon[RedFact],RingNoff[RedFact],RingAlpha[RedFact]\n",
    "#Signif,Non,Noff,Alpha=AcSignif[RedFact],AcNon[RedFact],AcNoff[RedFact],AcAlpha[RedFact]\n",
    "Signif,Non,Noff,Alpha=ModelSignif[RedFact],ModelNon[RedFact],ModelNoff[RedFact],ModelAlpha[RedFact]\n",
    "#Signif,Non,Noff,Alpha=WaveSignif[RedFact,p],WaveNon[RedFact,p],WaveNoff[RedFact,p],WaveAlpha[RedFact,p]\n",
    "\n",
    "#print('Command = %s, RedFact = %f'%(CommandList[p],RedFact))\n",
    "\n",
    "LC=smart.CubeLC(smart.CumulCube(smart.CreateSignalModelCube(LC_new,RedFact,xcenter,ycenter,sigmaX,sigmaY,n2Dsize,pixelsize,Acceptance)))\n",
    "RealSignal=smart.CubeLC(smart.CumulCube(smart.ReadCubeFromFile(output_dir + 'CubeSignalReal_OneTrial_%s.fits'%(RedFact),\"fits\")[0]))\n",
    "RealBkgCube=smart.SepSourceBkgCube(Cube=smart.ReadCubeFromFile(output_dir + 'CubeBkgReal_OneTrial_%s.fits'%(RedFact),\"fits\")[0],\\\n",
    "                        x=n2Dsize/2,y=n2Dsize/2,theta=ct95/pixelsize)[1]\n",
    "RealBkg=smart.CubeLC(smart.CumulCube(RealBkgCube))\n",
    "\n",
    "shape=(12,30)\n",
    "DiagnosticPlot(SigmaLim=3,T_new=T_new,LC_Src=LC,Signif=Signif,Non=Non,Noff=Noff,Alpha=Alpha,RealSignal=RealSignal,RealBackground=RealBkg,shape=shape)"
   ]
  },
  {
   "cell_type": "markdown",
   "metadata": {
    "deletable": true,
    "editable": true
   },
   "source": [
    "## PyWI"
   ]
  },
  {
   "cell_type": "code",
   "execution_count": 112,
   "metadata": {
    "collapsed": false,
    "deletable": true,
    "editable": true
   },
   "outputs": [
    {
     "name": "stdout",
     "output_type": "stream",
     "text": [
      "\n"
     ]
    },
    {
     "data": {
      "application/vnd.jupyter.widget-view+json": {
       "model_id": "f0437446366c4618a37dd5a97d5b8658",
       "version_major": 2,
       "version_minor": 0
      },
      "text/plain": [
       "interactive(children=(IntSlider(value=114, description='tdisplay', max=174, min=54, step=4), Output()), _dom_c…"
      ]
     },
     "metadata": {},
     "output_type": "display_data"
    }
   ],
   "source": [
    "RedFact=50\n",
    "smart.PlotCubeImage(Tbin=4,cube_image=CubeC[RedFact],dbg=2,message='',t_diplay=T_new[-1],timearr=T_new)\n",
    "#help(pywi.processing.compositing.filter_with_starlet.clean_image)"
   ]
  },
  {
   "cell_type": "code",
   "execution_count": 115,
   "metadata": {
    "collapsed": false,
    "deletable": true,
    "editable": true,
    "scrolled": false
   },
   "outputs": [
    {
     "name": "stdout",
     "output_type": "stream",
     "text": [
      "Pywi\n",
      "\n"
     ]
    },
    {
     "data": {
      "application/vnd.jupyter.widget-view+json": {
       "model_id": "1488dac213c449f6a571d7a3a6604400",
       "version_major": 2,
       "version_minor": 0
      },
      "text/plain": [
       "interactive(children=(IntSlider(value=114, description='tdisplay', max=174, min=54, step=4), Output()), _dom_c…"
      ]
     },
     "metadata": {},
     "output_type": "display_data"
    },
    {
     "name": "stdout",
     "output_type": "stream",
     "text": [
      "plane 0\n",
      "\n"
     ]
    },
    {
     "data": {
      "application/vnd.jupyter.widget-view+json": {
       "model_id": "62ecff44e723470aafc8bf55da7ce989",
       "version_major": 2,
       "version_minor": 0
      },
      "text/plain": [
       "interactive(children=(IntSlider(value=114, description='tdisplay', max=174, min=54, step=4), Output()), _dom_c…"
      ]
     },
     "metadata": {},
     "output_type": "display_data"
    },
    {
     "name": "stdout",
     "output_type": "stream",
     "text": [
      "plane 1\n",
      "\n"
     ]
    },
    {
     "data": {
      "application/vnd.jupyter.widget-view+json": {
       "model_id": "27de346f532a4e8baed37d7006555cfd",
       "version_major": 2,
       "version_minor": 0
      },
      "text/plain": [
       "interactive(children=(IntSlider(value=114, description='tdisplay', max=174, min=54, step=4), Output()), _dom_c…"
      ]
     },
     "metadata": {},
     "output_type": "display_data"
    },
    {
     "name": "stdout",
     "output_type": "stream",
     "text": [
      "plane 2\n",
      "\n"
     ]
    },
    {
     "data": {
      "application/vnd.jupyter.widget-view+json": {
       "model_id": "a1be451ff0164e21b785e3f67d97b2a3",
       "version_major": 2,
       "version_minor": 0
      },
      "text/plain": [
       "interactive(children=(IntSlider(value=114, description='tdisplay', max=174, min=54, step=4), Output()), _dom_c…"
      ]
     },
     "metadata": {},
     "output_type": "display_data"
    },
    {
     "name": "stdout",
     "output_type": "stream",
     "text": [
      "Real Source\n",
      "\n"
     ]
    },
    {
     "data": {
      "application/vnd.jupyter.widget-view+json": {
       "model_id": "f6826085eaf6499882073091eda61b4d",
       "version_major": 2,
       "version_minor": 0
      },
      "text/plain": [
       "interactive(children=(IntSlider(value=114, description='tdisplay', max=174, min=54, step=4), Output()), _dom_c…"
      ]
     },
     "metadata": {},
     "output_type": "display_data"
    },
    {
     "name": "stdout",
     "output_type": "stream",
     "text": [
      "FOV\n",
      "\n"
     ]
    },
    {
     "data": {
      "application/vnd.jupyter.widget-view+json": {
       "model_id": "7805a10123164077aed160881d311727",
       "version_major": 2,
       "version_minor": 0
      },
      "text/plain": [
       "interactive(children=(IntSlider(value=114, description='tdisplay', max=174, min=54, step=4), Output()), _dom_c…"
      ]
     },
     "metadata": {},
     "output_type": "display_data"
    },
    {
     "data": {
      "image/png": "[encoded data removed]",
      "text/plain": [
       "<Figure size 1224x720 with 1 Axes>"
      ]
     },
     "metadata": {},
     "output_type": "display_data"
    }
   ],
   "source": [
    "RedFact=80\n",
    "\n",
    "\n",
    "shape=np.shape(Cube[RedFact])\n",
    "WaveFilt=np.zeros(shape)\n",
    "WaveTest0=np.zeros(shape)\n",
    "WaveTest1=np.zeros(shape)\n",
    "WaveTest2=np.zeros(shape)\n",
    "\n",
    "\n",
    "for i in range(len(T_new)):\n",
    "    img=CubeC[RedFact][:,:,i]\n",
    "    smart.WriteCubeToFile(cube=img,filename='./Wave2D.fits',hdr='')\n",
    "    wt_imgs = starlet.wavelet_transform(img, number_of_scales=3)\n",
    "    WaveFilt[:,:,i]=pywi.processing.compositing.filter_with_starlet.clean_image(img,type_of_filtering='ksigma_hard_filtering',\\\n",
    "                        filter_thresholds=[100,1],last_scale_treatment='mask',detect_only_positive_structures=True,kill_isolated_pixels=False)      \n",
    "    \n",
    "    #wt_imgs[0][np.where(WaveFilt[:,:,i]==0)]=0\n",
    "    #wt_imgs[1][np.where(WaveFilt[:,:,i]==0)]=0\n",
    "    #wt_imgs[2][np.where(WaveFilt[:,:,i]==0)]=0\n",
    "    #\n",
    "    WaveTest0[:,:,i]=wt_imgs[0]\n",
    "    WaveTest1[:,:,i]=wt_imgs[1]\n",
    "    WaveTest2[:,:,i]=wt_imgs[2]\n",
    "    #WavCleaning2D(command='-n4 -F2 -s3 -m2 -C1 -r -K -P -k -v',cube_noisy_file='./Wave2D.fits',wc_file='./Wave2D_Cleaned.fits')\n",
    "\n",
    "\n",
    "\n",
    "\n",
    "print('Pywi')\n",
    "#Plot3DCubeInteractive(Cube=WaveFilt,T_new=T_new,figuresize=(15,10),npixels=n2Dsize)\n",
    "smart.PlotCubeImage(Tbin=4,cube_image=WaveFilt,dbg=2,message='',t_diplay=T_new[-1],timearr=T_new)\n",
    "\n",
    "print('plane 0')\n",
    "#Plot3DCubeInteractive(Cube=WaveTest0,T_new=T_new,figuresize=(15,10),npixels=n2Dsize)\n",
    "smart.PlotCubeImage(Tbin=4,cube_image=WaveTest0,dbg=2,message='',t_diplay=T_new[-1],timearr=T_new)\n",
    "\n",
    "print('plane 1')\n",
    "#Plot3DCubeInteractive(Cube=WaveTest1,T_new=T_new,figuresize=(15,10),npixels=n2Dsize)\n",
    "smart.PlotCubeImage(Tbin=4,cube_image=WaveTest1,dbg=2,message='',t_diplay=T_new[-1],timearr=T_new)\n",
    "\n",
    "print('plane 2')\n",
    "#Plot3DCubeInteractive(Cube=WaveTest2,T_new=T_new,figuresize=(15,10),npixels=n2Dsize)\n",
    "smart.PlotCubeImage(Tbin=4,cube_image=WaveTest2,dbg=2,message='',t_diplay=T_new[-1],timearr=T_new)\n",
    "\n",
    "print('Real Source')\n",
    "#Plot3DCubeInteractive(Cube=smart.CumulCube(smart.ReadCubeFromFile(output_dir + 'CubeSignalReal_OneTrial_%s.fits'%(RedFact),\"fits\")[0]),T_new=T_new,figuresize=(15,10),npixels=n2Dsize)\n",
    "smart.PlotCubeImage(Tbin=4,cube_image=smart.CumulCube(smart.ReadCubeFromFile(output_dir + 'CubeSignalReal_OneTrial_%s.fits'%(RedFact),\"fits\")[0]),dbg=2,message='',t_diplay=T_new[-1],timearr=T_new)\n",
    "print('FOV')\n",
    "#Plot3DCubeInteractive(Cube=CubeC[RedFact],T_new=T_new,figuresize=(15,10),npixels=n2Dsize)\n",
    "smart.PlotCubeImage(Tbin=4,cube_image=CubeC[RedFact],dbg=2,message='',t_diplay=T_new[-1],timearr=T_new)\n",
    "\n",
    "\n",
    "pixel_max=SearchMax(WaveFilt)\n",
    "x,y=np.full(len(T_new),22),np.full(len(T_new),22)\n",
    "\n",
    "\n",
    "\n",
    "Wave = Cube2DAnalyse(WaveFilt,method='ROI vs FOV',T_new=T_new,xsrc=x,ysrc=y)      \n",
    "SignifW,NonW,NoffW,AlphaW = Wave[0],Wave[1],Wave[2],Wave[3]\n",
    "Ring=Cube2DAnalyse(CubeC[RedFact],method='ring',T_new=T_new,xsrc=x,ysrc=y) \n",
    "Signif,Non,Noff,Alpha = Ring[0],Ring[1],Ring[2],Ring[3]\n",
    "\n",
    "\n",
    "LC=smart.CubeLC(smart.CumulCube(smart.CreateSignalModelCube(LC_new,RedFact,x[0],y[0],sigmaX,sigmaY,n2Dsize,pixelsize,Acceptance)))\n",
    "RealSignal=smart.CubeLC(smart.CumulCube(smart.ReadCubeFromFile(output_dir + 'CubeSignalReal_OneTrial_%s.fits'%(RedFact),\"fits\")[0]))\n",
    "RealBkgCube=smart.SepSourceBkgCube(Cube=smart.ReadCubeFromFile(output_dir + 'CubeBkgReal_OneTrial_%s.fits'%(RedFact),\"fits\")[0],theta=2,x=n2Dsize/2,y=n2Dsize/2)[1]\n",
    "RealBkg=smart.CubeLC(smart.CumulCube(RealBkgCube))\n",
    "\n",
    "\n",
    "shape=(15,30)\n",
    "fig,ax=plt.subplots(figsize=(17,10))\n",
    "ax.plot(T_new,abs(np.array(Wave[1])-np.array(Wave[3])*np.array(Wave[2])-RealSignal)/RealSignal,label='Wavelet distance to the real signal')\n",
    "ax.plot(T_new,abs(Ring[1]-Ring[3]*Ring[2]-RealSignal)/RealSignal,label='Ring distance to the real signal')\n",
    "ax.set_xlabel('observation time (s)')\n",
    "ax.set_ylabel('|Reconstructed signal - Real signal|/Real signal')\n",
    "ax.legend()\n",
    "plt.show()\n"
   ]
  },
  {
   "cell_type": "code",
   "execution_count": null,
   "metadata": {
    "collapsed": true,
    "deletable": true,
    "editable": true
   },
   "outputs": [],
   "source": []
  }
 ],
 "metadata": {
  "anaconda-cloud": {},
  "celltoolbar": "Attachments",
  "kernelspec": {
   "display_name": "Python 3",
   "language": "python",
   "name": "python3"
  },
  "language_info": {
   "codemirror_mode": {
    "name": "ipython",
    "version": 3
   },
   "file_extension": ".py",
   "mimetype": "text/x-python",
   "name": "python",
   "nbconvert_exporter": "python",
   "pygments_lexer": "ipython3",
   "version": "3.6.6"
  }
 },
 "nbformat": 4,
 "nbformat_minor": 1
}
